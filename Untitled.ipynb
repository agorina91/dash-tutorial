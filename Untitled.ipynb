{
 "cells": [
  {
   "cell_type": "code",
   "execution_count": 61,
   "metadata": {
    "ExecuteTime": {
     "end_time": "2019-10-03T04:22:29.182008Z",
     "start_time": "2019-10-03T04:22:29.174757Z"
    }
   },
   "outputs": [],
   "source": [
    "import pandas as pd\n",
    "import plotly.graph_objects as go\n",
    "import pickle"
   ]
  },
  {
   "cell_type": "code",
   "execution_count": 3,
   "metadata": {
    "ExecuteTime": {
     "end_time": "2019-10-03T01:53:06.634865Z",
     "start_time": "2019-10-03T01:53:06.615300Z"
    }
   },
   "outputs": [],
   "source": [
    "df = pd.read_csv('insta_yearly.csv')"
   ]
  },
  {
   "cell_type": "code",
   "execution_count": 4,
   "metadata": {
    "ExecuteTime": {
     "end_time": "2019-10-03T01:53:12.663801Z",
     "start_time": "2019-10-03T01:53:12.647914Z"
    }
   },
   "outputs": [
    {
     "data": {
      "text/html": [
       "<div>\n",
       "<style scoped>\n",
       "    .dataframe tbody tr th:only-of-type {\n",
       "        vertical-align: middle;\n",
       "    }\n",
       "\n",
       "    .dataframe tbody tr th {\n",
       "        vertical-align: top;\n",
       "    }\n",
       "\n",
       "    .dataframe thead th {\n",
       "        text-align: right;\n",
       "    }\n",
       "</style>\n",
       "<table border=\"1\" class=\"dataframe\">\n",
       "  <thead>\n",
       "    <tr style=\"text-align: right;\">\n",
       "      <th></th>\n",
       "      <th>Unnamed: 0</th>\n",
       "      <th>Monday</th>\n",
       "      <th>Tuesday</th>\n",
       "      <th>Wednesday</th>\n",
       "      <th>Thursday</th>\n",
       "      <th>Friday</th>\n",
       "      <th>Saturday</th>\n",
       "      <th>Sunday</th>\n",
       "    </tr>\n",
       "  </thead>\n",
       "  <tbody>\n",
       "    <tr>\n",
       "      <th>0</th>\n",
       "      <td>2018</td>\n",
       "      <td>93.0</td>\n",
       "      <td>37.0</td>\n",
       "      <td>26.0</td>\n",
       "      <td>67.0</td>\n",
       "      <td>35.0</td>\n",
       "      <td>51.0</td>\n",
       "      <td>20.0</td>\n",
       "    </tr>\n",
       "    <tr>\n",
       "      <th>1</th>\n",
       "      <td>2019</td>\n",
       "      <td>38.0</td>\n",
       "      <td>52.0</td>\n",
       "      <td>54.0</td>\n",
       "      <td>37.0</td>\n",
       "      <td>57.0</td>\n",
       "      <td>43.0</td>\n",
       "      <td>24.0</td>\n",
       "    </tr>\n",
       "  </tbody>\n",
       "</table>\n",
       "</div>"
      ],
      "text/plain": [
       "   Unnamed: 0  Monday  Tuesday  Wednesday  Thursday  Friday  Saturday  Sunday\n",
       "0        2018    93.0     37.0       26.0      67.0    35.0      51.0    20.0\n",
       "1        2019    38.0     52.0       54.0      37.0    57.0      43.0    24.0"
      ]
     },
     "execution_count": 4,
     "metadata": {},
     "output_type": "execute_result"
    }
   ],
   "source": [
    "df"
   ]
  },
  {
   "cell_type": "code",
   "execution_count": 6,
   "metadata": {
    "ExecuteTime": {
     "end_time": "2019-10-03T01:55:01.083861Z",
     "start_time": "2019-10-03T01:55:01.079648Z"
    }
   },
   "outputs": [],
   "source": [
    "df.set_index(df.iloc[:,0], drop = True, inplace = True)"
   ]
  },
  {
   "cell_type": "code",
   "execution_count": 8,
   "metadata": {
    "ExecuteTime": {
     "end_time": "2019-10-03T01:55:19.626811Z",
     "start_time": "2019-10-03T01:55:19.622601Z"
    }
   },
   "outputs": [],
   "source": [
    "df = df.iloc[:,1:]"
   ]
  },
  {
   "cell_type": "code",
   "execution_count": 9,
   "metadata": {
    "ExecuteTime": {
     "end_time": "2019-10-03T01:55:20.736211Z",
     "start_time": "2019-10-03T01:55:20.727221Z"
    }
   },
   "outputs": [
    {
     "data": {
      "text/html": [
       "<div>\n",
       "<style scoped>\n",
       "    .dataframe tbody tr th:only-of-type {\n",
       "        vertical-align: middle;\n",
       "    }\n",
       "\n",
       "    .dataframe tbody tr th {\n",
       "        vertical-align: top;\n",
       "    }\n",
       "\n",
       "    .dataframe thead th {\n",
       "        text-align: right;\n",
       "    }\n",
       "</style>\n",
       "<table border=\"1\" class=\"dataframe\">\n",
       "  <thead>\n",
       "    <tr style=\"text-align: right;\">\n",
       "      <th></th>\n",
       "      <th>Monday</th>\n",
       "      <th>Tuesday</th>\n",
       "      <th>Wednesday</th>\n",
       "      <th>Thursday</th>\n",
       "      <th>Friday</th>\n",
       "      <th>Saturday</th>\n",
       "      <th>Sunday</th>\n",
       "    </tr>\n",
       "    <tr>\n",
       "      <th>Unnamed: 0</th>\n",
       "      <th></th>\n",
       "      <th></th>\n",
       "      <th></th>\n",
       "      <th></th>\n",
       "      <th></th>\n",
       "      <th></th>\n",
       "      <th></th>\n",
       "    </tr>\n",
       "  </thead>\n",
       "  <tbody>\n",
       "    <tr>\n",
       "      <th>2018</th>\n",
       "      <td>93.0</td>\n",
       "      <td>37.0</td>\n",
       "      <td>26.0</td>\n",
       "      <td>67.0</td>\n",
       "      <td>35.0</td>\n",
       "      <td>51.0</td>\n",
       "      <td>20.0</td>\n",
       "    </tr>\n",
       "    <tr>\n",
       "      <th>2019</th>\n",
       "      <td>38.0</td>\n",
       "      <td>52.0</td>\n",
       "      <td>54.0</td>\n",
       "      <td>37.0</td>\n",
       "      <td>57.0</td>\n",
       "      <td>43.0</td>\n",
       "      <td>24.0</td>\n",
       "    </tr>\n",
       "  </tbody>\n",
       "</table>\n",
       "</div>"
      ],
      "text/plain": [
       "            Monday  Tuesday  Wednesday  Thursday  Friday  Saturday  Sunday\n",
       "Unnamed: 0                                                                \n",
       "2018          93.0     37.0       26.0      67.0    35.0      51.0    20.0\n",
       "2019          38.0     52.0       54.0      37.0    57.0      43.0    24.0"
      ]
     },
     "execution_count": 9,
     "metadata": {},
     "output_type": "execute_result"
    }
   ],
   "source": []
  },
  {
   "cell_type": "code",
   "execution_count": 15,
   "metadata": {
    "ExecuteTime": {
     "end_time": "2019-10-03T01:58:54.280713Z",
     "start_time": "2019-10-03T01:58:54.277374Z"
    }
   },
   "outputs": [],
   "source": [
    "year = 2019\n",
    "labels = df.columns\n",
    "values = df.loc[year].values"
   ]
  },
  {
   "cell_type": "code",
   "execution_count": 16,
   "metadata": {
    "ExecuteTime": {
     "end_time": "2019-10-03T01:58:55.282753Z",
     "start_time": "2019-10-03T01:58:55.167349Z"
    }
   },
   "outputs": [
    {
     "data": {
      "application/vnd.plotly.v1+json": {
       "config": {
        "plotlyServerURL": "https://plot.ly"
       },
       "data": [
        {
         "type": "bar",
         "x": [
          "Monday",
          "Tuesday",
          "Wednesday",
          "Thursday",
          "Friday",
          "Saturday",
          "Sunday"
         ],
         "y": [
          38,
          52,
          54,
          37,
          57,
          43,
          24
         ]
        }
       ],
       "layout": {
        "template": {
         "data": {
          "bar": [
           {
            "error_x": {
             "color": "#2a3f5f"
            },
            "error_y": {
             "color": "#2a3f5f"
            },
            "marker": {
             "line": {
              "color": "#E5ECF6",
              "width": 0.5
             }
            },
            "type": "bar"
           }
          ],
          "barpolar": [
           {
            "marker": {
             "line": {
              "color": "#E5ECF6",
              "width": 0.5
             }
            },
            "type": "barpolar"
           }
          ],
          "carpet": [
           {
            "aaxis": {
             "endlinecolor": "#2a3f5f",
             "gridcolor": "white",
             "linecolor": "white",
             "minorgridcolor": "white",
             "startlinecolor": "#2a3f5f"
            },
            "baxis": {
             "endlinecolor": "#2a3f5f",
             "gridcolor": "white",
             "linecolor": "white",
             "minorgridcolor": "white",
             "startlinecolor": "#2a3f5f"
            },
            "type": "carpet"
           }
          ],
          "choropleth": [
           {
            "colorbar": {
             "outlinewidth": 0,
             "ticks": ""
            },
            "type": "choropleth"
           }
          ],
          "contour": [
           {
            "colorbar": {
             "outlinewidth": 0,
             "ticks": ""
            },
            "colorscale": [
             [
              0,
              "#0d0887"
             ],
             [
              0.1111111111111111,
              "#46039f"
             ],
             [
              0.2222222222222222,
              "#7201a8"
             ],
             [
              0.3333333333333333,
              "#9c179e"
             ],
             [
              0.4444444444444444,
              "#bd3786"
             ],
             [
              0.5555555555555556,
              "#d8576b"
             ],
             [
              0.6666666666666666,
              "#ed7953"
             ],
             [
              0.7777777777777778,
              "#fb9f3a"
             ],
             [
              0.8888888888888888,
              "#fdca26"
             ],
             [
              1,
              "#f0f921"
             ]
            ],
            "type": "contour"
           }
          ],
          "contourcarpet": [
           {
            "colorbar": {
             "outlinewidth": 0,
             "ticks": ""
            },
            "type": "contourcarpet"
           }
          ],
          "heatmap": [
           {
            "colorbar": {
             "outlinewidth": 0,
             "ticks": ""
            },
            "colorscale": [
             [
              0,
              "#0d0887"
             ],
             [
              0.1111111111111111,
              "#46039f"
             ],
             [
              0.2222222222222222,
              "#7201a8"
             ],
             [
              0.3333333333333333,
              "#9c179e"
             ],
             [
              0.4444444444444444,
              "#bd3786"
             ],
             [
              0.5555555555555556,
              "#d8576b"
             ],
             [
              0.6666666666666666,
              "#ed7953"
             ],
             [
              0.7777777777777778,
              "#fb9f3a"
             ],
             [
              0.8888888888888888,
              "#fdca26"
             ],
             [
              1,
              "#f0f921"
             ]
            ],
            "type": "heatmap"
           }
          ],
          "heatmapgl": [
           {
            "colorbar": {
             "outlinewidth": 0,
             "ticks": ""
            },
            "colorscale": [
             [
              0,
              "#0d0887"
             ],
             [
              0.1111111111111111,
              "#46039f"
             ],
             [
              0.2222222222222222,
              "#7201a8"
             ],
             [
              0.3333333333333333,
              "#9c179e"
             ],
             [
              0.4444444444444444,
              "#bd3786"
             ],
             [
              0.5555555555555556,
              "#d8576b"
             ],
             [
              0.6666666666666666,
              "#ed7953"
             ],
             [
              0.7777777777777778,
              "#fb9f3a"
             ],
             [
              0.8888888888888888,
              "#fdca26"
             ],
             [
              1,
              "#f0f921"
             ]
            ],
            "type": "heatmapgl"
           }
          ],
          "histogram": [
           {
            "marker": {
             "colorbar": {
              "outlinewidth": 0,
              "ticks": ""
             }
            },
            "type": "histogram"
           }
          ],
          "histogram2d": [
           {
            "colorbar": {
             "outlinewidth": 0,
             "ticks": ""
            },
            "colorscale": [
             [
              0,
              "#0d0887"
             ],
             [
              0.1111111111111111,
              "#46039f"
             ],
             [
              0.2222222222222222,
              "#7201a8"
             ],
             [
              0.3333333333333333,
              "#9c179e"
             ],
             [
              0.4444444444444444,
              "#bd3786"
             ],
             [
              0.5555555555555556,
              "#d8576b"
             ],
             [
              0.6666666666666666,
              "#ed7953"
             ],
             [
              0.7777777777777778,
              "#fb9f3a"
             ],
             [
              0.8888888888888888,
              "#fdca26"
             ],
             [
              1,
              "#f0f921"
             ]
            ],
            "type": "histogram2d"
           }
          ],
          "histogram2dcontour": [
           {
            "colorbar": {
             "outlinewidth": 0,
             "ticks": ""
            },
            "colorscale": [
             [
              0,
              "#0d0887"
             ],
             [
              0.1111111111111111,
              "#46039f"
             ],
             [
              0.2222222222222222,
              "#7201a8"
             ],
             [
              0.3333333333333333,
              "#9c179e"
             ],
             [
              0.4444444444444444,
              "#bd3786"
             ],
             [
              0.5555555555555556,
              "#d8576b"
             ],
             [
              0.6666666666666666,
              "#ed7953"
             ],
             [
              0.7777777777777778,
              "#fb9f3a"
             ],
             [
              0.8888888888888888,
              "#fdca26"
             ],
             [
              1,
              "#f0f921"
             ]
            ],
            "type": "histogram2dcontour"
           }
          ],
          "mesh3d": [
           {
            "colorbar": {
             "outlinewidth": 0,
             "ticks": ""
            },
            "type": "mesh3d"
           }
          ],
          "parcoords": [
           {
            "line": {
             "colorbar": {
              "outlinewidth": 0,
              "ticks": ""
             }
            },
            "type": "parcoords"
           }
          ],
          "scatter": [
           {
            "marker": {
             "colorbar": {
              "outlinewidth": 0,
              "ticks": ""
             }
            },
            "type": "scatter"
           }
          ],
          "scatter3d": [
           {
            "line": {
             "colorbar": {
              "outlinewidth": 0,
              "ticks": ""
             }
            },
            "marker": {
             "colorbar": {
              "outlinewidth": 0,
              "ticks": ""
             }
            },
            "type": "scatter3d"
           }
          ],
          "scattercarpet": [
           {
            "marker": {
             "colorbar": {
              "outlinewidth": 0,
              "ticks": ""
             }
            },
            "type": "scattercarpet"
           }
          ],
          "scattergeo": [
           {
            "marker": {
             "colorbar": {
              "outlinewidth": 0,
              "ticks": ""
             }
            },
            "type": "scattergeo"
           }
          ],
          "scattergl": [
           {
            "marker": {
             "colorbar": {
              "outlinewidth": 0,
              "ticks": ""
             }
            },
            "type": "scattergl"
           }
          ],
          "scattermapbox": [
           {
            "marker": {
             "colorbar": {
              "outlinewidth": 0,
              "ticks": ""
             }
            },
            "type": "scattermapbox"
           }
          ],
          "scatterpolar": [
           {
            "marker": {
             "colorbar": {
              "outlinewidth": 0,
              "ticks": ""
             }
            },
            "type": "scatterpolar"
           }
          ],
          "scatterpolargl": [
           {
            "marker": {
             "colorbar": {
              "outlinewidth": 0,
              "ticks": ""
             }
            },
            "type": "scatterpolargl"
           }
          ],
          "scatterternary": [
           {
            "marker": {
             "colorbar": {
              "outlinewidth": 0,
              "ticks": ""
             }
            },
            "type": "scatterternary"
           }
          ],
          "surface": [
           {
            "colorbar": {
             "outlinewidth": 0,
             "ticks": ""
            },
            "colorscale": [
             [
              0,
              "#0d0887"
             ],
             [
              0.1111111111111111,
              "#46039f"
             ],
             [
              0.2222222222222222,
              "#7201a8"
             ],
             [
              0.3333333333333333,
              "#9c179e"
             ],
             [
              0.4444444444444444,
              "#bd3786"
             ],
             [
              0.5555555555555556,
              "#d8576b"
             ],
             [
              0.6666666666666666,
              "#ed7953"
             ],
             [
              0.7777777777777778,
              "#fb9f3a"
             ],
             [
              0.8888888888888888,
              "#fdca26"
             ],
             [
              1,
              "#f0f921"
             ]
            ],
            "type": "surface"
           }
          ],
          "table": [
           {
            "cells": {
             "fill": {
              "color": "#EBF0F8"
             },
             "line": {
              "color": "white"
             }
            },
            "header": {
             "fill": {
              "color": "#C8D4E3"
             },
             "line": {
              "color": "white"
             }
            },
            "type": "table"
           }
          ]
         },
         "layout": {
          "annotationdefaults": {
           "arrowcolor": "#2a3f5f",
           "arrowhead": 0,
           "arrowwidth": 1
          },
          "colorscale": {
           "diverging": [
            [
             0,
             "#8e0152"
            ],
            [
             0.1,
             "#c51b7d"
            ],
            [
             0.2,
             "#de77ae"
            ],
            [
             0.3,
             "#f1b6da"
            ],
            [
             0.4,
             "#fde0ef"
            ],
            [
             0.5,
             "#f7f7f7"
            ],
            [
             0.6,
             "#e6f5d0"
            ],
            [
             0.7,
             "#b8e186"
            ],
            [
             0.8,
             "#7fbc41"
            ],
            [
             0.9,
             "#4d9221"
            ],
            [
             1,
             "#276419"
            ]
           ],
           "sequential": [
            [
             0,
             "#0d0887"
            ],
            [
             0.1111111111111111,
             "#46039f"
            ],
            [
             0.2222222222222222,
             "#7201a8"
            ],
            [
             0.3333333333333333,
             "#9c179e"
            ],
            [
             0.4444444444444444,
             "#bd3786"
            ],
            [
             0.5555555555555556,
             "#d8576b"
            ],
            [
             0.6666666666666666,
             "#ed7953"
            ],
            [
             0.7777777777777778,
             "#fb9f3a"
            ],
            [
             0.8888888888888888,
             "#fdca26"
            ],
            [
             1,
             "#f0f921"
            ]
           ],
           "sequentialminus": [
            [
             0,
             "#0d0887"
            ],
            [
             0.1111111111111111,
             "#46039f"
            ],
            [
             0.2222222222222222,
             "#7201a8"
            ],
            [
             0.3333333333333333,
             "#9c179e"
            ],
            [
             0.4444444444444444,
             "#bd3786"
            ],
            [
             0.5555555555555556,
             "#d8576b"
            ],
            [
             0.6666666666666666,
             "#ed7953"
            ],
            [
             0.7777777777777778,
             "#fb9f3a"
            ],
            [
             0.8888888888888888,
             "#fdca26"
            ],
            [
             1,
             "#f0f921"
            ]
           ]
          },
          "colorway": [
           "#636efa",
           "#EF553B",
           "#00cc96",
           "#ab63fa",
           "#FFA15A",
           "#19d3f3",
           "#FF6692",
           "#B6E880",
           "#FF97FF",
           "#FECB52"
          ],
          "font": {
           "color": "#2a3f5f"
          },
          "geo": {
           "bgcolor": "white",
           "lakecolor": "white",
           "landcolor": "#E5ECF6",
           "showlakes": true,
           "showland": true,
           "subunitcolor": "white"
          },
          "hoverlabel": {
           "align": "left"
          },
          "hovermode": "closest",
          "mapbox": {
           "style": "light"
          },
          "paper_bgcolor": "white",
          "plot_bgcolor": "#E5ECF6",
          "polar": {
           "angularaxis": {
            "gridcolor": "white",
            "linecolor": "white",
            "ticks": ""
           },
           "bgcolor": "#E5ECF6",
           "radialaxis": {
            "gridcolor": "white",
            "linecolor": "white",
            "ticks": ""
           }
          },
          "scene": {
           "xaxis": {
            "backgroundcolor": "#E5ECF6",
            "gridcolor": "white",
            "gridwidth": 2,
            "linecolor": "white",
            "showbackground": true,
            "ticks": "",
            "zerolinecolor": "white"
           },
           "yaxis": {
            "backgroundcolor": "#E5ECF6",
            "gridcolor": "white",
            "gridwidth": 2,
            "linecolor": "white",
            "showbackground": true,
            "ticks": "",
            "zerolinecolor": "white"
           },
           "zaxis": {
            "backgroundcolor": "#E5ECF6",
            "gridcolor": "white",
            "gridwidth": 2,
            "linecolor": "white",
            "showbackground": true,
            "ticks": "",
            "zerolinecolor": "white"
           }
          },
          "shapedefaults": {
           "line": {
            "color": "#2a3f5f"
           }
          },
          "ternary": {
           "aaxis": {
            "gridcolor": "white",
            "linecolor": "white",
            "ticks": ""
           },
           "baxis": {
            "gridcolor": "white",
            "linecolor": "white",
            "ticks": ""
           },
           "bgcolor": "#E5ECF6",
           "caxis": {
            "gridcolor": "white",
            "linecolor": "white",
            "ticks": ""
           }
          },
          "title": {
           "x": 0.05
          },
          "xaxis": {
           "automargin": true,
           "gridcolor": "white",
           "linecolor": "white",
           "ticks": "",
           "zerolinecolor": "white",
           "zerolinewidth": 2
          },
          "yaxis": {
           "automargin": true,
           "gridcolor": "white",
           "linecolor": "white",
           "ticks": "",
           "zerolinecolor": "white",
           "zerolinewidth": 2
          }
         }
        }
       }
      },
      "text/html": [
       "<div>\n",
       "        \n",
       "        \n",
       "            <div id=\"6b23fd04-3a8a-4bf5-be0f-74ffaba6f7e8\" class=\"plotly-graph-div\" style=\"height:525px; width:100%;\"></div>\n",
       "            <script type=\"text/javascript\">\n",
       "                require([\"plotly\"], function(Plotly) {\n",
       "                    window.PLOTLYENV=window.PLOTLYENV || {};\n",
       "                    \n",
       "                if (document.getElementById(\"6b23fd04-3a8a-4bf5-be0f-74ffaba6f7e8\")) {\n",
       "                    Plotly.newPlot(\n",
       "                        '6b23fd04-3a8a-4bf5-be0f-74ffaba6f7e8',\n",
       "                        [{\"type\": \"bar\", \"x\": [\"Monday\", \"Tuesday\", \"Wednesday\", \"Thursday\", \"Friday\", \"Saturday\", \"Sunday\"], \"y\": [38.0, 52.0, 54.0, 37.0, 57.0, 43.0, 24.0]}],\n",
       "                        {\"template\": {\"data\": {\"bar\": [{\"error_x\": {\"color\": \"#2a3f5f\"}, \"error_y\": {\"color\": \"#2a3f5f\"}, \"marker\": {\"line\": {\"color\": \"#E5ECF6\", \"width\": 0.5}}, \"type\": \"bar\"}], \"barpolar\": [{\"marker\": {\"line\": {\"color\": \"#E5ECF6\", \"width\": 0.5}}, \"type\": \"barpolar\"}], \"carpet\": [{\"aaxis\": {\"endlinecolor\": \"#2a3f5f\", \"gridcolor\": \"white\", \"linecolor\": \"white\", \"minorgridcolor\": \"white\", \"startlinecolor\": \"#2a3f5f\"}, \"baxis\": {\"endlinecolor\": \"#2a3f5f\", \"gridcolor\": \"white\", \"linecolor\": \"white\", \"minorgridcolor\": \"white\", \"startlinecolor\": \"#2a3f5f\"}, \"type\": \"carpet\"}], \"choropleth\": [{\"colorbar\": {\"outlinewidth\": 0, \"ticks\": \"\"}, \"type\": \"choropleth\"}], \"contour\": [{\"colorbar\": {\"outlinewidth\": 0, \"ticks\": \"\"}, \"colorscale\": [[0.0, \"#0d0887\"], [0.1111111111111111, \"#46039f\"], [0.2222222222222222, \"#7201a8\"], [0.3333333333333333, \"#9c179e\"], [0.4444444444444444, \"#bd3786\"], [0.5555555555555556, \"#d8576b\"], [0.6666666666666666, \"#ed7953\"], [0.7777777777777778, \"#fb9f3a\"], [0.8888888888888888, \"#fdca26\"], [1.0, \"#f0f921\"]], \"type\": \"contour\"}], \"contourcarpet\": [{\"colorbar\": {\"outlinewidth\": 0, \"ticks\": \"\"}, \"type\": \"contourcarpet\"}], \"heatmap\": [{\"colorbar\": {\"outlinewidth\": 0, \"ticks\": \"\"}, \"colorscale\": [[0.0, \"#0d0887\"], [0.1111111111111111, \"#46039f\"], [0.2222222222222222, \"#7201a8\"], [0.3333333333333333, \"#9c179e\"], [0.4444444444444444, \"#bd3786\"], [0.5555555555555556, \"#d8576b\"], [0.6666666666666666, \"#ed7953\"], [0.7777777777777778, \"#fb9f3a\"], [0.8888888888888888, \"#fdca26\"], [1.0, \"#f0f921\"]], \"type\": \"heatmap\"}], \"heatmapgl\": [{\"colorbar\": {\"outlinewidth\": 0, \"ticks\": \"\"}, \"colorscale\": [[0.0, \"#0d0887\"], [0.1111111111111111, \"#46039f\"], [0.2222222222222222, \"#7201a8\"], [0.3333333333333333, \"#9c179e\"], [0.4444444444444444, \"#bd3786\"], [0.5555555555555556, \"#d8576b\"], [0.6666666666666666, \"#ed7953\"], [0.7777777777777778, \"#fb9f3a\"], [0.8888888888888888, \"#fdca26\"], [1.0, \"#f0f921\"]], \"type\": \"heatmapgl\"}], \"histogram\": [{\"marker\": {\"colorbar\": {\"outlinewidth\": 0, \"ticks\": \"\"}}, \"type\": \"histogram\"}], \"histogram2d\": [{\"colorbar\": {\"outlinewidth\": 0, \"ticks\": \"\"}, \"colorscale\": [[0.0, \"#0d0887\"], [0.1111111111111111, \"#46039f\"], [0.2222222222222222, \"#7201a8\"], [0.3333333333333333, \"#9c179e\"], [0.4444444444444444, \"#bd3786\"], [0.5555555555555556, \"#d8576b\"], [0.6666666666666666, \"#ed7953\"], [0.7777777777777778, \"#fb9f3a\"], [0.8888888888888888, \"#fdca26\"], [1.0, \"#f0f921\"]], \"type\": \"histogram2d\"}], \"histogram2dcontour\": [{\"colorbar\": {\"outlinewidth\": 0, \"ticks\": \"\"}, \"colorscale\": [[0.0, \"#0d0887\"], [0.1111111111111111, \"#46039f\"], [0.2222222222222222, \"#7201a8\"], [0.3333333333333333, \"#9c179e\"], [0.4444444444444444, \"#bd3786\"], [0.5555555555555556, \"#d8576b\"], [0.6666666666666666, \"#ed7953\"], [0.7777777777777778, \"#fb9f3a\"], [0.8888888888888888, \"#fdca26\"], [1.0, \"#f0f921\"]], \"type\": \"histogram2dcontour\"}], \"mesh3d\": [{\"colorbar\": {\"outlinewidth\": 0, \"ticks\": \"\"}, \"type\": \"mesh3d\"}], \"parcoords\": [{\"line\": {\"colorbar\": {\"outlinewidth\": 0, \"ticks\": \"\"}}, \"type\": \"parcoords\"}], \"scatter\": [{\"marker\": {\"colorbar\": {\"outlinewidth\": 0, \"ticks\": \"\"}}, \"type\": \"scatter\"}], \"scatter3d\": [{\"line\": {\"colorbar\": {\"outlinewidth\": 0, \"ticks\": \"\"}}, \"marker\": {\"colorbar\": {\"outlinewidth\": 0, \"ticks\": \"\"}}, \"type\": \"scatter3d\"}], \"scattercarpet\": [{\"marker\": {\"colorbar\": {\"outlinewidth\": 0, \"ticks\": \"\"}}, \"type\": \"scattercarpet\"}], \"scattergeo\": [{\"marker\": {\"colorbar\": {\"outlinewidth\": 0, \"ticks\": \"\"}}, \"type\": \"scattergeo\"}], \"scattergl\": [{\"marker\": {\"colorbar\": {\"outlinewidth\": 0, \"ticks\": \"\"}}, \"type\": \"scattergl\"}], \"scattermapbox\": [{\"marker\": {\"colorbar\": {\"outlinewidth\": 0, \"ticks\": \"\"}}, \"type\": \"scattermapbox\"}], \"scatterpolar\": [{\"marker\": {\"colorbar\": {\"outlinewidth\": 0, \"ticks\": \"\"}}, \"type\": \"scatterpolar\"}], \"scatterpolargl\": [{\"marker\": {\"colorbar\": {\"outlinewidth\": 0, \"ticks\": \"\"}}, \"type\": \"scatterpolargl\"}], \"scatterternary\": [{\"marker\": {\"colorbar\": {\"outlinewidth\": 0, \"ticks\": \"\"}}, \"type\": \"scatterternary\"}], \"surface\": [{\"colorbar\": {\"outlinewidth\": 0, \"ticks\": \"\"}, \"colorscale\": [[0.0, \"#0d0887\"], [0.1111111111111111, \"#46039f\"], [0.2222222222222222, \"#7201a8\"], [0.3333333333333333, \"#9c179e\"], [0.4444444444444444, \"#bd3786\"], [0.5555555555555556, \"#d8576b\"], [0.6666666666666666, \"#ed7953\"], [0.7777777777777778, \"#fb9f3a\"], [0.8888888888888888, \"#fdca26\"], [1.0, \"#f0f921\"]], \"type\": \"surface\"}], \"table\": [{\"cells\": {\"fill\": {\"color\": \"#EBF0F8\"}, \"line\": {\"color\": \"white\"}}, \"header\": {\"fill\": {\"color\": \"#C8D4E3\"}, \"line\": {\"color\": \"white\"}}, \"type\": \"table\"}]}, \"layout\": {\"annotationdefaults\": {\"arrowcolor\": \"#2a3f5f\", \"arrowhead\": 0, \"arrowwidth\": 1}, \"colorscale\": {\"diverging\": [[0, \"#8e0152\"], [0.1, \"#c51b7d\"], [0.2, \"#de77ae\"], [0.3, \"#f1b6da\"], [0.4, \"#fde0ef\"], [0.5, \"#f7f7f7\"], [0.6, \"#e6f5d0\"], [0.7, \"#b8e186\"], [0.8, \"#7fbc41\"], [0.9, \"#4d9221\"], [1, \"#276419\"]], \"sequential\": [[0.0, \"#0d0887\"], [0.1111111111111111, \"#46039f\"], [0.2222222222222222, \"#7201a8\"], [0.3333333333333333, \"#9c179e\"], [0.4444444444444444, \"#bd3786\"], [0.5555555555555556, \"#d8576b\"], [0.6666666666666666, \"#ed7953\"], [0.7777777777777778, \"#fb9f3a\"], [0.8888888888888888, \"#fdca26\"], [1.0, \"#f0f921\"]], \"sequentialminus\": [[0.0, \"#0d0887\"], [0.1111111111111111, \"#46039f\"], [0.2222222222222222, \"#7201a8\"], [0.3333333333333333, \"#9c179e\"], [0.4444444444444444, \"#bd3786\"], [0.5555555555555556, \"#d8576b\"], [0.6666666666666666, \"#ed7953\"], [0.7777777777777778, \"#fb9f3a\"], [0.8888888888888888, \"#fdca26\"], [1.0, \"#f0f921\"]]}, \"colorway\": [\"#636efa\", \"#EF553B\", \"#00cc96\", \"#ab63fa\", \"#FFA15A\", \"#19d3f3\", \"#FF6692\", \"#B6E880\", \"#FF97FF\", \"#FECB52\"], \"font\": {\"color\": \"#2a3f5f\"}, \"geo\": {\"bgcolor\": \"white\", \"lakecolor\": \"white\", \"landcolor\": \"#E5ECF6\", \"showlakes\": true, \"showland\": true, \"subunitcolor\": \"white\"}, \"hoverlabel\": {\"align\": \"left\"}, \"hovermode\": \"closest\", \"mapbox\": {\"style\": \"light\"}, \"paper_bgcolor\": \"white\", \"plot_bgcolor\": \"#E5ECF6\", \"polar\": {\"angularaxis\": {\"gridcolor\": \"white\", \"linecolor\": \"white\", \"ticks\": \"\"}, \"bgcolor\": \"#E5ECF6\", \"radialaxis\": {\"gridcolor\": \"white\", \"linecolor\": \"white\", \"ticks\": \"\"}}, \"scene\": {\"xaxis\": {\"backgroundcolor\": \"#E5ECF6\", \"gridcolor\": \"white\", \"gridwidth\": 2, \"linecolor\": \"white\", \"showbackground\": true, \"ticks\": \"\", \"zerolinecolor\": \"white\"}, \"yaxis\": {\"backgroundcolor\": \"#E5ECF6\", \"gridcolor\": \"white\", \"gridwidth\": 2, \"linecolor\": \"white\", \"showbackground\": true, \"ticks\": \"\", \"zerolinecolor\": \"white\"}, \"zaxis\": {\"backgroundcolor\": \"#E5ECF6\", \"gridcolor\": \"white\", \"gridwidth\": 2, \"linecolor\": \"white\", \"showbackground\": true, \"ticks\": \"\", \"zerolinecolor\": \"white\"}}, \"shapedefaults\": {\"line\": {\"color\": \"#2a3f5f\"}}, \"ternary\": {\"aaxis\": {\"gridcolor\": \"white\", \"linecolor\": \"white\", \"ticks\": \"\"}, \"baxis\": {\"gridcolor\": \"white\", \"linecolor\": \"white\", \"ticks\": \"\"}, \"bgcolor\": \"#E5ECF6\", \"caxis\": {\"gridcolor\": \"white\", \"linecolor\": \"white\", \"ticks\": \"\"}}, \"title\": {\"x\": 0.05}, \"xaxis\": {\"automargin\": true, \"gridcolor\": \"white\", \"linecolor\": \"white\", \"ticks\": \"\", \"zerolinecolor\": \"white\", \"zerolinewidth\": 2}, \"yaxis\": {\"automargin\": true, \"gridcolor\": \"white\", \"linecolor\": \"white\", \"ticks\": \"\", \"zerolinecolor\": \"white\", \"zerolinewidth\": 2}}}},\n",
       "                        {\"responsive\": true}\n",
       "                    ).then(function(){\n",
       "                            \n",
       "var gd = document.getElementById('6b23fd04-3a8a-4bf5-be0f-74ffaba6f7e8');\n",
       "var x = new MutationObserver(function (mutations, observer) {{\n",
       "        var display = window.getComputedStyle(gd).display;\n",
       "        if (!display || display === 'none') {{\n",
       "            console.log([gd, 'removed!']);\n",
       "            Plotly.purge(gd);\n",
       "            observer.disconnect();\n",
       "        }}\n",
       "}});\n",
       "\n",
       "// Listen for the removal of the full notebook cells\n",
       "var notebookContainer = gd.closest('#notebook-container');\n",
       "if (notebookContainer) {{\n",
       "    x.observe(notebookContainer, {childList: true});\n",
       "}}\n",
       "\n",
       "// Listen for the clearing of the current output cell\n",
       "var outputEl = gd.closest('.output');\n",
       "if (outputEl) {{\n",
       "    x.observe(outputEl, {childList: true});\n",
       "}}\n",
       "\n",
       "                        })\n",
       "                };\n",
       "                });\n",
       "            </script>\n",
       "        </div>"
      ]
     },
     "metadata": {},
     "output_type": "display_data"
    }
   ],
   "source": [
    "fig = go.Figure([go.Bar(x = labels, y = values)])\n",
    "fig.show()"
   ]
  },
  {
   "cell_type": "code",
   "execution_count": 37,
   "metadata": {
    "ExecuteTime": {
     "end_time": "2019-10-03T02:07:35.753350Z",
     "start_time": "2019-10-03T02:07:35.663398Z"
    }
   },
   "outputs": [],
   "source": [
    "time = pd.read_csv('population_il_cities.csv')"
   ]
  },
  {
   "cell_type": "code",
   "execution_count": 38,
   "metadata": {
    "ExecuteTime": {
     "end_time": "2019-10-03T02:07:41.516996Z",
     "start_time": "2019-10-03T02:07:41.496895Z"
    }
   },
   "outputs": [
    {
     "data": {
      "text/html": [
       "<div>\n",
       "<style scoped>\n",
       "    .dataframe tbody tr th:only-of-type {\n",
       "        vertical-align: middle;\n",
       "    }\n",
       "\n",
       "    .dataframe tbody tr th {\n",
       "        vertical-align: top;\n",
       "    }\n",
       "\n",
       "    .dataframe thead th {\n",
       "        text-align: right;\n",
       "    }\n",
       "</style>\n",
       "<table border=\"1\" class=\"dataframe\">\n",
       "  <thead>\n",
       "    <tr style=\"text-align: right;\">\n",
       "      <th></th>\n",
       "      <th>Unnamed: 0</th>\n",
       "      <th>Abingdon city, Illinois</th>\n",
       "      <th>Addieville village, Illinois</th>\n",
       "      <th>Addison village, Illinois</th>\n",
       "      <th>Adeline village, Illinois</th>\n",
       "      <th>Albany village, Illinois</th>\n",
       "      <th>Albers village, Illinois</th>\n",
       "      <th>Albion city, Illinois</th>\n",
       "      <th>Aledo city, Illinois</th>\n",
       "      <th>Alexis village, Illinois</th>\n",
       "      <th>...</th>\n",
       "      <th>Worden village, Illinois</th>\n",
       "      <th>Worth village, Illinois</th>\n",
       "      <th>Wyanet village, Illinois</th>\n",
       "      <th>Wyoming city, Illinois</th>\n",
       "      <th>Xenia village, Illinois</th>\n",
       "      <th>Yale village, Illinois</th>\n",
       "      <th>Yates City village, Illinois</th>\n",
       "      <th>Yorkville city, Illinois</th>\n",
       "      <th>Zeigler city, Illinois</th>\n",
       "      <th>Zion city, Illinois</th>\n",
       "    </tr>\n",
       "  </thead>\n",
       "  <tbody>\n",
       "    <tr>\n",
       "      <th>0</th>\n",
       "      <td>2010-01-01 00:00:00</td>\n",
       "      <td>3286</td>\n",
       "      <td>252</td>\n",
       "      <td>37113</td>\n",
       "      <td>85</td>\n",
       "      <td>903</td>\n",
       "      <td>1183</td>\n",
       "      <td>1996</td>\n",
       "      <td>3640</td>\n",
       "      <td>830</td>\n",
       "      <td>...</td>\n",
       "      <td>1072</td>\n",
       "      <td>10798</td>\n",
       "      <td>984</td>\n",
       "      <td>1424</td>\n",
       "      <td>382</td>\n",
       "      <td>86</td>\n",
       "      <td>691</td>\n",
       "      <td>17041</td>\n",
       "      <td>1803</td>\n",
       "      <td>24421</td>\n",
       "    </tr>\n",
       "    <tr>\n",
       "      <th>1</th>\n",
       "      <td>2011-01-01 00:00:00</td>\n",
       "      <td>3272</td>\n",
       "      <td>253</td>\n",
       "      <td>37294</td>\n",
       "      <td>84</td>\n",
       "      <td>901</td>\n",
       "      <td>1185</td>\n",
       "      <td>1976</td>\n",
       "      <td>3617</td>\n",
       "      <td>828</td>\n",
       "      <td>...</td>\n",
       "      <td>1075</td>\n",
       "      <td>10831</td>\n",
       "      <td>977</td>\n",
       "      <td>1391</td>\n",
       "      <td>379</td>\n",
       "      <td>86</td>\n",
       "      <td>687</td>\n",
       "      <td>17295</td>\n",
       "      <td>1798</td>\n",
       "      <td>24383</td>\n",
       "    </tr>\n",
       "  </tbody>\n",
       "</table>\n",
       "<p>2 rows × 1299 columns</p>\n",
       "</div>"
      ],
      "text/plain": [
       "            Unnamed: 0  Abingdon city, Illinois  Addieville village, Illinois  \\\n",
       "0  2010-01-01 00:00:00                     3286                           252   \n",
       "1  2011-01-01 00:00:00                     3272                           253   \n",
       "\n",
       "   Addison village, Illinois  Adeline village, Illinois  \\\n",
       "0                      37113                         85   \n",
       "1                      37294                         84   \n",
       "\n",
       "   Albany village, Illinois  Albers village, Illinois  Albion city, Illinois  \\\n",
       "0                       903                      1183                   1996   \n",
       "1                       901                      1185                   1976   \n",
       "\n",
       "   Aledo city, Illinois  Alexis village, Illinois  ...  \\\n",
       "0                  3640                       830  ...   \n",
       "1                  3617                       828  ...   \n",
       "\n",
       "   Worden village, Illinois  Worth village, Illinois  \\\n",
       "0                      1072                    10798   \n",
       "1                      1075                    10831   \n",
       "\n",
       "   Wyanet village, Illinois  Wyoming city, Illinois  Xenia village, Illinois  \\\n",
       "0                       984                    1424                      382   \n",
       "1                       977                    1391                      379   \n",
       "\n",
       "   Yale village, Illinois  Yates City village, Illinois  \\\n",
       "0                      86                           691   \n",
       "1                      86                           687   \n",
       "\n",
       "   Yorkville city, Illinois  Zeigler city, Illinois  Zion city, Illinois  \n",
       "0                     17041                    1803                24421  \n",
       "1                     17295                    1798                24383  \n",
       "\n",
       "[2 rows x 1299 columns]"
      ]
     },
     "execution_count": 38,
     "metadata": {},
     "output_type": "execute_result"
    }
   ],
   "source": [
    "time.head(2)"
   ]
  },
  {
   "cell_type": "code",
   "execution_count": 39,
   "metadata": {
    "ExecuteTime": {
     "end_time": "2019-10-03T02:07:45.107795Z",
     "start_time": "2019-10-03T02:07:45.103384Z"
    }
   },
   "outputs": [],
   "source": [
    "time.set_index(time.iloc[:,0], drop = True, inplace = True)"
   ]
  },
  {
   "cell_type": "code",
   "execution_count": 41,
   "metadata": {
    "ExecuteTime": {
     "end_time": "2019-10-03T02:07:53.056118Z",
     "start_time": "2019-10-03T02:07:53.039877Z"
    }
   },
   "outputs": [
    {
     "data": {
      "text/html": [
       "<div>\n",
       "<style scoped>\n",
       "    .dataframe tbody tr th:only-of-type {\n",
       "        vertical-align: middle;\n",
       "    }\n",
       "\n",
       "    .dataframe tbody tr th {\n",
       "        vertical-align: top;\n",
       "    }\n",
       "\n",
       "    .dataframe thead th {\n",
       "        text-align: right;\n",
       "    }\n",
       "</style>\n",
       "<table border=\"1\" class=\"dataframe\">\n",
       "  <thead>\n",
       "    <tr style=\"text-align: right;\">\n",
       "      <th></th>\n",
       "      <th>Unnamed: 0</th>\n",
       "      <th>Abingdon city, Illinois</th>\n",
       "      <th>Addieville village, Illinois</th>\n",
       "      <th>Addison village, Illinois</th>\n",
       "      <th>Adeline village, Illinois</th>\n",
       "      <th>Albany village, Illinois</th>\n",
       "      <th>Albers village, Illinois</th>\n",
       "      <th>Albion city, Illinois</th>\n",
       "      <th>Aledo city, Illinois</th>\n",
       "      <th>Alexis village, Illinois</th>\n",
       "      <th>...</th>\n",
       "      <th>Worden village, Illinois</th>\n",
       "      <th>Worth village, Illinois</th>\n",
       "      <th>Wyanet village, Illinois</th>\n",
       "      <th>Wyoming city, Illinois</th>\n",
       "      <th>Xenia village, Illinois</th>\n",
       "      <th>Yale village, Illinois</th>\n",
       "      <th>Yates City village, Illinois</th>\n",
       "      <th>Yorkville city, Illinois</th>\n",
       "      <th>Zeigler city, Illinois</th>\n",
       "      <th>Zion city, Illinois</th>\n",
       "    </tr>\n",
       "    <tr>\n",
       "      <th>Unnamed: 0</th>\n",
       "      <th></th>\n",
       "      <th></th>\n",
       "      <th></th>\n",
       "      <th></th>\n",
       "      <th></th>\n",
       "      <th></th>\n",
       "      <th></th>\n",
       "      <th></th>\n",
       "      <th></th>\n",
       "      <th></th>\n",
       "      <th></th>\n",
       "      <th></th>\n",
       "      <th></th>\n",
       "      <th></th>\n",
       "      <th></th>\n",
       "      <th></th>\n",
       "      <th></th>\n",
       "      <th></th>\n",
       "      <th></th>\n",
       "      <th></th>\n",
       "      <th></th>\n",
       "    </tr>\n",
       "  </thead>\n",
       "  <tbody>\n",
       "    <tr>\n",
       "      <th>2010-01-01 00:00:00</th>\n",
       "      <td>2010-01-01 00:00:00</td>\n",
       "      <td>3286</td>\n",
       "      <td>252</td>\n",
       "      <td>37113</td>\n",
       "      <td>85</td>\n",
       "      <td>903</td>\n",
       "      <td>1183</td>\n",
       "      <td>1996</td>\n",
       "      <td>3640</td>\n",
       "      <td>830</td>\n",
       "      <td>...</td>\n",
       "      <td>1072</td>\n",
       "      <td>10798</td>\n",
       "      <td>984</td>\n",
       "      <td>1424</td>\n",
       "      <td>382</td>\n",
       "      <td>86</td>\n",
       "      <td>691</td>\n",
       "      <td>17041</td>\n",
       "      <td>1803</td>\n",
       "      <td>24421</td>\n",
       "    </tr>\n",
       "    <tr>\n",
       "      <th>2011-01-01 00:00:00</th>\n",
       "      <td>2011-01-01 00:00:00</td>\n",
       "      <td>3272</td>\n",
       "      <td>253</td>\n",
       "      <td>37294</td>\n",
       "      <td>84</td>\n",
       "      <td>901</td>\n",
       "      <td>1185</td>\n",
       "      <td>1976</td>\n",
       "      <td>3617</td>\n",
       "      <td>828</td>\n",
       "      <td>...</td>\n",
       "      <td>1075</td>\n",
       "      <td>10831</td>\n",
       "      <td>977</td>\n",
       "      <td>1391</td>\n",
       "      <td>379</td>\n",
       "      <td>86</td>\n",
       "      <td>687</td>\n",
       "      <td>17295</td>\n",
       "      <td>1798</td>\n",
       "      <td>24383</td>\n",
       "    </tr>\n",
       "  </tbody>\n",
       "</table>\n",
       "<p>2 rows × 1299 columns</p>\n",
       "</div>"
      ],
      "text/plain": [
       "                              Unnamed: 0  Abingdon city, Illinois  \\\n",
       "Unnamed: 0                                                          \n",
       "2010-01-01 00:00:00  2010-01-01 00:00:00                     3286   \n",
       "2011-01-01 00:00:00  2011-01-01 00:00:00                     3272   \n",
       "\n",
       "                     Addieville village, Illinois  Addison village, Illinois  \\\n",
       "Unnamed: 0                                                                     \n",
       "2010-01-01 00:00:00                           252                      37113   \n",
       "2011-01-01 00:00:00                           253                      37294   \n",
       "\n",
       "                     Adeline village, Illinois  Albany village, Illinois  \\\n",
       "Unnamed: 0                                                                 \n",
       "2010-01-01 00:00:00                         85                       903   \n",
       "2011-01-01 00:00:00                         84                       901   \n",
       "\n",
       "                     Albers village, Illinois  Albion city, Illinois  \\\n",
       "Unnamed: 0                                                             \n",
       "2010-01-01 00:00:00                      1183                   1996   \n",
       "2011-01-01 00:00:00                      1185                   1976   \n",
       "\n",
       "                     Aledo city, Illinois  Alexis village, Illinois  ...  \\\n",
       "Unnamed: 0                                                           ...   \n",
       "2010-01-01 00:00:00                  3640                       830  ...   \n",
       "2011-01-01 00:00:00                  3617                       828  ...   \n",
       "\n",
       "                     Worden village, Illinois  Worth village, Illinois  \\\n",
       "Unnamed: 0                                                               \n",
       "2010-01-01 00:00:00                      1072                    10798   \n",
       "2011-01-01 00:00:00                      1075                    10831   \n",
       "\n",
       "                     Wyanet village, Illinois  Wyoming city, Illinois  \\\n",
       "Unnamed: 0                                                              \n",
       "2010-01-01 00:00:00                       984                    1424   \n",
       "2011-01-01 00:00:00                       977                    1391   \n",
       "\n",
       "                     Xenia village, Illinois  Yale village, Illinois  \\\n",
       "Unnamed: 0                                                             \n",
       "2010-01-01 00:00:00                      382                      86   \n",
       "2011-01-01 00:00:00                      379                      86   \n",
       "\n",
       "                     Yates City village, Illinois  Yorkville city, Illinois  \\\n",
       "Unnamed: 0                                                                    \n",
       "2010-01-01 00:00:00                           691                     17041   \n",
       "2011-01-01 00:00:00                           687                     17295   \n",
       "\n",
       "                     Zeigler city, Illinois  Zion city, Illinois  \n",
       "Unnamed: 0                                                        \n",
       "2010-01-01 00:00:00                    1803                24421  \n",
       "2011-01-01 00:00:00                    1798                24383  \n",
       "\n",
       "[2 rows x 1299 columns]"
      ]
     },
     "execution_count": 41,
     "metadata": {},
     "output_type": "execute_result"
    }
   ],
   "source": [
    "time.head(2)"
   ]
  },
  {
   "cell_type": "code",
   "execution_count": 42,
   "metadata": {
    "ExecuteTime": {
     "end_time": "2019-10-03T02:07:55.547229Z",
     "start_time": "2019-10-03T02:07:55.543626Z"
    }
   },
   "outputs": [],
   "source": [
    "time = time.iloc[:,1:]"
   ]
  },
  {
   "cell_type": "code",
   "execution_count": 45,
   "metadata": {
    "ExecuteTime": {
     "end_time": "2019-10-03T02:08:33.283058Z",
     "start_time": "2019-10-03T02:08:33.278814Z"
    }
   },
   "outputs": [
    {
     "data": {
      "text/plain": [
       "[{'label': 'Abingdon city', 'value': 'Abingdon city, Illinois'},\n",
       " {'label': 'Addieville village', 'value': 'Addieville village, Illinois'},\n",
       " {'label': 'Addison village', 'value': 'Addison village, Illinois'}]"
      ]
     },
     "execution_count": 45,
     "metadata": {},
     "output_type": "execute_result"
    }
   ],
   "source": [
    "dropdown[:3]"
   ]
  },
  {
   "cell_type": "code",
   "execution_count": 46,
   "metadata": {
    "ExecuteTime": {
     "end_time": "2019-10-03T02:08:47.978743Z",
     "start_time": "2019-10-03T02:08:47.960941Z"
    }
   },
   "outputs": [
    {
     "data": {
      "text/html": [
       "<div>\n",
       "<style scoped>\n",
       "    .dataframe tbody tr th:only-of-type {\n",
       "        vertical-align: middle;\n",
       "    }\n",
       "\n",
       "    .dataframe tbody tr th {\n",
       "        vertical-align: top;\n",
       "    }\n",
       "\n",
       "    .dataframe thead th {\n",
       "        text-align: right;\n",
       "    }\n",
       "</style>\n",
       "<table border=\"1\" class=\"dataframe\">\n",
       "  <thead>\n",
       "    <tr style=\"text-align: right;\">\n",
       "      <th></th>\n",
       "      <th>Abingdon city, Illinois</th>\n",
       "      <th>Addieville village, Illinois</th>\n",
       "      <th>Addison village, Illinois</th>\n",
       "      <th>Adeline village, Illinois</th>\n",
       "      <th>Albany village, Illinois</th>\n",
       "      <th>Albers village, Illinois</th>\n",
       "      <th>Albion city, Illinois</th>\n",
       "      <th>Aledo city, Illinois</th>\n",
       "      <th>Alexis village, Illinois</th>\n",
       "      <th>Algonquin village, Illinois</th>\n",
       "      <th>...</th>\n",
       "      <th>Worden village, Illinois</th>\n",
       "      <th>Worth village, Illinois</th>\n",
       "      <th>Wyanet village, Illinois</th>\n",
       "      <th>Wyoming city, Illinois</th>\n",
       "      <th>Xenia village, Illinois</th>\n",
       "      <th>Yale village, Illinois</th>\n",
       "      <th>Yates City village, Illinois</th>\n",
       "      <th>Yorkville city, Illinois</th>\n",
       "      <th>Zeigler city, Illinois</th>\n",
       "      <th>Zion city, Illinois</th>\n",
       "    </tr>\n",
       "    <tr>\n",
       "      <th>Unnamed: 0</th>\n",
       "      <th></th>\n",
       "      <th></th>\n",
       "      <th></th>\n",
       "      <th></th>\n",
       "      <th></th>\n",
       "      <th></th>\n",
       "      <th></th>\n",
       "      <th></th>\n",
       "      <th></th>\n",
       "      <th></th>\n",
       "      <th></th>\n",
       "      <th></th>\n",
       "      <th></th>\n",
       "      <th></th>\n",
       "      <th></th>\n",
       "      <th></th>\n",
       "      <th></th>\n",
       "      <th></th>\n",
       "      <th></th>\n",
       "      <th></th>\n",
       "      <th></th>\n",
       "    </tr>\n",
       "  </thead>\n",
       "  <tbody>\n",
       "    <tr>\n",
       "      <th>2010-01-01 00:00:00</th>\n",
       "      <td>3286</td>\n",
       "      <td>252</td>\n",
       "      <td>37113</td>\n",
       "      <td>85</td>\n",
       "      <td>903</td>\n",
       "      <td>1183</td>\n",
       "      <td>1996</td>\n",
       "      <td>3640</td>\n",
       "      <td>830</td>\n",
       "      <td>30079</td>\n",
       "      <td>...</td>\n",
       "      <td>1072</td>\n",
       "      <td>10798</td>\n",
       "      <td>984</td>\n",
       "      <td>1424</td>\n",
       "      <td>382</td>\n",
       "      <td>86</td>\n",
       "      <td>691</td>\n",
       "      <td>17041</td>\n",
       "      <td>1803</td>\n",
       "      <td>24421</td>\n",
       "    </tr>\n",
       "    <tr>\n",
       "      <th>2011-01-01 00:00:00</th>\n",
       "      <td>3272</td>\n",
       "      <td>253</td>\n",
       "      <td>37294</td>\n",
       "      <td>84</td>\n",
       "      <td>901</td>\n",
       "      <td>1185</td>\n",
       "      <td>1976</td>\n",
       "      <td>3617</td>\n",
       "      <td>828</td>\n",
       "      <td>30027</td>\n",
       "      <td>...</td>\n",
       "      <td>1075</td>\n",
       "      <td>10831</td>\n",
       "      <td>977</td>\n",
       "      <td>1391</td>\n",
       "      <td>379</td>\n",
       "      <td>86</td>\n",
       "      <td>687</td>\n",
       "      <td>17295</td>\n",
       "      <td>1798</td>\n",
       "      <td>24383</td>\n",
       "    </tr>\n",
       "    <tr>\n",
       "      <th>2012-01-01 00:00:00</th>\n",
       "      <td>3242</td>\n",
       "      <td>253</td>\n",
       "      <td>37393</td>\n",
       "      <td>84</td>\n",
       "      <td>893</td>\n",
       "      <td>1175</td>\n",
       "      <td>1992</td>\n",
       "      <td>3578</td>\n",
       "      <td>825</td>\n",
       "      <td>29956</td>\n",
       "      <td>...</td>\n",
       "      <td>1067</td>\n",
       "      <td>10864</td>\n",
       "      <td>970</td>\n",
       "      <td>1369</td>\n",
       "      <td>379</td>\n",
       "      <td>86</td>\n",
       "      <td>683</td>\n",
       "      <td>17544</td>\n",
       "      <td>1789</td>\n",
       "      <td>24327</td>\n",
       "    </tr>\n",
       "    <tr>\n",
       "      <th>2013-01-01 00:00:00</th>\n",
       "      <td>3228</td>\n",
       "      <td>249</td>\n",
       "      <td>37483</td>\n",
       "      <td>83</td>\n",
       "      <td>891</td>\n",
       "      <td>1166</td>\n",
       "      <td>1980</td>\n",
       "      <td>3615</td>\n",
       "      <td>818</td>\n",
       "      <td>30394</td>\n",
       "      <td>...</td>\n",
       "      <td>1059</td>\n",
       "      <td>10880</td>\n",
       "      <td>964</td>\n",
       "      <td>1360</td>\n",
       "      <td>374</td>\n",
       "      <td>85</td>\n",
       "      <td>682</td>\n",
       "      <td>17832</td>\n",
       "      <td>1772</td>\n",
       "      <td>24340</td>\n",
       "    </tr>\n",
       "    <tr>\n",
       "      <th>2014-01-01 00:00:00</th>\n",
       "      <td>3217</td>\n",
       "      <td>247</td>\n",
       "      <td>37426</td>\n",
       "      <td>82</td>\n",
       "      <td>886</td>\n",
       "      <td>1164</td>\n",
       "      <td>1964</td>\n",
       "      <td>3571</td>\n",
       "      <td>816</td>\n",
       "      <td>30328</td>\n",
       "      <td>...</td>\n",
       "      <td>1057</td>\n",
       "      <td>10867</td>\n",
       "      <td>957</td>\n",
       "      <td>1335</td>\n",
       "      <td>371</td>\n",
       "      <td>85</td>\n",
       "      <td>678</td>\n",
       "      <td>18174</td>\n",
       "      <td>1765</td>\n",
       "      <td>24294</td>\n",
       "    </tr>\n",
       "  </tbody>\n",
       "</table>\n",
       "<p>5 rows × 1298 columns</p>\n",
       "</div>"
      ],
      "text/plain": [
       "                     Abingdon city, Illinois  Addieville village, Illinois  \\\n",
       "Unnamed: 0                                                                   \n",
       "2010-01-01 00:00:00                     3286                           252   \n",
       "2011-01-01 00:00:00                     3272                           253   \n",
       "2012-01-01 00:00:00                     3242                           253   \n",
       "2013-01-01 00:00:00                     3228                           249   \n",
       "2014-01-01 00:00:00                     3217                           247   \n",
       "\n",
       "                     Addison village, Illinois  Adeline village, Illinois  \\\n",
       "Unnamed: 0                                                                  \n",
       "2010-01-01 00:00:00                      37113                         85   \n",
       "2011-01-01 00:00:00                      37294                         84   \n",
       "2012-01-01 00:00:00                      37393                         84   \n",
       "2013-01-01 00:00:00                      37483                         83   \n",
       "2014-01-01 00:00:00                      37426                         82   \n",
       "\n",
       "                     Albany village, Illinois  Albers village, Illinois  \\\n",
       "Unnamed: 0                                                                \n",
       "2010-01-01 00:00:00                       903                      1183   \n",
       "2011-01-01 00:00:00                       901                      1185   \n",
       "2012-01-01 00:00:00                       893                      1175   \n",
       "2013-01-01 00:00:00                       891                      1166   \n",
       "2014-01-01 00:00:00                       886                      1164   \n",
       "\n",
       "                     Albion city, Illinois  Aledo city, Illinois  \\\n",
       "Unnamed: 0                                                         \n",
       "2010-01-01 00:00:00                   1996                  3640   \n",
       "2011-01-01 00:00:00                   1976                  3617   \n",
       "2012-01-01 00:00:00                   1992                  3578   \n",
       "2013-01-01 00:00:00                   1980                  3615   \n",
       "2014-01-01 00:00:00                   1964                  3571   \n",
       "\n",
       "                     Alexis village, Illinois  Algonquin village, Illinois  \\\n",
       "Unnamed: 0                                                                   \n",
       "2010-01-01 00:00:00                       830                        30079   \n",
       "2011-01-01 00:00:00                       828                        30027   \n",
       "2012-01-01 00:00:00                       825                        29956   \n",
       "2013-01-01 00:00:00                       818                        30394   \n",
       "2014-01-01 00:00:00                       816                        30328   \n",
       "\n",
       "                     ...  Worden village, Illinois  Worth village, Illinois  \\\n",
       "Unnamed: 0           ...                                                      \n",
       "2010-01-01 00:00:00  ...                      1072                    10798   \n",
       "2011-01-01 00:00:00  ...                      1075                    10831   \n",
       "2012-01-01 00:00:00  ...                      1067                    10864   \n",
       "2013-01-01 00:00:00  ...                      1059                    10880   \n",
       "2014-01-01 00:00:00  ...                      1057                    10867   \n",
       "\n",
       "                     Wyanet village, Illinois  Wyoming city, Illinois  \\\n",
       "Unnamed: 0                                                              \n",
       "2010-01-01 00:00:00                       984                    1424   \n",
       "2011-01-01 00:00:00                       977                    1391   \n",
       "2012-01-01 00:00:00                       970                    1369   \n",
       "2013-01-01 00:00:00                       964                    1360   \n",
       "2014-01-01 00:00:00                       957                    1335   \n",
       "\n",
       "                     Xenia village, Illinois  Yale village, Illinois  \\\n",
       "Unnamed: 0                                                             \n",
       "2010-01-01 00:00:00                      382                      86   \n",
       "2011-01-01 00:00:00                      379                      86   \n",
       "2012-01-01 00:00:00                      379                      86   \n",
       "2013-01-01 00:00:00                      374                      85   \n",
       "2014-01-01 00:00:00                      371                      85   \n",
       "\n",
       "                     Yates City village, Illinois  Yorkville city, Illinois  \\\n",
       "Unnamed: 0                                                                    \n",
       "2010-01-01 00:00:00                           691                     17041   \n",
       "2011-01-01 00:00:00                           687                     17295   \n",
       "2012-01-01 00:00:00                           683                     17544   \n",
       "2013-01-01 00:00:00                           682                     17832   \n",
       "2014-01-01 00:00:00                           678                     18174   \n",
       "\n",
       "                     Zeigler city, Illinois  Zion city, Illinois  \n",
       "Unnamed: 0                                                        \n",
       "2010-01-01 00:00:00                    1803                24421  \n",
       "2011-01-01 00:00:00                    1798                24383  \n",
       "2012-01-01 00:00:00                    1789                24327  \n",
       "2013-01-01 00:00:00                    1772                24340  \n",
       "2014-01-01 00:00:00                    1765                24294  \n",
       "\n",
       "[5 rows x 1298 columns]"
      ]
     },
     "execution_count": 46,
     "metadata": {},
     "output_type": "execute_result"
    }
   ],
   "source": [
    "time.head()"
   ]
  },
  {
   "cell_type": "code",
   "execution_count": 47,
   "metadata": {
    "ExecuteTime": {
     "end_time": "2019-10-03T02:12:03.688184Z",
     "start_time": "2019-10-03T02:12:03.096856Z"
    }
   },
   "outputs": [
    {
     "data": {
      "application/vnd.plotly.v1+json": {
       "config": {
        "plotlyServerURL": "https://plot.ly"
       },
       "data": [
        {
         "type": "scatter",
         "x": [
          "2010-01-01 00:00:00",
          "2011-01-01 00:00:00",
          "2012-01-01 00:00:00",
          "2013-01-01 00:00:00",
          "2014-01-01 00:00:00",
          "2015-01-01 00:00:00",
          "2016-01-01 00:00:00",
          "2017-01-01 00:00:00",
          "2018-01-01 00:00:00"
         ],
         "y": [
          3286,
          3272,
          3242,
          3228,
          3217,
          3176,
          3147,
          3124,
          3088
         ]
        }
       ],
       "layout": {
        "template": {
         "data": {
          "bar": [
           {
            "error_x": {
             "color": "#2a3f5f"
            },
            "error_y": {
             "color": "#2a3f5f"
            },
            "marker": {
             "line": {
              "color": "#E5ECF6",
              "width": 0.5
             }
            },
            "type": "bar"
           }
          ],
          "barpolar": [
           {
            "marker": {
             "line": {
              "color": "#E5ECF6",
              "width": 0.5
             }
            },
            "type": "barpolar"
           }
          ],
          "carpet": [
           {
            "aaxis": {
             "endlinecolor": "#2a3f5f",
             "gridcolor": "white",
             "linecolor": "white",
             "minorgridcolor": "white",
             "startlinecolor": "#2a3f5f"
            },
            "baxis": {
             "endlinecolor": "#2a3f5f",
             "gridcolor": "white",
             "linecolor": "white",
             "minorgridcolor": "white",
             "startlinecolor": "#2a3f5f"
            },
            "type": "carpet"
           }
          ],
          "choropleth": [
           {
            "colorbar": {
             "outlinewidth": 0,
             "ticks": ""
            },
            "type": "choropleth"
           }
          ],
          "contour": [
           {
            "colorbar": {
             "outlinewidth": 0,
             "ticks": ""
            },
            "colorscale": [
             [
              0,
              "#0d0887"
             ],
             [
              0.1111111111111111,
              "#46039f"
             ],
             [
              0.2222222222222222,
              "#7201a8"
             ],
             [
              0.3333333333333333,
              "#9c179e"
             ],
             [
              0.4444444444444444,
              "#bd3786"
             ],
             [
              0.5555555555555556,
              "#d8576b"
             ],
             [
              0.6666666666666666,
              "#ed7953"
             ],
             [
              0.7777777777777778,
              "#fb9f3a"
             ],
             [
              0.8888888888888888,
              "#fdca26"
             ],
             [
              1,
              "#f0f921"
             ]
            ],
            "type": "contour"
           }
          ],
          "contourcarpet": [
           {
            "colorbar": {
             "outlinewidth": 0,
             "ticks": ""
            },
            "type": "contourcarpet"
           }
          ],
          "heatmap": [
           {
            "colorbar": {
             "outlinewidth": 0,
             "ticks": ""
            },
            "colorscale": [
             [
              0,
              "#0d0887"
             ],
             [
              0.1111111111111111,
              "#46039f"
             ],
             [
              0.2222222222222222,
              "#7201a8"
             ],
             [
              0.3333333333333333,
              "#9c179e"
             ],
             [
              0.4444444444444444,
              "#bd3786"
             ],
             [
              0.5555555555555556,
              "#d8576b"
             ],
             [
              0.6666666666666666,
              "#ed7953"
             ],
             [
              0.7777777777777778,
              "#fb9f3a"
             ],
             [
              0.8888888888888888,
              "#fdca26"
             ],
             [
              1,
              "#f0f921"
             ]
            ],
            "type": "heatmap"
           }
          ],
          "heatmapgl": [
           {
            "colorbar": {
             "outlinewidth": 0,
             "ticks": ""
            },
            "colorscale": [
             [
              0,
              "#0d0887"
             ],
             [
              0.1111111111111111,
              "#46039f"
             ],
             [
              0.2222222222222222,
              "#7201a8"
             ],
             [
              0.3333333333333333,
              "#9c179e"
             ],
             [
              0.4444444444444444,
              "#bd3786"
             ],
             [
              0.5555555555555556,
              "#d8576b"
             ],
             [
              0.6666666666666666,
              "#ed7953"
             ],
             [
              0.7777777777777778,
              "#fb9f3a"
             ],
             [
              0.8888888888888888,
              "#fdca26"
             ],
             [
              1,
              "#f0f921"
             ]
            ],
            "type": "heatmapgl"
           }
          ],
          "histogram": [
           {
            "marker": {
             "colorbar": {
              "outlinewidth": 0,
              "ticks": ""
             }
            },
            "type": "histogram"
           }
          ],
          "histogram2d": [
           {
            "colorbar": {
             "outlinewidth": 0,
             "ticks": ""
            },
            "colorscale": [
             [
              0,
              "#0d0887"
             ],
             [
              0.1111111111111111,
              "#46039f"
             ],
             [
              0.2222222222222222,
              "#7201a8"
             ],
             [
              0.3333333333333333,
              "#9c179e"
             ],
             [
              0.4444444444444444,
              "#bd3786"
             ],
             [
              0.5555555555555556,
              "#d8576b"
             ],
             [
              0.6666666666666666,
              "#ed7953"
             ],
             [
              0.7777777777777778,
              "#fb9f3a"
             ],
             [
              0.8888888888888888,
              "#fdca26"
             ],
             [
              1,
              "#f0f921"
             ]
            ],
            "type": "histogram2d"
           }
          ],
          "histogram2dcontour": [
           {
            "colorbar": {
             "outlinewidth": 0,
             "ticks": ""
            },
            "colorscale": [
             [
              0,
              "#0d0887"
             ],
             [
              0.1111111111111111,
              "#46039f"
             ],
             [
              0.2222222222222222,
              "#7201a8"
             ],
             [
              0.3333333333333333,
              "#9c179e"
             ],
             [
              0.4444444444444444,
              "#bd3786"
             ],
             [
              0.5555555555555556,
              "#d8576b"
             ],
             [
              0.6666666666666666,
              "#ed7953"
             ],
             [
              0.7777777777777778,
              "#fb9f3a"
             ],
             [
              0.8888888888888888,
              "#fdca26"
             ],
             [
              1,
              "#f0f921"
             ]
            ],
            "type": "histogram2dcontour"
           }
          ],
          "mesh3d": [
           {
            "colorbar": {
             "outlinewidth": 0,
             "ticks": ""
            },
            "type": "mesh3d"
           }
          ],
          "parcoords": [
           {
            "line": {
             "colorbar": {
              "outlinewidth": 0,
              "ticks": ""
             }
            },
            "type": "parcoords"
           }
          ],
          "scatter": [
           {
            "marker": {
             "colorbar": {
              "outlinewidth": 0,
              "ticks": ""
             }
            },
            "type": "scatter"
           }
          ],
          "scatter3d": [
           {
            "line": {
             "colorbar": {
              "outlinewidth": 0,
              "ticks": ""
             }
            },
            "marker": {
             "colorbar": {
              "outlinewidth": 0,
              "ticks": ""
             }
            },
            "type": "scatter3d"
           }
          ],
          "scattercarpet": [
           {
            "marker": {
             "colorbar": {
              "outlinewidth": 0,
              "ticks": ""
             }
            },
            "type": "scattercarpet"
           }
          ],
          "scattergeo": [
           {
            "marker": {
             "colorbar": {
              "outlinewidth": 0,
              "ticks": ""
             }
            },
            "type": "scattergeo"
           }
          ],
          "scattergl": [
           {
            "marker": {
             "colorbar": {
              "outlinewidth": 0,
              "ticks": ""
             }
            },
            "type": "scattergl"
           }
          ],
          "scattermapbox": [
           {
            "marker": {
             "colorbar": {
              "outlinewidth": 0,
              "ticks": ""
             }
            },
            "type": "scattermapbox"
           }
          ],
          "scatterpolar": [
           {
            "marker": {
             "colorbar": {
              "outlinewidth": 0,
              "ticks": ""
             }
            },
            "type": "scatterpolar"
           }
          ],
          "scatterpolargl": [
           {
            "marker": {
             "colorbar": {
              "outlinewidth": 0,
              "ticks": ""
             }
            },
            "type": "scatterpolargl"
           }
          ],
          "scatterternary": [
           {
            "marker": {
             "colorbar": {
              "outlinewidth": 0,
              "ticks": ""
             }
            },
            "type": "scatterternary"
           }
          ],
          "surface": [
           {
            "colorbar": {
             "outlinewidth": 0,
             "ticks": ""
            },
            "colorscale": [
             [
              0,
              "#0d0887"
             ],
             [
              0.1111111111111111,
              "#46039f"
             ],
             [
              0.2222222222222222,
              "#7201a8"
             ],
             [
              0.3333333333333333,
              "#9c179e"
             ],
             [
              0.4444444444444444,
              "#bd3786"
             ],
             [
              0.5555555555555556,
              "#d8576b"
             ],
             [
              0.6666666666666666,
              "#ed7953"
             ],
             [
              0.7777777777777778,
              "#fb9f3a"
             ],
             [
              0.8888888888888888,
              "#fdca26"
             ],
             [
              1,
              "#f0f921"
             ]
            ],
            "type": "surface"
           }
          ],
          "table": [
           {
            "cells": {
             "fill": {
              "color": "#EBF0F8"
             },
             "line": {
              "color": "white"
             }
            },
            "header": {
             "fill": {
              "color": "#C8D4E3"
             },
             "line": {
              "color": "white"
             }
            },
            "type": "table"
           }
          ]
         },
         "layout": {
          "annotationdefaults": {
           "arrowcolor": "#2a3f5f",
           "arrowhead": 0,
           "arrowwidth": 1
          },
          "colorscale": {
           "diverging": [
            [
             0,
             "#8e0152"
            ],
            [
             0.1,
             "#c51b7d"
            ],
            [
             0.2,
             "#de77ae"
            ],
            [
             0.3,
             "#f1b6da"
            ],
            [
             0.4,
             "#fde0ef"
            ],
            [
             0.5,
             "#f7f7f7"
            ],
            [
             0.6,
             "#e6f5d0"
            ],
            [
             0.7,
             "#b8e186"
            ],
            [
             0.8,
             "#7fbc41"
            ],
            [
             0.9,
             "#4d9221"
            ],
            [
             1,
             "#276419"
            ]
           ],
           "sequential": [
            [
             0,
             "#0d0887"
            ],
            [
             0.1111111111111111,
             "#46039f"
            ],
            [
             0.2222222222222222,
             "#7201a8"
            ],
            [
             0.3333333333333333,
             "#9c179e"
            ],
            [
             0.4444444444444444,
             "#bd3786"
            ],
            [
             0.5555555555555556,
             "#d8576b"
            ],
            [
             0.6666666666666666,
             "#ed7953"
            ],
            [
             0.7777777777777778,
             "#fb9f3a"
            ],
            [
             0.8888888888888888,
             "#fdca26"
            ],
            [
             1,
             "#f0f921"
            ]
           ],
           "sequentialminus": [
            [
             0,
             "#0d0887"
            ],
            [
             0.1111111111111111,
             "#46039f"
            ],
            [
             0.2222222222222222,
             "#7201a8"
            ],
            [
             0.3333333333333333,
             "#9c179e"
            ],
            [
             0.4444444444444444,
             "#bd3786"
            ],
            [
             0.5555555555555556,
             "#d8576b"
            ],
            [
             0.6666666666666666,
             "#ed7953"
            ],
            [
             0.7777777777777778,
             "#fb9f3a"
            ],
            [
             0.8888888888888888,
             "#fdca26"
            ],
            [
             1,
             "#f0f921"
            ]
           ]
          },
          "colorway": [
           "#636efa",
           "#EF553B",
           "#00cc96",
           "#ab63fa",
           "#FFA15A",
           "#19d3f3",
           "#FF6692",
           "#B6E880",
           "#FF97FF",
           "#FECB52"
          ],
          "font": {
           "color": "#2a3f5f"
          },
          "geo": {
           "bgcolor": "white",
           "lakecolor": "white",
           "landcolor": "#E5ECF6",
           "showlakes": true,
           "showland": true,
           "subunitcolor": "white"
          },
          "hoverlabel": {
           "align": "left"
          },
          "hovermode": "closest",
          "mapbox": {
           "style": "light"
          },
          "paper_bgcolor": "white",
          "plot_bgcolor": "#E5ECF6",
          "polar": {
           "angularaxis": {
            "gridcolor": "white",
            "linecolor": "white",
            "ticks": ""
           },
           "bgcolor": "#E5ECF6",
           "radialaxis": {
            "gridcolor": "white",
            "linecolor": "white",
            "ticks": ""
           }
          },
          "scene": {
           "xaxis": {
            "backgroundcolor": "#E5ECF6",
            "gridcolor": "white",
            "gridwidth": 2,
            "linecolor": "white",
            "showbackground": true,
            "ticks": "",
            "zerolinecolor": "white"
           },
           "yaxis": {
            "backgroundcolor": "#E5ECF6",
            "gridcolor": "white",
            "gridwidth": 2,
            "linecolor": "white",
            "showbackground": true,
            "ticks": "",
            "zerolinecolor": "white"
           },
           "zaxis": {
            "backgroundcolor": "#E5ECF6",
            "gridcolor": "white",
            "gridwidth": 2,
            "linecolor": "white",
            "showbackground": true,
            "ticks": "",
            "zerolinecolor": "white"
           }
          },
          "shapedefaults": {
           "line": {
            "color": "#2a3f5f"
           }
          },
          "ternary": {
           "aaxis": {
            "gridcolor": "white",
            "linecolor": "white",
            "ticks": ""
           },
           "baxis": {
            "gridcolor": "white",
            "linecolor": "white",
            "ticks": ""
           },
           "bgcolor": "#E5ECF6",
           "caxis": {
            "gridcolor": "white",
            "linecolor": "white",
            "ticks": ""
           }
          },
          "title": {
           "x": 0.05
          },
          "xaxis": {
           "automargin": true,
           "gridcolor": "white",
           "linecolor": "white",
           "ticks": "",
           "zerolinecolor": "white",
           "zerolinewidth": 2
          },
          "yaxis": {
           "automargin": true,
           "gridcolor": "white",
           "linecolor": "white",
           "ticks": "",
           "zerolinecolor": "white",
           "zerolinewidth": 2
          }
         }
        }
       }
      },
      "text/html": [
       "<div>\n",
       "        \n",
       "        \n",
       "            <div id=\"0b12846c-cbbd-4a83-ba3a-0485cea2b7bc\" class=\"plotly-graph-div\" style=\"height:525px; width:100%;\"></div>\n",
       "            <script type=\"text/javascript\">\n",
       "                require([\"plotly\"], function(Plotly) {\n",
       "                    window.PLOTLYENV=window.PLOTLYENV || {};\n",
       "                    \n",
       "                if (document.getElementById(\"0b12846c-cbbd-4a83-ba3a-0485cea2b7bc\")) {\n",
       "                    Plotly.newPlot(\n",
       "                        '0b12846c-cbbd-4a83-ba3a-0485cea2b7bc',\n",
       "                        [{\"type\": \"scatter\", \"x\": [\"2010-01-01 00:00:00\", \"2011-01-01 00:00:00\", \"2012-01-01 00:00:00\", \"2013-01-01 00:00:00\", \"2014-01-01 00:00:00\", \"2015-01-01 00:00:00\", \"2016-01-01 00:00:00\", \"2017-01-01 00:00:00\", \"2018-01-01 00:00:00\"], \"y\": [3286, 3272, 3242, 3228, 3217, 3176, 3147, 3124, 3088]}],\n",
       "                        {\"template\": {\"data\": {\"bar\": [{\"error_x\": {\"color\": \"#2a3f5f\"}, \"error_y\": {\"color\": \"#2a3f5f\"}, \"marker\": {\"line\": {\"color\": \"#E5ECF6\", \"width\": 0.5}}, \"type\": \"bar\"}], \"barpolar\": [{\"marker\": {\"line\": {\"color\": \"#E5ECF6\", \"width\": 0.5}}, \"type\": \"barpolar\"}], \"carpet\": [{\"aaxis\": {\"endlinecolor\": \"#2a3f5f\", \"gridcolor\": \"white\", \"linecolor\": \"white\", \"minorgridcolor\": \"white\", \"startlinecolor\": \"#2a3f5f\"}, \"baxis\": {\"endlinecolor\": \"#2a3f5f\", \"gridcolor\": \"white\", \"linecolor\": \"white\", \"minorgridcolor\": \"white\", \"startlinecolor\": \"#2a3f5f\"}, \"type\": \"carpet\"}], \"choropleth\": [{\"colorbar\": {\"outlinewidth\": 0, \"ticks\": \"\"}, \"type\": \"choropleth\"}], \"contour\": [{\"colorbar\": {\"outlinewidth\": 0, \"ticks\": \"\"}, \"colorscale\": [[0.0, \"#0d0887\"], [0.1111111111111111, \"#46039f\"], [0.2222222222222222, \"#7201a8\"], [0.3333333333333333, \"#9c179e\"], [0.4444444444444444, \"#bd3786\"], [0.5555555555555556, \"#d8576b\"], [0.6666666666666666, \"#ed7953\"], [0.7777777777777778, \"#fb9f3a\"], [0.8888888888888888, \"#fdca26\"], [1.0, \"#f0f921\"]], \"type\": \"contour\"}], \"contourcarpet\": [{\"colorbar\": {\"outlinewidth\": 0, \"ticks\": \"\"}, \"type\": \"contourcarpet\"}], \"heatmap\": [{\"colorbar\": {\"outlinewidth\": 0, \"ticks\": \"\"}, \"colorscale\": [[0.0, \"#0d0887\"], [0.1111111111111111, \"#46039f\"], [0.2222222222222222, \"#7201a8\"], [0.3333333333333333, \"#9c179e\"], [0.4444444444444444, \"#bd3786\"], [0.5555555555555556, \"#d8576b\"], [0.6666666666666666, \"#ed7953\"], [0.7777777777777778, \"#fb9f3a\"], [0.8888888888888888, \"#fdca26\"], [1.0, \"#f0f921\"]], \"type\": \"heatmap\"}], \"heatmapgl\": [{\"colorbar\": {\"outlinewidth\": 0, \"ticks\": \"\"}, \"colorscale\": [[0.0, \"#0d0887\"], [0.1111111111111111, \"#46039f\"], [0.2222222222222222, \"#7201a8\"], [0.3333333333333333, \"#9c179e\"], [0.4444444444444444, \"#bd3786\"], [0.5555555555555556, \"#d8576b\"], [0.6666666666666666, \"#ed7953\"], [0.7777777777777778, \"#fb9f3a\"], [0.8888888888888888, \"#fdca26\"], [1.0, \"#f0f921\"]], \"type\": \"heatmapgl\"}], \"histogram\": [{\"marker\": {\"colorbar\": {\"outlinewidth\": 0, \"ticks\": \"\"}}, \"type\": \"histogram\"}], \"histogram2d\": [{\"colorbar\": {\"outlinewidth\": 0, \"ticks\": \"\"}, \"colorscale\": [[0.0, \"#0d0887\"], [0.1111111111111111, \"#46039f\"], [0.2222222222222222, \"#7201a8\"], [0.3333333333333333, \"#9c179e\"], [0.4444444444444444, \"#bd3786\"], [0.5555555555555556, \"#d8576b\"], [0.6666666666666666, \"#ed7953\"], [0.7777777777777778, \"#fb9f3a\"], [0.8888888888888888, \"#fdca26\"], [1.0, \"#f0f921\"]], \"type\": \"histogram2d\"}], \"histogram2dcontour\": [{\"colorbar\": {\"outlinewidth\": 0, \"ticks\": \"\"}, \"colorscale\": [[0.0, \"#0d0887\"], [0.1111111111111111, \"#46039f\"], [0.2222222222222222, \"#7201a8\"], [0.3333333333333333, \"#9c179e\"], [0.4444444444444444, \"#bd3786\"], [0.5555555555555556, \"#d8576b\"], [0.6666666666666666, \"#ed7953\"], [0.7777777777777778, \"#fb9f3a\"], [0.8888888888888888, \"#fdca26\"], [1.0, \"#f0f921\"]], \"type\": \"histogram2dcontour\"}], \"mesh3d\": [{\"colorbar\": {\"outlinewidth\": 0, \"ticks\": \"\"}, \"type\": \"mesh3d\"}], \"parcoords\": [{\"line\": {\"colorbar\": {\"outlinewidth\": 0, \"ticks\": \"\"}}, \"type\": \"parcoords\"}], \"scatter\": [{\"marker\": {\"colorbar\": {\"outlinewidth\": 0, \"ticks\": \"\"}}, \"type\": \"scatter\"}], \"scatter3d\": [{\"line\": {\"colorbar\": {\"outlinewidth\": 0, \"ticks\": \"\"}}, \"marker\": {\"colorbar\": {\"outlinewidth\": 0, \"ticks\": \"\"}}, \"type\": \"scatter3d\"}], \"scattercarpet\": [{\"marker\": {\"colorbar\": {\"outlinewidth\": 0, \"ticks\": \"\"}}, \"type\": \"scattercarpet\"}], \"scattergeo\": [{\"marker\": {\"colorbar\": {\"outlinewidth\": 0, \"ticks\": \"\"}}, \"type\": \"scattergeo\"}], \"scattergl\": [{\"marker\": {\"colorbar\": {\"outlinewidth\": 0, \"ticks\": \"\"}}, \"type\": \"scattergl\"}], \"scattermapbox\": [{\"marker\": {\"colorbar\": {\"outlinewidth\": 0, \"ticks\": \"\"}}, \"type\": \"scattermapbox\"}], \"scatterpolar\": [{\"marker\": {\"colorbar\": {\"outlinewidth\": 0, \"ticks\": \"\"}}, \"type\": \"scatterpolar\"}], \"scatterpolargl\": [{\"marker\": {\"colorbar\": {\"outlinewidth\": 0, \"ticks\": \"\"}}, \"type\": \"scatterpolargl\"}], \"scatterternary\": [{\"marker\": {\"colorbar\": {\"outlinewidth\": 0, \"ticks\": \"\"}}, \"type\": \"scatterternary\"}], \"surface\": [{\"colorbar\": {\"outlinewidth\": 0, \"ticks\": \"\"}, \"colorscale\": [[0.0, \"#0d0887\"], [0.1111111111111111, \"#46039f\"], [0.2222222222222222, \"#7201a8\"], [0.3333333333333333, \"#9c179e\"], [0.4444444444444444, \"#bd3786\"], [0.5555555555555556, \"#d8576b\"], [0.6666666666666666, \"#ed7953\"], [0.7777777777777778, \"#fb9f3a\"], [0.8888888888888888, \"#fdca26\"], [1.0, \"#f0f921\"]], \"type\": \"surface\"}], \"table\": [{\"cells\": {\"fill\": {\"color\": \"#EBF0F8\"}, \"line\": {\"color\": \"white\"}}, \"header\": {\"fill\": {\"color\": \"#C8D4E3\"}, \"line\": {\"color\": \"white\"}}, \"type\": \"table\"}]}, \"layout\": {\"annotationdefaults\": {\"arrowcolor\": \"#2a3f5f\", \"arrowhead\": 0, \"arrowwidth\": 1}, \"colorscale\": {\"diverging\": [[0, \"#8e0152\"], [0.1, \"#c51b7d\"], [0.2, \"#de77ae\"], [0.3, \"#f1b6da\"], [0.4, \"#fde0ef\"], [0.5, \"#f7f7f7\"], [0.6, \"#e6f5d0\"], [0.7, \"#b8e186\"], [0.8, \"#7fbc41\"], [0.9, \"#4d9221\"], [1, \"#276419\"]], \"sequential\": [[0.0, \"#0d0887\"], [0.1111111111111111, \"#46039f\"], [0.2222222222222222, \"#7201a8\"], [0.3333333333333333, \"#9c179e\"], [0.4444444444444444, \"#bd3786\"], [0.5555555555555556, \"#d8576b\"], [0.6666666666666666, \"#ed7953\"], [0.7777777777777778, \"#fb9f3a\"], [0.8888888888888888, \"#fdca26\"], [1.0, \"#f0f921\"]], \"sequentialminus\": [[0.0, \"#0d0887\"], [0.1111111111111111, \"#46039f\"], [0.2222222222222222, \"#7201a8\"], [0.3333333333333333, \"#9c179e\"], [0.4444444444444444, \"#bd3786\"], [0.5555555555555556, \"#d8576b\"], [0.6666666666666666, \"#ed7953\"], [0.7777777777777778, \"#fb9f3a\"], [0.8888888888888888, \"#fdca26\"], [1.0, \"#f0f921\"]]}, \"colorway\": [\"#636efa\", \"#EF553B\", \"#00cc96\", \"#ab63fa\", \"#FFA15A\", \"#19d3f3\", \"#FF6692\", \"#B6E880\", \"#FF97FF\", \"#FECB52\"], \"font\": {\"color\": \"#2a3f5f\"}, \"geo\": {\"bgcolor\": \"white\", \"lakecolor\": \"white\", \"landcolor\": \"#E5ECF6\", \"showlakes\": true, \"showland\": true, \"subunitcolor\": \"white\"}, \"hoverlabel\": {\"align\": \"left\"}, \"hovermode\": \"closest\", \"mapbox\": {\"style\": \"light\"}, \"paper_bgcolor\": \"white\", \"plot_bgcolor\": \"#E5ECF6\", \"polar\": {\"angularaxis\": {\"gridcolor\": \"white\", \"linecolor\": \"white\", \"ticks\": \"\"}, \"bgcolor\": \"#E5ECF6\", \"radialaxis\": {\"gridcolor\": \"white\", \"linecolor\": \"white\", \"ticks\": \"\"}}, \"scene\": {\"xaxis\": {\"backgroundcolor\": \"#E5ECF6\", \"gridcolor\": \"white\", \"gridwidth\": 2, \"linecolor\": \"white\", \"showbackground\": true, \"ticks\": \"\", \"zerolinecolor\": \"white\"}, \"yaxis\": {\"backgroundcolor\": \"#E5ECF6\", \"gridcolor\": \"white\", \"gridwidth\": 2, \"linecolor\": \"white\", \"showbackground\": true, \"ticks\": \"\", \"zerolinecolor\": \"white\"}, \"zaxis\": {\"backgroundcolor\": \"#E5ECF6\", \"gridcolor\": \"white\", \"gridwidth\": 2, \"linecolor\": \"white\", \"showbackground\": true, \"ticks\": \"\", \"zerolinecolor\": \"white\"}}, \"shapedefaults\": {\"line\": {\"color\": \"#2a3f5f\"}}, \"ternary\": {\"aaxis\": {\"gridcolor\": \"white\", \"linecolor\": \"white\", \"ticks\": \"\"}, \"baxis\": {\"gridcolor\": \"white\", \"linecolor\": \"white\", \"ticks\": \"\"}, \"bgcolor\": \"#E5ECF6\", \"caxis\": {\"gridcolor\": \"white\", \"linecolor\": \"white\", \"ticks\": \"\"}}, \"title\": {\"x\": 0.05}, \"xaxis\": {\"automargin\": true, \"gridcolor\": \"white\", \"linecolor\": \"white\", \"ticks\": \"\", \"zerolinecolor\": \"white\", \"zerolinewidth\": 2}, \"yaxis\": {\"automargin\": true, \"gridcolor\": \"white\", \"linecolor\": \"white\", \"ticks\": \"\", \"zerolinecolor\": \"white\", \"zerolinewidth\": 2}}}},\n",
       "                        {\"responsive\": true}\n",
       "                    ).then(function(){\n",
       "                            \n",
       "var gd = document.getElementById('0b12846c-cbbd-4a83-ba3a-0485cea2b7bc');\n",
       "var x = new MutationObserver(function (mutations, observer) {{\n",
       "        var display = window.getComputedStyle(gd).display;\n",
       "        if (!display || display === 'none') {{\n",
       "            console.log([gd, 'removed!']);\n",
       "            Plotly.purge(gd);\n",
       "            observer.disconnect();\n",
       "        }}\n",
       "}});\n",
       "\n",
       "// Listen for the removal of the full notebook cells\n",
       "var notebookContainer = gd.closest('#notebook-container');\n",
       "if (notebookContainer) {{\n",
       "    x.observe(notebookContainer, {childList: true});\n",
       "}}\n",
       "\n",
       "// Listen for the clearing of the current output cell\n",
       "var outputEl = gd.closest('.output');\n",
       "if (outputEl) {{\n",
       "    x.observe(outputEl, {childList: true});\n",
       "}}\n",
       "\n",
       "                        })\n",
       "                };\n",
       "                });\n",
       "            </script>\n",
       "        </div>"
      ]
     },
     "metadata": {},
     "output_type": "display_data"
    }
   ],
   "source": [
    "labels = time.index\n",
    "values = time.iloc[:,0].values\n",
    "fig = go.Figure([go.Scatter(x = labels, y = values)])\n",
    "fig.show()"
   ]
  },
  {
   "cell_type": "code",
   "execution_count": 57,
   "metadata": {
    "ExecuteTime": {
     "end_time": "2019-10-03T04:14:24.351808Z",
     "start_time": "2019-10-03T04:14:24.315225Z"
    }
   },
   "outputs": [
    {
     "data": {
      "text/html": [
       "<div>\n",
       "<style scoped>\n",
       "    .dataframe tbody tr th:only-of-type {\n",
       "        vertical-align: middle;\n",
       "    }\n",
       "\n",
       "    .dataframe tbody tr th {\n",
       "        vertical-align: top;\n",
       "    }\n",
       "\n",
       "    .dataframe thead th {\n",
       "        text-align: right;\n",
       "    }\n",
       "</style>\n",
       "<table border=\"1\" class=\"dataframe\">\n",
       "  <thead>\n",
       "    <tr style=\"text-align: right;\">\n",
       "      <th>Unnamed: 0</th>\n",
       "      <th>2010-01-01 00:00:00</th>\n",
       "      <th>2011-01-01 00:00:00</th>\n",
       "      <th>2012-01-01 00:00:00</th>\n",
       "      <th>2013-01-01 00:00:00</th>\n",
       "      <th>2014-01-01 00:00:00</th>\n",
       "      <th>2015-01-01 00:00:00</th>\n",
       "      <th>2016-01-01 00:00:00</th>\n",
       "      <th>2017-01-01 00:00:00</th>\n",
       "      <th>2018-01-01 00:00:00</th>\n",
       "    </tr>\n",
       "  </thead>\n",
       "  <tbody>\n",
       "    <tr>\n",
       "      <th>Valley City village, Illinois</th>\n",
       "      <td>13</td>\n",
       "      <td>13</td>\n",
       "      <td>13</td>\n",
       "      <td>13</td>\n",
       "      <td>13</td>\n",
       "      <td>13</td>\n",
       "      <td>12</td>\n",
       "      <td>12</td>\n",
       "      <td>12</td>\n",
       "    </tr>\n",
       "    <tr>\n",
       "      <th>Kaskaskia village, Illinois</th>\n",
       "      <td>14</td>\n",
       "      <td>14</td>\n",
       "      <td>14</td>\n",
       "      <td>14</td>\n",
       "      <td>14</td>\n",
       "      <td>13</td>\n",
       "      <td>13</td>\n",
       "      <td>13</td>\n",
       "      <td>13</td>\n",
       "    </tr>\n",
       "    <tr>\n",
       "      <th>Time village, Illinois</th>\n",
       "      <td>23</td>\n",
       "      <td>23</td>\n",
       "      <td>23</td>\n",
       "      <td>22</td>\n",
       "      <td>22</td>\n",
       "      <td>22</td>\n",
       "      <td>22</td>\n",
       "      <td>22</td>\n",
       "      <td>22</td>\n",
       "    </tr>\n",
       "    <tr>\n",
       "      <th>Fults village, Illinois</th>\n",
       "      <td>26</td>\n",
       "      <td>26</td>\n",
       "      <td>26</td>\n",
       "      <td>26</td>\n",
       "      <td>26</td>\n",
       "      <td>26</td>\n",
       "      <td>26</td>\n",
       "      <td>28</td>\n",
       "      <td>28</td>\n",
       "    </tr>\n",
       "    <tr>\n",
       "      <th>Bentley town, Illinois</th>\n",
       "      <td>35</td>\n",
       "      <td>35</td>\n",
       "      <td>35</td>\n",
       "      <td>34</td>\n",
       "      <td>34</td>\n",
       "      <td>33</td>\n",
       "      <td>33</td>\n",
       "      <td>33</td>\n",
       "      <td>33</td>\n",
       "    </tr>\n",
       "    <tr>\n",
       "      <th>Wenonah village, Illinois</th>\n",
       "      <td>37</td>\n",
       "      <td>37</td>\n",
       "      <td>36</td>\n",
       "      <td>36</td>\n",
       "      <td>36</td>\n",
       "      <td>36</td>\n",
       "      <td>35</td>\n",
       "      <td>35</td>\n",
       "      <td>35</td>\n",
       "    </tr>\n",
       "    <tr>\n",
       "      <th>Florence village, Illinois</th>\n",
       "      <td>38</td>\n",
       "      <td>38</td>\n",
       "      <td>38</td>\n",
       "      <td>37</td>\n",
       "      <td>37</td>\n",
       "      <td>37</td>\n",
       "      <td>38</td>\n",
       "      <td>38</td>\n",
       "      <td>37</td>\n",
       "    </tr>\n",
       "    <tr>\n",
       "      <th>Phillipstown village, Illinois</th>\n",
       "      <td>44</td>\n",
       "      <td>44</td>\n",
       "      <td>44</td>\n",
       "      <td>43</td>\n",
       "      <td>43</td>\n",
       "      <td>43</td>\n",
       "      <td>42</td>\n",
       "      <td>42</td>\n",
       "      <td>41</td>\n",
       "    </tr>\n",
       "    <tr>\n",
       "      <th>Rockwood village, Illinois</th>\n",
       "      <td>42</td>\n",
       "      <td>42</td>\n",
       "      <td>41</td>\n",
       "      <td>41</td>\n",
       "      <td>41</td>\n",
       "      <td>40</td>\n",
       "      <td>40</td>\n",
       "      <td>40</td>\n",
       "      <td>42</td>\n",
       "    </tr>\n",
       "    <tr>\n",
       "      <th>Deer Grove village, Illinois</th>\n",
       "      <td>48</td>\n",
       "      <td>48</td>\n",
       "      <td>47</td>\n",
       "      <td>47</td>\n",
       "      <td>47</td>\n",
       "      <td>47</td>\n",
       "      <td>46</td>\n",
       "      <td>46</td>\n",
       "      <td>46</td>\n",
       "    </tr>\n",
       "    <tr>\n",
       "      <th>La Prairie village, Illinois</th>\n",
       "      <td>47</td>\n",
       "      <td>47</td>\n",
       "      <td>47</td>\n",
       "      <td>47</td>\n",
       "      <td>47</td>\n",
       "      <td>47</td>\n",
       "      <td>46</td>\n",
       "      <td>46</td>\n",
       "      <td>46</td>\n",
       "    </tr>\n",
       "    <tr>\n",
       "      <th>Burnt Prairie village, Illinois</th>\n",
       "      <td>52</td>\n",
       "      <td>52</td>\n",
       "      <td>51</td>\n",
       "      <td>51</td>\n",
       "      <td>51</td>\n",
       "      <td>50</td>\n",
       "      <td>50</td>\n",
       "      <td>49</td>\n",
       "      <td>48</td>\n",
       "    </tr>\n",
       "    <tr>\n",
       "      <th>Gulf Port village, Illinois</th>\n",
       "      <td>54</td>\n",
       "      <td>53</td>\n",
       "      <td>51</td>\n",
       "      <td>51</td>\n",
       "      <td>51</td>\n",
       "      <td>51</td>\n",
       "      <td>50</td>\n",
       "      <td>50</td>\n",
       "      <td>49</td>\n",
       "    </tr>\n",
       "    <tr>\n",
       "      <th>Belle Prairie City town, Illinois</th>\n",
       "      <td>52</td>\n",
       "      <td>52</td>\n",
       "      <td>52</td>\n",
       "      <td>51</td>\n",
       "      <td>51</td>\n",
       "      <td>51</td>\n",
       "      <td>50</td>\n",
       "      <td>51</td>\n",
       "      <td>50</td>\n",
       "    </tr>\n",
       "    <tr>\n",
       "      <th>Panola village, Illinois</th>\n",
       "      <td>51</td>\n",
       "      <td>51</td>\n",
       "      <td>53</td>\n",
       "      <td>51</td>\n",
       "      <td>53</td>\n",
       "      <td>50</td>\n",
       "      <td>53</td>\n",
       "      <td>50</td>\n",
       "      <td>52</td>\n",
       "    </tr>\n",
       "    <tr>\n",
       "      <th>Union Hill village, Illinois</th>\n",
       "      <td>58</td>\n",
       "      <td>58</td>\n",
       "      <td>58</td>\n",
       "      <td>57</td>\n",
       "      <td>57</td>\n",
       "      <td>56</td>\n",
       "      <td>56</td>\n",
       "      <td>55</td>\n",
       "      <td>55</td>\n",
       "    </tr>\n",
       "    <tr>\n",
       "      <th>Sciota village, Illinois</th>\n",
       "      <td>61</td>\n",
       "      <td>61</td>\n",
       "      <td>61</td>\n",
       "      <td>61</td>\n",
       "      <td>60</td>\n",
       "      <td>59</td>\n",
       "      <td>59</td>\n",
       "      <td>58</td>\n",
       "      <td>57</td>\n",
       "    </tr>\n",
       "    <tr>\n",
       "      <th>Simpson village, Illinois</th>\n",
       "      <td>60</td>\n",
       "      <td>60</td>\n",
       "      <td>60</td>\n",
       "      <td>60</td>\n",
       "      <td>60</td>\n",
       "      <td>60</td>\n",
       "      <td>60</td>\n",
       "      <td>60</td>\n",
       "      <td>60</td>\n",
       "    </tr>\n",
       "    <tr>\n",
       "      <th>Exeter village, Illinois</th>\n",
       "      <td>65</td>\n",
       "      <td>63</td>\n",
       "      <td>64</td>\n",
       "      <td>63</td>\n",
       "      <td>63</td>\n",
       "      <td>62</td>\n",
       "      <td>61</td>\n",
       "      <td>60</td>\n",
       "      <td>60</td>\n",
       "    </tr>\n",
       "    <tr>\n",
       "      <th>Macedonia village, Illinois</th>\n",
       "      <td>63</td>\n",
       "      <td>63</td>\n",
       "      <td>63</td>\n",
       "      <td>63</td>\n",
       "      <td>63</td>\n",
       "      <td>62</td>\n",
       "      <td>61</td>\n",
       "      <td>61</td>\n",
       "      <td>61</td>\n",
       "    </tr>\n",
       "    <tr>\n",
       "      <th>Walshville village, Illinois</th>\n",
       "      <td>64</td>\n",
       "      <td>63</td>\n",
       "      <td>63</td>\n",
       "      <td>63</td>\n",
       "      <td>62</td>\n",
       "      <td>62</td>\n",
       "      <td>63</td>\n",
       "      <td>63</td>\n",
       "      <td>62</td>\n",
       "    </tr>\n",
       "    <tr>\n",
       "      <th>Muddy village, Illinois</th>\n",
       "      <td>69</td>\n",
       "      <td>69</td>\n",
       "      <td>69</td>\n",
       "      <td>69</td>\n",
       "      <td>68</td>\n",
       "      <td>66</td>\n",
       "      <td>67</td>\n",
       "      <td>65</td>\n",
       "      <td>64</td>\n",
       "    </tr>\n",
       "    <tr>\n",
       "      <th>Mill Creek village, Illinois</th>\n",
       "      <td>67</td>\n",
       "      <td>66</td>\n",
       "      <td>66</td>\n",
       "      <td>66</td>\n",
       "      <td>65</td>\n",
       "      <td>67</td>\n",
       "      <td>64</td>\n",
       "      <td>66</td>\n",
       "      <td>65</td>\n",
       "    </tr>\n",
       "    <tr>\n",
       "      <th>Golden Gate village, Illinois</th>\n",
       "      <td>68</td>\n",
       "      <td>68</td>\n",
       "      <td>68</td>\n",
       "      <td>68</td>\n",
       "      <td>67</td>\n",
       "      <td>67</td>\n",
       "      <td>67</td>\n",
       "      <td>67</td>\n",
       "      <td>66</td>\n",
       "    </tr>\n",
       "    <tr>\n",
       "      <th>Irwin village, Illinois</th>\n",
       "      <td>74</td>\n",
       "      <td>74</td>\n",
       "      <td>74</td>\n",
       "      <td>73</td>\n",
       "      <td>72</td>\n",
       "      <td>72</td>\n",
       "      <td>71</td>\n",
       "      <td>71</td>\n",
       "      <td>70</td>\n",
       "    </tr>\n",
       "    <tr>\n",
       "      <th>Topeka village, Illinois</th>\n",
       "      <td>76</td>\n",
       "      <td>75</td>\n",
       "      <td>74</td>\n",
       "      <td>73</td>\n",
       "      <td>73</td>\n",
       "      <td>72</td>\n",
       "      <td>71</td>\n",
       "      <td>71</td>\n",
       "      <td>71</td>\n",
       "    </tr>\n",
       "    <tr>\n",
       "      <th>New Bedford village, Illinois</th>\n",
       "      <td>75</td>\n",
       "      <td>74</td>\n",
       "      <td>74</td>\n",
       "      <td>73</td>\n",
       "      <td>73</td>\n",
       "      <td>72</td>\n",
       "      <td>72</td>\n",
       "      <td>71</td>\n",
       "      <td>71</td>\n",
       "    </tr>\n",
       "    <tr>\n",
       "      <th>Johnsonville village, Illinois</th>\n",
       "      <td>77</td>\n",
       "      <td>77</td>\n",
       "      <td>77</td>\n",
       "      <td>77</td>\n",
       "      <td>76</td>\n",
       "      <td>76</td>\n",
       "      <td>76</td>\n",
       "      <td>76</td>\n",
       "      <td>75</td>\n",
       "    </tr>\n",
       "    <tr>\n",
       "      <th>El Dara village, Illinois</th>\n",
       "      <td>78</td>\n",
       "      <td>77</td>\n",
       "      <td>77</td>\n",
       "      <td>76</td>\n",
       "      <td>75</td>\n",
       "      <td>75</td>\n",
       "      <td>75</td>\n",
       "      <td>75</td>\n",
       "      <td>76</td>\n",
       "    </tr>\n",
       "    <tr>\n",
       "      <th>Camden village, Illinois</th>\n",
       "      <td>86</td>\n",
       "      <td>85</td>\n",
       "      <td>85</td>\n",
       "      <td>84</td>\n",
       "      <td>83</td>\n",
       "      <td>81</td>\n",
       "      <td>80</td>\n",
       "      <td>79</td>\n",
       "      <td>78</td>\n",
       "    </tr>\n",
       "    <tr>\n",
       "      <th>...</th>\n",
       "      <td>...</td>\n",
       "      <td>...</td>\n",
       "      <td>...</td>\n",
       "      <td>...</td>\n",
       "      <td>...</td>\n",
       "      <td>...</td>\n",
       "      <td>...</td>\n",
       "      <td>...</td>\n",
       "      <td>...</td>\n",
       "    </tr>\n",
       "    <tr>\n",
       "      <th>Downers Grove village, Illinois</th>\n",
       "      <td>48938</td>\n",
       "      <td>49218</td>\n",
       "      <td>49441</td>\n",
       "      <td>49703</td>\n",
       "      <td>49781</td>\n",
       "      <td>49792</td>\n",
       "      <td>49638</td>\n",
       "      <td>49571</td>\n",
       "      <td>49387</td>\n",
       "    </tr>\n",
       "    <tr>\n",
       "      <th>Hoffman Estates village, Illinois</th>\n",
       "      <td>51944</td>\n",
       "      <td>52150</td>\n",
       "      <td>52316</td>\n",
       "      <td>52415</td>\n",
       "      <td>52368</td>\n",
       "      <td>52133</td>\n",
       "      <td>51871</td>\n",
       "      <td>51505</td>\n",
       "      <td>51197</td>\n",
       "    </tr>\n",
       "    <tr>\n",
       "      <th>Oak Park village, Illinois</th>\n",
       "      <td>51898</td>\n",
       "      <td>52016</td>\n",
       "      <td>52110</td>\n",
       "      <td>52275</td>\n",
       "      <td>52167</td>\n",
       "      <td>52443</td>\n",
       "      <td>52102</td>\n",
       "      <td>52191</td>\n",
       "      <td>52265</td>\n",
       "    </tr>\n",
       "    <tr>\n",
       "      <th>Wheaton city, Illinois</th>\n",
       "      <td>53072</td>\n",
       "      <td>53385</td>\n",
       "      <td>53551</td>\n",
       "      <td>53751</td>\n",
       "      <td>53759</td>\n",
       "      <td>53724</td>\n",
       "      <td>53514</td>\n",
       "      <td>53396</td>\n",
       "      <td>53150</td>\n",
       "    </tr>\n",
       "    <tr>\n",
       "      <th>Mount Prospect village, Illinois</th>\n",
       "      <td>55084</td>\n",
       "      <td>55265</td>\n",
       "      <td>55429</td>\n",
       "      <td>55620</td>\n",
       "      <td>55798</td>\n",
       "      <td>55562</td>\n",
       "      <td>55196</td>\n",
       "      <td>54706</td>\n",
       "      <td>54198</td>\n",
       "    </tr>\n",
       "    <tr>\n",
       "      <th>Normal town, Illinois</th>\n",
       "      <td>52635</td>\n",
       "      <td>53108</td>\n",
       "      <td>54016</td>\n",
       "      <td>54662</td>\n",
       "      <td>54514</td>\n",
       "      <td>54291</td>\n",
       "      <td>54404</td>\n",
       "      <td>54469</td>\n",
       "      <td>54742</td>\n",
       "    </tr>\n",
       "    <tr>\n",
       "      <th>Berwyn city, Illinois</th>\n",
       "      <td>56673</td>\n",
       "      <td>56794</td>\n",
       "      <td>56900</td>\n",
       "      <td>56938</td>\n",
       "      <td>56812</td>\n",
       "      <td>56477</td>\n",
       "      <td>56037</td>\n",
       "      <td>55480</td>\n",
       "      <td>54917</td>\n",
       "    </tr>\n",
       "    <tr>\n",
       "      <th>Oak Lawn village, Illinois</th>\n",
       "      <td>56732</td>\n",
       "      <td>56925</td>\n",
       "      <td>57089</td>\n",
       "      <td>57191</td>\n",
       "      <td>57134</td>\n",
       "      <td>56860</td>\n",
       "      <td>56494</td>\n",
       "      <td>56016</td>\n",
       "      <td>55511</td>\n",
       "    </tr>\n",
       "    <tr>\n",
       "      <th>Tinley Park village, Illinois</th>\n",
       "      <td>56894</td>\n",
       "      <td>57100</td>\n",
       "      <td>57291</td>\n",
       "      <td>57404</td>\n",
       "      <td>57409</td>\n",
       "      <td>57249</td>\n",
       "      <td>56985</td>\n",
       "      <td>56606</td>\n",
       "      <td>56204</td>\n",
       "    </tr>\n",
       "    <tr>\n",
       "      <th>Orland Park village, Illinois</th>\n",
       "      <td>56696</td>\n",
       "      <td>57002</td>\n",
       "      <td>57278</td>\n",
       "      <td>58527</td>\n",
       "      <td>58657</td>\n",
       "      <td>58605</td>\n",
       "      <td>58997</td>\n",
       "      <td>58658</td>\n",
       "      <td>58312</td>\n",
       "    </tr>\n",
       "    <tr>\n",
       "      <th>Des Plaines city, Illinois</th>\n",
       "      <td>58458</td>\n",
       "      <td>58732</td>\n",
       "      <td>58994</td>\n",
       "      <td>59136</td>\n",
       "      <td>59138</td>\n",
       "      <td>58856</td>\n",
       "      <td>58478</td>\n",
       "      <td>58120</td>\n",
       "      <td>58959</td>\n",
       "    </tr>\n",
       "    <tr>\n",
       "      <th>Skokie village, Illinois</th>\n",
       "      <td>64891</td>\n",
       "      <td>65090</td>\n",
       "      <td>65262</td>\n",
       "      <td>65355</td>\n",
       "      <td>65263</td>\n",
       "      <td>64937</td>\n",
       "      <td>64494</td>\n",
       "      <td>63898</td>\n",
       "      <td>63280</td>\n",
       "    </tr>\n",
       "    <tr>\n",
       "      <th>Palatine village, Illinois</th>\n",
       "      <td>68613</td>\n",
       "      <td>68889</td>\n",
       "      <td>69184</td>\n",
       "      <td>69407</td>\n",
       "      <td>69465</td>\n",
       "      <td>69350</td>\n",
       "      <td>69010</td>\n",
       "      <td>68555</td>\n",
       "      <td>68053</td>\n",
       "    </tr>\n",
       "    <tr>\n",
       "      <th>Decatur city, Illinois</th>\n",
       "      <td>76105</td>\n",
       "      <td>75918</td>\n",
       "      <td>75451</td>\n",
       "      <td>74964</td>\n",
       "      <td>74163</td>\n",
       "      <td>73287</td>\n",
       "      <td>72550</td>\n",
       "      <td>71892</td>\n",
       "      <td>71290</td>\n",
       "    </tr>\n",
       "    <tr>\n",
       "      <th>Schaumburg village, Illinois</th>\n",
       "      <td>74292</td>\n",
       "      <td>74550</td>\n",
       "      <td>74789</td>\n",
       "      <td>74935</td>\n",
       "      <td>74940</td>\n",
       "      <td>74700</td>\n",
       "      <td>74650</td>\n",
       "      <td>74089</td>\n",
       "      <td>73509</td>\n",
       "    </tr>\n",
       "    <tr>\n",
       "      <th>Evanston city, Illinois</th>\n",
       "      <td>74589</td>\n",
       "      <td>75145</td>\n",
       "      <td>75741</td>\n",
       "      <td>76013</td>\n",
       "      <td>76034</td>\n",
       "      <td>75671</td>\n",
       "      <td>75302</td>\n",
       "      <td>74667</td>\n",
       "      <td>74106</td>\n",
       "    </tr>\n",
       "    <tr>\n",
       "      <th>Bolingbrook village, Illinois</th>\n",
       "      <td>73476</td>\n",
       "      <td>73788</td>\n",
       "      <td>73962</td>\n",
       "      <td>73927</td>\n",
       "      <td>74065</td>\n",
       "      <td>74174</td>\n",
       "      <td>74427</td>\n",
       "      <td>75072</td>\n",
       "      <td>75178</td>\n",
       "    </tr>\n",
       "    <tr>\n",
       "      <th>Arlington Heights village, Illinois</th>\n",
       "      <td>75256</td>\n",
       "      <td>75534</td>\n",
       "      <td>75938</td>\n",
       "      <td>76151</td>\n",
       "      <td>76190</td>\n",
       "      <td>76045</td>\n",
       "      <td>75864</td>\n",
       "      <td>75536</td>\n",
       "      <td>75249</td>\n",
       "    </tr>\n",
       "    <tr>\n",
       "      <th>Bloomington city, Illinois</th>\n",
       "      <td>76824</td>\n",
       "      <td>77275</td>\n",
       "      <td>77991</td>\n",
       "      <td>79245</td>\n",
       "      <td>78881</td>\n",
       "      <td>78393</td>\n",
       "      <td>78343</td>\n",
       "      <td>78145</td>\n",
       "      <td>77962</td>\n",
       "    </tr>\n",
       "    <tr>\n",
       "      <th>Cicero town, Illinois</th>\n",
       "      <td>84266</td>\n",
       "      <td>84439</td>\n",
       "      <td>84586</td>\n",
       "      <td>84633</td>\n",
       "      <td>84438</td>\n",
       "      <td>83935</td>\n",
       "      <td>83275</td>\n",
       "      <td>82448</td>\n",
       "      <td>81597</td>\n",
       "    </tr>\n",
       "    <tr>\n",
       "      <th>Waukegan city, Illinois</th>\n",
       "      <td>89126</td>\n",
       "      <td>88954</td>\n",
       "      <td>88778</td>\n",
       "      <td>88884</td>\n",
       "      <td>88788</td>\n",
       "      <td>88371</td>\n",
       "      <td>88174</td>\n",
       "      <td>87638</td>\n",
       "      <td>86792</td>\n",
       "    </tr>\n",
       "    <tr>\n",
       "      <th>Champaign city, Illinois</th>\n",
       "      <td>81427</td>\n",
       "      <td>82345</td>\n",
       "      <td>83223</td>\n",
       "      <td>84136</td>\n",
       "      <td>84967</td>\n",
       "      <td>86166</td>\n",
       "      <td>87156</td>\n",
       "      <td>87716</td>\n",
       "      <td>88029</td>\n",
       "    </tr>\n",
       "    <tr>\n",
       "      <th>Peoria city, Illinois</th>\n",
       "      <td>114936</td>\n",
       "      <td>115373</td>\n",
       "      <td>115746</td>\n",
       "      <td>116599</td>\n",
       "      <td>115916</td>\n",
       "      <td>115150</td>\n",
       "      <td>114189</td>\n",
       "      <td>112592</td>\n",
       "      <td>111388</td>\n",
       "    </tr>\n",
       "    <tr>\n",
       "      <th>Elgin city, Illinois</th>\n",
       "      <td>108320</td>\n",
       "      <td>109160</td>\n",
       "      <td>109665</td>\n",
       "      <td>110128</td>\n",
       "      <td>111054</td>\n",
       "      <td>112018</td>\n",
       "      <td>112322</td>\n",
       "      <td>112181</td>\n",
       "      <td>111683</td>\n",
       "    </tr>\n",
       "    <tr>\n",
       "      <th>Springfield city, Illinois</th>\n",
       "      <td>117141</td>\n",
       "      <td>117780</td>\n",
       "      <td>117930</td>\n",
       "      <td>117637</td>\n",
       "      <td>117501</td>\n",
       "      <td>117231</td>\n",
       "      <td>116540</td>\n",
       "      <td>115688</td>\n",
       "      <td>114694</td>\n",
       "    </tr>\n",
       "    <tr>\n",
       "      <th>Rockford city, Illinois</th>\n",
       "      <td>153148</td>\n",
       "      <td>152122</td>\n",
       "      <td>151267</td>\n",
       "      <td>150629</td>\n",
       "      <td>149415</td>\n",
       "      <td>148496</td>\n",
       "      <td>147781</td>\n",
       "      <td>147028</td>\n",
       "      <td>146526</td>\n",
       "    </tr>\n",
       "    <tr>\n",
       "      <th>Joliet city, Illinois</th>\n",
       "      <td>147654</td>\n",
       "      <td>147900</td>\n",
       "      <td>148227</td>\n",
       "      <td>147910</td>\n",
       "      <td>147767</td>\n",
       "      <td>147626</td>\n",
       "      <td>148001</td>\n",
       "      <td>148065</td>\n",
       "      <td>148099</td>\n",
       "    </tr>\n",
       "    <tr>\n",
       "      <th>Naperville city, Illinois</th>\n",
       "      <td>142388</td>\n",
       "      <td>143189</td>\n",
       "      <td>144015</td>\n",
       "      <td>144912</td>\n",
       "      <td>146228</td>\n",
       "      <td>147012</td>\n",
       "      <td>147243</td>\n",
       "      <td>147689</td>\n",
       "      <td>148304</td>\n",
       "    </tr>\n",
       "    <tr>\n",
       "      <th>Aurora city, Illinois</th>\n",
       "      <td>198157</td>\n",
       "      <td>199100</td>\n",
       "      <td>199641</td>\n",
       "      <td>199826</td>\n",
       "      <td>200245</td>\n",
       "      <td>200416</td>\n",
       "      <td>200945</td>\n",
       "      <td>200579</td>\n",
       "      <td>199602</td>\n",
       "    </tr>\n",
       "    <tr>\n",
       "      <th>Chicago city, Illinois</th>\n",
       "      <td>2697529</td>\n",
       "      <td>2708209</td>\n",
       "      <td>2719735</td>\n",
       "      <td>2726772</td>\n",
       "      <td>2728524</td>\n",
       "      <td>2726215</td>\n",
       "      <td>2718946</td>\n",
       "      <td>2713067</td>\n",
       "      <td>2705994</td>\n",
       "    </tr>\n",
       "  </tbody>\n",
       "</table>\n",
       "<p>1298 rows × 9 columns</p>\n",
       "</div>"
      ],
      "text/plain": [
       "Unnamed: 0                           2010-01-01 00:00:00  2011-01-01 00:00:00  \\\n",
       "Valley City village, Illinois                         13                   13   \n",
       "Kaskaskia village, Illinois                           14                   14   \n",
       "Time village, Illinois                                23                   23   \n",
       "Fults village, Illinois                               26                   26   \n",
       "Bentley town, Illinois                                35                   35   \n",
       "Wenonah village, Illinois                             37                   37   \n",
       "Florence village, Illinois                            38                   38   \n",
       "Phillipstown village, Illinois                        44                   44   \n",
       "Rockwood village, Illinois                            42                   42   \n",
       "Deer Grove village, Illinois                          48                   48   \n",
       "La Prairie village, Illinois                          47                   47   \n",
       "Burnt Prairie village, Illinois                       52                   52   \n",
       "Gulf Port village, Illinois                           54                   53   \n",
       "Belle Prairie City town, Illinois                     52                   52   \n",
       "Panola village, Illinois                              51                   51   \n",
       "Union Hill village, Illinois                          58                   58   \n",
       "Sciota village, Illinois                              61                   61   \n",
       "Simpson village, Illinois                             60                   60   \n",
       "Exeter village, Illinois                              65                   63   \n",
       "Macedonia village, Illinois                           63                   63   \n",
       "Walshville village, Illinois                          64                   63   \n",
       "Muddy village, Illinois                               69                   69   \n",
       "Mill Creek village, Illinois                          67                   66   \n",
       "Golden Gate village, Illinois                         68                   68   \n",
       "Irwin village, Illinois                               74                   74   \n",
       "Topeka village, Illinois                              76                   75   \n",
       "New Bedford village, Illinois                         75                   74   \n",
       "Johnsonville village, Illinois                        77                   77   \n",
       "El Dara village, Illinois                             78                   77   \n",
       "Camden village, Illinois                              86                   85   \n",
       "...                                                  ...                  ...   \n",
       "Downers Grove village, Illinois                    48938                49218   \n",
       "Hoffman Estates village, Illinois                  51944                52150   \n",
       "Oak Park village, Illinois                         51898                52016   \n",
       "Wheaton city, Illinois                             53072                53385   \n",
       "Mount Prospect village, Illinois                   55084                55265   \n",
       "Normal town, Illinois                              52635                53108   \n",
       "Berwyn city, Illinois                              56673                56794   \n",
       "Oak Lawn village, Illinois                         56732                56925   \n",
       "Tinley Park village, Illinois                      56894                57100   \n",
       "Orland Park village, Illinois                      56696                57002   \n",
       "Des Plaines city, Illinois                         58458                58732   \n",
       "Skokie village, Illinois                           64891                65090   \n",
       "Palatine village, Illinois                         68613                68889   \n",
       "Decatur city, Illinois                             76105                75918   \n",
       "Schaumburg village, Illinois                       74292                74550   \n",
       "Evanston city, Illinois                            74589                75145   \n",
       "Bolingbrook village, Illinois                      73476                73788   \n",
       "Arlington Heights village, Illinois                75256                75534   \n",
       "Bloomington city, Illinois                         76824                77275   \n",
       "Cicero town, Illinois                              84266                84439   \n",
       "Waukegan city, Illinois                            89126                88954   \n",
       "Champaign city, Illinois                           81427                82345   \n",
       "Peoria city, Illinois                             114936               115373   \n",
       "Elgin city, Illinois                              108320               109160   \n",
       "Springfield city, Illinois                        117141               117780   \n",
       "Rockford city, Illinois                           153148               152122   \n",
       "Joliet city, Illinois                             147654               147900   \n",
       "Naperville city, Illinois                         142388               143189   \n",
       "Aurora city, Illinois                             198157               199100   \n",
       "Chicago city, Illinois                           2697529              2708209   \n",
       "\n",
       "Unnamed: 0                           2012-01-01 00:00:00  2013-01-01 00:00:00  \\\n",
       "Valley City village, Illinois                         13                   13   \n",
       "Kaskaskia village, Illinois                           14                   14   \n",
       "Time village, Illinois                                23                   22   \n",
       "Fults village, Illinois                               26                   26   \n",
       "Bentley town, Illinois                                35                   34   \n",
       "Wenonah village, Illinois                             36                   36   \n",
       "Florence village, Illinois                            38                   37   \n",
       "Phillipstown village, Illinois                        44                   43   \n",
       "Rockwood village, Illinois                            41                   41   \n",
       "Deer Grove village, Illinois                          47                   47   \n",
       "La Prairie village, Illinois                          47                   47   \n",
       "Burnt Prairie village, Illinois                       51                   51   \n",
       "Gulf Port village, Illinois                           51                   51   \n",
       "Belle Prairie City town, Illinois                     52                   51   \n",
       "Panola village, Illinois                              53                   51   \n",
       "Union Hill village, Illinois                          58                   57   \n",
       "Sciota village, Illinois                              61                   61   \n",
       "Simpson village, Illinois                             60                   60   \n",
       "Exeter village, Illinois                              64                   63   \n",
       "Macedonia village, Illinois                           63                   63   \n",
       "Walshville village, Illinois                          63                   63   \n",
       "Muddy village, Illinois                               69                   69   \n",
       "Mill Creek village, Illinois                          66                   66   \n",
       "Golden Gate village, Illinois                         68                   68   \n",
       "Irwin village, Illinois                               74                   73   \n",
       "Topeka village, Illinois                              74                   73   \n",
       "New Bedford village, Illinois                         74                   73   \n",
       "Johnsonville village, Illinois                        77                   77   \n",
       "El Dara village, Illinois                             77                   76   \n",
       "Camden village, Illinois                              85                   84   \n",
       "...                                                  ...                  ...   \n",
       "Downers Grove village, Illinois                    49441                49703   \n",
       "Hoffman Estates village, Illinois                  52316                52415   \n",
       "Oak Park village, Illinois                         52110                52275   \n",
       "Wheaton city, Illinois                             53551                53751   \n",
       "Mount Prospect village, Illinois                   55429                55620   \n",
       "Normal town, Illinois                              54016                54662   \n",
       "Berwyn city, Illinois                              56900                56938   \n",
       "Oak Lawn village, Illinois                         57089                57191   \n",
       "Tinley Park village, Illinois                      57291                57404   \n",
       "Orland Park village, Illinois                      57278                58527   \n",
       "Des Plaines city, Illinois                         58994                59136   \n",
       "Skokie village, Illinois                           65262                65355   \n",
       "Palatine village, Illinois                         69184                69407   \n",
       "Decatur city, Illinois                             75451                74964   \n",
       "Schaumburg village, Illinois                       74789                74935   \n",
       "Evanston city, Illinois                            75741                76013   \n",
       "Bolingbrook village, Illinois                      73962                73927   \n",
       "Arlington Heights village, Illinois                75938                76151   \n",
       "Bloomington city, Illinois                         77991                79245   \n",
       "Cicero town, Illinois                              84586                84633   \n",
       "Waukegan city, Illinois                            88778                88884   \n",
       "Champaign city, Illinois                           83223                84136   \n",
       "Peoria city, Illinois                             115746               116599   \n",
       "Elgin city, Illinois                              109665               110128   \n",
       "Springfield city, Illinois                        117930               117637   \n",
       "Rockford city, Illinois                           151267               150629   \n",
       "Joliet city, Illinois                             148227               147910   \n",
       "Naperville city, Illinois                         144015               144912   \n",
       "Aurora city, Illinois                             199641               199826   \n",
       "Chicago city, Illinois                           2719735              2726772   \n",
       "\n",
       "Unnamed: 0                           2014-01-01 00:00:00  2015-01-01 00:00:00  \\\n",
       "Valley City village, Illinois                         13                   13   \n",
       "Kaskaskia village, Illinois                           14                   13   \n",
       "Time village, Illinois                                22                   22   \n",
       "Fults village, Illinois                               26                   26   \n",
       "Bentley town, Illinois                                34                   33   \n",
       "Wenonah village, Illinois                             36                   36   \n",
       "Florence village, Illinois                            37                   37   \n",
       "Phillipstown village, Illinois                        43                   43   \n",
       "Rockwood village, Illinois                            41                   40   \n",
       "Deer Grove village, Illinois                          47                   47   \n",
       "La Prairie village, Illinois                          47                   47   \n",
       "Burnt Prairie village, Illinois                       51                   50   \n",
       "Gulf Port village, Illinois                           51                   51   \n",
       "Belle Prairie City town, Illinois                     51                   51   \n",
       "Panola village, Illinois                              53                   50   \n",
       "Union Hill village, Illinois                          57                   56   \n",
       "Sciota village, Illinois                              60                   59   \n",
       "Simpson village, Illinois                             60                   60   \n",
       "Exeter village, Illinois                              63                   62   \n",
       "Macedonia village, Illinois                           63                   62   \n",
       "Walshville village, Illinois                          62                   62   \n",
       "Muddy village, Illinois                               68                   66   \n",
       "Mill Creek village, Illinois                          65                   67   \n",
       "Golden Gate village, Illinois                         67                   67   \n",
       "Irwin village, Illinois                               72                   72   \n",
       "Topeka village, Illinois                              73                   72   \n",
       "New Bedford village, Illinois                         73                   72   \n",
       "Johnsonville village, Illinois                        76                   76   \n",
       "El Dara village, Illinois                             75                   75   \n",
       "Camden village, Illinois                              83                   81   \n",
       "...                                                  ...                  ...   \n",
       "Downers Grove village, Illinois                    49781                49792   \n",
       "Hoffman Estates village, Illinois                  52368                52133   \n",
       "Oak Park village, Illinois                         52167                52443   \n",
       "Wheaton city, Illinois                             53759                53724   \n",
       "Mount Prospect village, Illinois                   55798                55562   \n",
       "Normal town, Illinois                              54514                54291   \n",
       "Berwyn city, Illinois                              56812                56477   \n",
       "Oak Lawn village, Illinois                         57134                56860   \n",
       "Tinley Park village, Illinois                      57409                57249   \n",
       "Orland Park village, Illinois                      58657                58605   \n",
       "Des Plaines city, Illinois                         59138                58856   \n",
       "Skokie village, Illinois                           65263                64937   \n",
       "Palatine village, Illinois                         69465                69350   \n",
       "Decatur city, Illinois                             74163                73287   \n",
       "Schaumburg village, Illinois                       74940                74700   \n",
       "Evanston city, Illinois                            76034                75671   \n",
       "Bolingbrook village, Illinois                      74065                74174   \n",
       "Arlington Heights village, Illinois                76190                76045   \n",
       "Bloomington city, Illinois                         78881                78393   \n",
       "Cicero town, Illinois                              84438                83935   \n",
       "Waukegan city, Illinois                            88788                88371   \n",
       "Champaign city, Illinois                           84967                86166   \n",
       "Peoria city, Illinois                             115916               115150   \n",
       "Elgin city, Illinois                              111054               112018   \n",
       "Springfield city, Illinois                        117501               117231   \n",
       "Rockford city, Illinois                           149415               148496   \n",
       "Joliet city, Illinois                             147767               147626   \n",
       "Naperville city, Illinois                         146228               147012   \n",
       "Aurora city, Illinois                             200245               200416   \n",
       "Chicago city, Illinois                           2728524              2726215   \n",
       "\n",
       "Unnamed: 0                           2016-01-01 00:00:00  2017-01-01 00:00:00  \\\n",
       "Valley City village, Illinois                         12                   12   \n",
       "Kaskaskia village, Illinois                           13                   13   \n",
       "Time village, Illinois                                22                   22   \n",
       "Fults village, Illinois                               26                   28   \n",
       "Bentley town, Illinois                                33                   33   \n",
       "Wenonah village, Illinois                             35                   35   \n",
       "Florence village, Illinois                            38                   38   \n",
       "Phillipstown village, Illinois                        42                   42   \n",
       "Rockwood village, Illinois                            40                   40   \n",
       "Deer Grove village, Illinois                          46                   46   \n",
       "La Prairie village, Illinois                          46                   46   \n",
       "Burnt Prairie village, Illinois                       50                   49   \n",
       "Gulf Port village, Illinois                           50                   50   \n",
       "Belle Prairie City town, Illinois                     50                   51   \n",
       "Panola village, Illinois                              53                   50   \n",
       "Union Hill village, Illinois                          56                   55   \n",
       "Sciota village, Illinois                              59                   58   \n",
       "Simpson village, Illinois                             60                   60   \n",
       "Exeter village, Illinois                              61                   60   \n",
       "Macedonia village, Illinois                           61                   61   \n",
       "Walshville village, Illinois                          63                   63   \n",
       "Muddy village, Illinois                               67                   65   \n",
       "Mill Creek village, Illinois                          64                   66   \n",
       "Golden Gate village, Illinois                         67                   67   \n",
       "Irwin village, Illinois                               71                   71   \n",
       "Topeka village, Illinois                              71                   71   \n",
       "New Bedford village, Illinois                         72                   71   \n",
       "Johnsonville village, Illinois                        76                   76   \n",
       "El Dara village, Illinois                             75                   75   \n",
       "Camden village, Illinois                              80                   79   \n",
       "...                                                  ...                  ...   \n",
       "Downers Grove village, Illinois                    49638                49571   \n",
       "Hoffman Estates village, Illinois                  51871                51505   \n",
       "Oak Park village, Illinois                         52102                52191   \n",
       "Wheaton city, Illinois                             53514                53396   \n",
       "Mount Prospect village, Illinois                   55196                54706   \n",
       "Normal town, Illinois                              54404                54469   \n",
       "Berwyn city, Illinois                              56037                55480   \n",
       "Oak Lawn village, Illinois                         56494                56016   \n",
       "Tinley Park village, Illinois                      56985                56606   \n",
       "Orland Park village, Illinois                      58997                58658   \n",
       "Des Plaines city, Illinois                         58478                58120   \n",
       "Skokie village, Illinois                           64494                63898   \n",
       "Palatine village, Illinois                         69010                68555   \n",
       "Decatur city, Illinois                             72550                71892   \n",
       "Schaumburg village, Illinois                       74650                74089   \n",
       "Evanston city, Illinois                            75302                74667   \n",
       "Bolingbrook village, Illinois                      74427                75072   \n",
       "Arlington Heights village, Illinois                75864                75536   \n",
       "Bloomington city, Illinois                         78343                78145   \n",
       "Cicero town, Illinois                              83275                82448   \n",
       "Waukegan city, Illinois                            88174                87638   \n",
       "Champaign city, Illinois                           87156                87716   \n",
       "Peoria city, Illinois                             114189               112592   \n",
       "Elgin city, Illinois                              112322               112181   \n",
       "Springfield city, Illinois                        116540               115688   \n",
       "Rockford city, Illinois                           147781               147028   \n",
       "Joliet city, Illinois                             148001               148065   \n",
       "Naperville city, Illinois                         147243               147689   \n",
       "Aurora city, Illinois                             200945               200579   \n",
       "Chicago city, Illinois                           2718946              2713067   \n",
       "\n",
       "Unnamed: 0                           2018-01-01 00:00:00  \n",
       "Valley City village, Illinois                         12  \n",
       "Kaskaskia village, Illinois                           13  \n",
       "Time village, Illinois                                22  \n",
       "Fults village, Illinois                               28  \n",
       "Bentley town, Illinois                                33  \n",
       "Wenonah village, Illinois                             35  \n",
       "Florence village, Illinois                            37  \n",
       "Phillipstown village, Illinois                        41  \n",
       "Rockwood village, Illinois                            42  \n",
       "Deer Grove village, Illinois                          46  \n",
       "La Prairie village, Illinois                          46  \n",
       "Burnt Prairie village, Illinois                       48  \n",
       "Gulf Port village, Illinois                           49  \n",
       "Belle Prairie City town, Illinois                     50  \n",
       "Panola village, Illinois                              52  \n",
       "Union Hill village, Illinois                          55  \n",
       "Sciota village, Illinois                              57  \n",
       "Simpson village, Illinois                             60  \n",
       "Exeter village, Illinois                              60  \n",
       "Macedonia village, Illinois                           61  \n",
       "Walshville village, Illinois                          62  \n",
       "Muddy village, Illinois                               64  \n",
       "Mill Creek village, Illinois                          65  \n",
       "Golden Gate village, Illinois                         66  \n",
       "Irwin village, Illinois                               70  \n",
       "Topeka village, Illinois                              71  \n",
       "New Bedford village, Illinois                         71  \n",
       "Johnsonville village, Illinois                        75  \n",
       "El Dara village, Illinois                             76  \n",
       "Camden village, Illinois                              78  \n",
       "...                                                  ...  \n",
       "Downers Grove village, Illinois                    49387  \n",
       "Hoffman Estates village, Illinois                  51197  \n",
       "Oak Park village, Illinois                         52265  \n",
       "Wheaton city, Illinois                             53150  \n",
       "Mount Prospect village, Illinois                   54198  \n",
       "Normal town, Illinois                              54742  \n",
       "Berwyn city, Illinois                              54917  \n",
       "Oak Lawn village, Illinois                         55511  \n",
       "Tinley Park village, Illinois                      56204  \n",
       "Orland Park village, Illinois                      58312  \n",
       "Des Plaines city, Illinois                         58959  \n",
       "Skokie village, Illinois                           63280  \n",
       "Palatine village, Illinois                         68053  \n",
       "Decatur city, Illinois                             71290  \n",
       "Schaumburg village, Illinois                       73509  \n",
       "Evanston city, Illinois                            74106  \n",
       "Bolingbrook village, Illinois                      75178  \n",
       "Arlington Heights village, Illinois                75249  \n",
       "Bloomington city, Illinois                         77962  \n",
       "Cicero town, Illinois                              81597  \n",
       "Waukegan city, Illinois                            86792  \n",
       "Champaign city, Illinois                           88029  \n",
       "Peoria city, Illinois                             111388  \n",
       "Elgin city, Illinois                              111683  \n",
       "Springfield city, Illinois                        114694  \n",
       "Rockford city, Illinois                           146526  \n",
       "Joliet city, Illinois                             148099  \n",
       "Naperville city, Illinois                         148304  \n",
       "Aurora city, Illinois                             199602  \n",
       "Chicago city, Illinois                           2705994  \n",
       "\n",
       "[1298 rows x 9 columns]"
      ]
     },
     "execution_count": 57,
     "metadata": {},
     "output_type": "execute_result"
    }
   ],
   "source": [
    "time.T.sort_values(by=time.T.columns[-1])"
   ]
  },
  {
   "cell_type": "code",
   "execution_count": 52,
   "metadata": {
    "ExecuteTime": {
     "end_time": "2019-10-03T04:12:18.120195Z",
     "start_time": "2019-10-03T04:12:18.110261Z"
    }
   },
   "outputs": [],
   "source": [
    "names = time.columns\n",
    "\n",
    "dropdown = [{'label':x.replace(', Illinois', ''), 'value': x} for x in names]"
   ]
  },
  {
   "cell_type": "code",
   "execution_count": 59,
   "metadata": {
    "ExecuteTime": {
     "end_time": "2019-10-03T04:21:09.349649Z",
     "start_time": "2019-10-03T04:21:09.272361Z"
    }
   },
   "outputs": [
    {
     "data": {
      "text/plain": [
       "[{'label': 'Abingdon city', 'value': 'Abingdon city, Illinois'},\n",
       " {'label': 'Addieville village', 'value': 'Addieville village, Illinois'},\n",
       " {'label': 'Addison village', 'value': 'Addison village, Illinois'},\n",
       " {'label': 'Adeline village', 'value': 'Adeline village, Illinois'},\n",
       " {'label': 'Albany village', 'value': 'Albany village, Illinois'},\n",
       " {'label': 'Albers village', 'value': 'Albers village, Illinois'},\n",
       " {'label': 'Albion city', 'value': 'Albion city, Illinois'},\n",
       " {'label': 'Aledo city', 'value': 'Aledo city, Illinois'},\n",
       " {'label': 'Alexis village', 'value': 'Alexis village, Illinois'},\n",
       " {'label': 'Algonquin village', 'value': 'Algonquin village, Illinois'},\n",
       " {'label': 'Alhambra village', 'value': 'Alhambra village, Illinois'},\n",
       " {'label': 'Allendale village', 'value': 'Allendale village, Illinois'},\n",
       " {'label': 'Allenville village', 'value': 'Allenville village, Illinois'},\n",
       " {'label': 'Allerton village', 'value': 'Allerton village, Illinois'},\n",
       " {'label': 'Alma village', 'value': 'Alma village, Illinois'},\n",
       " {'label': 'Alorton village', 'value': 'Alorton village, Illinois'},\n",
       " {'label': 'Alpha village', 'value': 'Alpha village, Illinois'},\n",
       " {'label': 'Alsey village', 'value': 'Alsey village, Illinois'},\n",
       " {'label': 'Alsip village', 'value': 'Alsip village, Illinois'},\n",
       " {'label': 'Altamont city', 'value': 'Altamont city, Illinois'},\n",
       " {'label': 'Alton city', 'value': 'Alton city, Illinois'},\n",
       " {'label': 'Altona village', 'value': 'Altona village, Illinois'},\n",
       " {'label': 'Alto Pass village', 'value': 'Alto Pass village, Illinois'},\n",
       " {'label': 'Alvan village', 'value': 'Alvan village, Illinois'},\n",
       " {'label': 'Amboy city', 'value': 'Amboy city, Illinois'},\n",
       " {'label': 'Anchor village', 'value': 'Anchor village, Illinois'},\n",
       " {'label': 'Andalusia village', 'value': 'Andalusia village, Illinois'},\n",
       " {'label': 'Andover village', 'value': 'Andover village, Illinois'},\n",
       " {'label': 'Anna city', 'value': 'Anna city, Illinois'},\n",
       " {'label': 'Annawan town', 'value': 'Annawan town, Illinois'},\n",
       " {'label': 'Antioch village', 'value': 'Antioch village, Illinois'},\n",
       " {'label': 'Apple River village', 'value': 'Apple River village, Illinois'},\n",
       " {'label': 'Arcola city', 'value': 'Arcola city, Illinois'},\n",
       " {'label': 'Arenzville village', 'value': 'Arenzville village, Illinois'},\n",
       " {'label': 'Argenta village', 'value': 'Argenta village, Illinois'},\n",
       " {'label': 'Arlington village', 'value': 'Arlington village, Illinois'},\n",
       " {'label': 'Arlington Heights village',\n",
       "  'value': 'Arlington Heights village, Illinois'},\n",
       " {'label': 'Armington village', 'value': 'Armington village, Illinois'},\n",
       " {'label': 'Aroma Park village', 'value': 'Aroma Park village, Illinois'},\n",
       " {'label': 'Arrowsmith village', 'value': 'Arrowsmith village, Illinois'},\n",
       " {'label': 'Arthur village', 'value': 'Arthur village, Illinois'},\n",
       " {'label': 'Ashkum village', 'value': 'Ashkum village, Illinois'},\n",
       " {'label': 'Ashland village', 'value': 'Ashland village, Illinois'},\n",
       " {'label': 'Ashley city', 'value': 'Ashley city, Illinois'},\n",
       " {'label': 'Ashmore village', 'value': 'Ashmore village, Illinois'},\n",
       " {'label': 'Ashton village', 'value': 'Ashton village, Illinois'},\n",
       " {'label': 'Assumption city', 'value': 'Assumption city, Illinois'},\n",
       " {'label': 'Astoria town', 'value': 'Astoria town, Illinois'},\n",
       " {'label': 'Athens city', 'value': 'Athens city, Illinois'},\n",
       " {'label': 'Atkinson town', 'value': 'Atkinson town, Illinois'},\n",
       " {'label': 'Atlanta city', 'value': 'Atlanta city, Illinois'},\n",
       " {'label': 'Atwood village', 'value': 'Atwood village, Illinois'},\n",
       " {'label': 'Auburn city', 'value': 'Auburn city, Illinois'},\n",
       " {'label': 'Augusta village', 'value': 'Augusta village, Illinois'},\n",
       " {'label': 'Aurora city', 'value': 'Aurora city, Illinois'},\n",
       " {'label': 'Ava city', 'value': 'Ava city, Illinois'},\n",
       " {'label': 'Aviston village', 'value': 'Aviston village, Illinois'},\n",
       " {'label': 'Avon village', 'value': 'Avon village, Illinois'},\n",
       " {'label': 'Baldwin village', 'value': 'Baldwin village, Illinois'},\n",
       " {'label': 'Banner village', 'value': 'Banner village, Illinois'},\n",
       " {'label': 'Bannockburn village', 'value': 'Bannockburn village, Illinois'},\n",
       " {'label': 'Bardolph village', 'value': 'Bardolph village, Illinois'},\n",
       " {'label': 'Barrington village', 'value': 'Barrington village, Illinois'},\n",
       " {'label': 'Barrington Hills village',\n",
       "  'value': 'Barrington Hills village, Illinois'},\n",
       " {'label': 'Barry city', 'value': 'Barry city, Illinois'},\n",
       " {'label': 'Bartelso village', 'value': 'Bartelso village, Illinois'},\n",
       " {'label': 'Bartlett village', 'value': 'Bartlett village, Illinois'},\n",
       " {'label': 'Bartonville village', 'value': 'Bartonville village, Illinois'},\n",
       " {'label': 'Basco village', 'value': 'Basco village, Illinois'},\n",
       " {'label': 'Batavia city', 'value': 'Batavia city, Illinois'},\n",
       " {'label': 'Batchtown village', 'value': 'Batchtown village, Illinois'},\n",
       " {'label': 'Bath village', 'value': 'Bath village, Illinois'},\n",
       " {'label': 'Baylis village', 'value': 'Baylis village, Illinois'},\n",
       " {'label': 'Bay View Gardens village',\n",
       "  'value': 'Bay View Gardens village, Illinois'},\n",
       " {'label': 'Beach Park village', 'value': 'Beach Park village, Illinois'},\n",
       " {'label': 'Beardstown city', 'value': 'Beardstown city, Illinois'},\n",
       " {'label': 'Beaverville village', 'value': 'Beaverville village, Illinois'},\n",
       " {'label': 'Beckemeyer village', 'value': 'Beckemeyer village, Illinois'},\n",
       " {'label': 'Bedford Park village', 'value': 'Bedford Park village, Illinois'},\n",
       " {'label': 'Beecher village', 'value': 'Beecher village, Illinois'},\n",
       " {'label': 'Beecher City village', 'value': 'Beecher City village, Illinois'},\n",
       " {'label': 'Belgium village', 'value': 'Belgium village, Illinois'},\n",
       " {'label': 'Belknap village', 'value': 'Belknap village, Illinois'},\n",
       " {'label': 'Belle Prairie City town',\n",
       "  'value': 'Belle Prairie City town, Illinois'},\n",
       " {'label': 'Belle Rive village', 'value': 'Belle Rive village, Illinois'},\n",
       " {'label': 'Belleville city', 'value': 'Belleville city, Illinois'},\n",
       " {'label': 'Bellevue village', 'value': 'Bellevue village, Illinois'},\n",
       " {'label': 'Bellflower village', 'value': 'Bellflower village, Illinois'},\n",
       " {'label': 'Bellmont village', 'value': 'Bellmont village, Illinois'},\n",
       " {'label': 'Bellwood village', 'value': 'Bellwood village, Illinois'},\n",
       " {'label': 'Belvidere city', 'value': 'Belvidere city, Illinois'},\n",
       " {'label': 'Bement village', 'value': 'Bement village, Illinois'},\n",
       " {'label': 'Benld city', 'value': 'Benld city, Illinois'},\n",
       " {'label': 'Bensenville village', 'value': 'Bensenville village, Illinois'},\n",
       " {'label': 'Benson village', 'value': 'Benson village, Illinois'},\n",
       " {'label': 'Bentley town', 'value': 'Bentley town, Illinois'},\n",
       " {'label': 'Benton city', 'value': 'Benton city, Illinois'},\n",
       " {'label': 'Berkeley village', 'value': 'Berkeley village, Illinois'},\n",
       " {'label': 'Berlin village', 'value': 'Berlin village, Illinois'},\n",
       " {'label': 'Berwyn city', 'value': 'Berwyn city, Illinois'},\n",
       " {'label': 'Bethalto village', 'value': 'Bethalto village, Illinois'},\n",
       " {'label': 'Bethany village', 'value': 'Bethany village, Illinois'},\n",
       " {'label': 'Biggsville village', 'value': 'Biggsville village, Illinois'},\n",
       " {'label': 'Big Rock village', 'value': 'Big Rock village, Illinois'},\n",
       " {'label': 'Bingham village', 'value': 'Bingham village, Illinois'},\n",
       " {'label': 'Bishop Hill village', 'value': 'Bishop Hill village, Illinois'},\n",
       " {'label': 'Bismarck village', 'value': 'Bismarck village, Illinois'},\n",
       " {'label': 'Blandinsville village',\n",
       "  'value': 'Blandinsville village, Illinois'},\n",
       " {'label': 'Bloomingdale village', 'value': 'Bloomingdale village, Illinois'},\n",
       " {'label': 'Bloomington city', 'value': 'Bloomington city, Illinois'},\n",
       " {'label': 'Blue Island city', 'value': 'Blue Island city, Illinois'},\n",
       " {'label': 'Blue Mound village', 'value': 'Blue Mound village, Illinois'},\n",
       " {'label': 'Bluffs village', 'value': 'Bluffs village, Illinois'},\n",
       " {'label': 'Bluford village', 'value': 'Bluford village, Illinois'},\n",
       " {'label': 'Bolingbrook village', 'value': 'Bolingbrook village, Illinois'},\n",
       " {'label': 'Bondville village', 'value': 'Bondville village, Illinois'},\n",
       " {'label': 'Bone Gap village', 'value': 'Bone Gap village, Illinois'},\n",
       " {'label': 'Bonfield village', 'value': 'Bonfield village, Illinois'},\n",
       " {'label': 'Bonnie village', 'value': 'Bonnie village, Illinois'},\n",
       " {'label': 'Bourbonnais village', 'value': 'Bourbonnais village, Illinois'},\n",
       " {'label': 'Bowen village', 'value': 'Bowen village, Illinois'},\n",
       " {'label': 'Braceville village', 'value': 'Braceville village, Illinois'},\n",
       " {'label': 'Bradford village', 'value': 'Bradford village, Illinois'},\n",
       " {'label': 'Bradley village', 'value': 'Bradley village, Illinois'},\n",
       " {'label': 'Braidwood city', 'value': 'Braidwood city, Illinois'},\n",
       " {'label': 'Breese city', 'value': 'Breese city, Illinois'},\n",
       " {'label': 'Bridgeport city', 'value': 'Bridgeport city, Illinois'},\n",
       " {'label': 'Bridgeview village', 'value': 'Bridgeview village, Illinois'},\n",
       " {'label': 'Brighton village', 'value': 'Brighton village, Illinois'},\n",
       " {'label': 'Brimfield village', 'value': 'Brimfield village, Illinois'},\n",
       " {'label': 'Broadlands village', 'value': 'Broadlands village, Illinois'},\n",
       " {'label': 'Broadview village', 'value': 'Broadview village, Illinois'},\n",
       " {'label': 'Broadwell village', 'value': 'Broadwell village, Illinois'},\n",
       " {'label': 'Brocton village', 'value': 'Brocton village, Illinois'},\n",
       " {'label': 'Brookfield village', 'value': 'Brookfield village, Illinois'},\n",
       " {'label': 'Brooklyn village', 'value': 'Brooklyn village, Illinois'},\n",
       " {'label': 'Brookport city', 'value': 'Brookport city, Illinois'},\n",
       " {'label': 'Broughton village', 'value': 'Broughton village, Illinois'},\n",
       " {'label': 'Browning village', 'value': 'Browning village, Illinois'},\n",
       " {'label': 'Browns village', 'value': 'Browns village, Illinois'},\n",
       " {'label': 'Brownstown village', 'value': 'Brownstown village, Illinois'},\n",
       " {'label': 'Brussels village', 'value': 'Brussels village, Illinois'},\n",
       " {'label': 'Bryant village', 'value': 'Bryant village, Illinois'},\n",
       " {'label': 'Buckingham village', 'value': 'Buckingham village, Illinois'},\n",
       " {'label': 'Buckley village', 'value': 'Buckley village, Illinois'},\n",
       " {'label': 'Buckner village', 'value': 'Buckner village, Illinois'},\n",
       " {'label': 'Buda village', 'value': 'Buda village, Illinois'},\n",
       " {'label': 'Buffalo village', 'value': 'Buffalo village, Illinois'},\n",
       " {'label': 'Buffalo Grove village',\n",
       "  'value': 'Buffalo Grove village, Illinois'},\n",
       " {'label': 'Bull Valley village', 'value': 'Bull Valley village, Illinois'},\n",
       " {'label': 'Bulpitt village', 'value': 'Bulpitt village, Illinois'},\n",
       " {'label': 'Buncombe village', 'value': 'Buncombe village, Illinois'},\n",
       " {'label': 'Bunker Hill city', 'value': 'Bunker Hill city, Illinois'},\n",
       " {'label': 'Burbank city', 'value': 'Burbank city, Illinois'},\n",
       " {'label': 'Bureau Junction village',\n",
       "  'value': 'Bureau Junction village, Illinois'},\n",
       " {'label': 'Burlington village', 'value': 'Burlington village, Illinois'},\n",
       " {'label': 'Burnham village', 'value': 'Burnham village, Illinois'},\n",
       " {'label': 'Burnt Prairie village',\n",
       "  'value': 'Burnt Prairie village, Illinois'},\n",
       " {'label': 'Burr Ridge village', 'value': 'Burr Ridge village, Illinois'},\n",
       " {'label': 'Bush village', 'value': 'Bush village, Illinois'},\n",
       " {'label': 'Bushnell city', 'value': 'Bushnell city, Illinois'},\n",
       " {'label': 'Butler village', 'value': 'Butler village, Illinois'},\n",
       " {'label': 'Byron city', 'value': 'Byron city, Illinois'},\n",
       " {'label': 'Cabery village', 'value': 'Cabery village, Illinois'},\n",
       " {'label': 'Cahokia village', 'value': 'Cahokia village, Illinois'},\n",
       " {'label': 'Cairo city', 'value': 'Cairo city, Illinois'},\n",
       " {'label': 'Caledonia village', 'value': 'Caledonia village, Illinois'},\n",
       " {'label': 'Calhoun village', 'value': 'Calhoun village, Illinois'},\n",
       " {'label': 'Calumet City city', 'value': 'Calumet City city, Illinois'},\n",
       " {'label': 'Calumet Park village', 'value': 'Calumet Park village, Illinois'},\n",
       " {'label': 'Camargo village', 'value': 'Camargo village, Illinois'},\n",
       " {'label': 'Cambria village', 'value': 'Cambria village, Illinois'},\n",
       " {'label': 'Cambridge village', 'value': 'Cambridge village, Illinois'},\n",
       " {'label': 'Camden village', 'value': 'Camden village, Illinois'},\n",
       " {'label': 'Campbell Hill village',\n",
       "  'value': 'Campbell Hill village, Illinois'},\n",
       " {'label': 'Camp Point village', 'value': 'Camp Point village, Illinois'},\n",
       " {'label': 'Campton Hills village',\n",
       "  'value': 'Campton Hills village, Illinois'},\n",
       " {'label': 'Campus village', 'value': 'Campus village, Illinois'},\n",
       " {'label': 'Canton city', 'value': 'Canton city, Illinois'},\n",
       " {'label': 'Cantrall village', 'value': 'Cantrall village, Illinois'},\n",
       " {'label': 'Capron village', 'value': 'Capron village, Illinois'},\n",
       " {'label': 'Carbon Cliff village', 'value': 'Carbon Cliff village, Illinois'},\n",
       " {'label': 'Carbondale city', 'value': 'Carbondale city, Illinois'},\n",
       " {'label': 'Carbon Hill village', 'value': 'Carbon Hill village, Illinois'},\n",
       " {'label': 'Carlinville city', 'value': 'Carlinville city, Illinois'},\n",
       " {'label': 'Carlock village', 'value': 'Carlock village, Illinois'},\n",
       " {'label': 'Carlyle city', 'value': 'Carlyle city, Illinois'},\n",
       " {'label': 'Carmi city', 'value': 'Carmi city, Illinois'},\n",
       " {'label': 'Carol Stream village', 'value': 'Carol Stream village, Illinois'},\n",
       " {'label': 'Carpentersville village',\n",
       "  'value': 'Carpentersville village, Illinois'},\n",
       " {'label': 'Carrier Mills village',\n",
       "  'value': 'Carrier Mills village, Illinois'},\n",
       " {'label': 'Carrollton city', 'value': 'Carrollton city, Illinois'},\n",
       " {'label': 'Carterville city', 'value': 'Carterville city, Illinois'},\n",
       " {'label': 'Carthage city', 'value': 'Carthage city, Illinois'},\n",
       " {'label': 'Cary village', 'value': 'Cary village, Illinois'},\n",
       " {'label': 'Casey city', 'value': 'Casey city, Illinois'},\n",
       " {'label': 'Caseyville village', 'value': 'Caseyville village, Illinois'},\n",
       " {'label': 'Catlin village', 'value': 'Catlin village, Illinois'},\n",
       " {'label': 'Cave-In-Rock village', 'value': 'Cave-In-Rock village, Illinois'},\n",
       " {'label': 'Cedar Point village', 'value': 'Cedar Point village, Illinois'},\n",
       " {'label': 'Cedarville village', 'value': 'Cedarville village, Illinois'},\n",
       " {'label': 'Central City village', 'value': 'Central City village, Illinois'},\n",
       " {'label': 'Centralia city', 'value': 'Centralia city, Illinois'},\n",
       " {'label': 'Centreville city', 'value': 'Centreville city, Illinois'},\n",
       " {'label': 'Cerro Gordo village', 'value': 'Cerro Gordo village, Illinois'},\n",
       " {'label': 'Chadwick village', 'value': 'Chadwick village, Illinois'},\n",
       " {'label': 'Champaign city', 'value': 'Champaign city, Illinois'},\n",
       " {'label': 'Chandlerville village',\n",
       "  'value': 'Chandlerville village, Illinois'},\n",
       " {'label': 'Channahon village', 'value': 'Channahon village, Illinois'},\n",
       " {'label': 'Chapin village', 'value': 'Chapin village, Illinois'},\n",
       " {'label': 'Charleston city', 'value': 'Charleston city, Illinois'},\n",
       " {'label': 'Chatham village', 'value': 'Chatham village, Illinois'},\n",
       " {'label': 'Chatsworth town', 'value': 'Chatsworth town, Illinois'},\n",
       " {'label': 'Chebanse village', 'value': 'Chebanse village, Illinois'},\n",
       " {'label': 'Chenoa city', 'value': 'Chenoa city, Illinois'},\n",
       " {'label': 'Cherry village', 'value': 'Cherry village, Illinois'},\n",
       " {'label': 'Cherry Valley village',\n",
       "  'value': 'Cherry Valley village, Illinois'},\n",
       " {'label': 'Chester city', 'value': 'Chester city, Illinois'},\n",
       " {'label': 'Chesterfield village', 'value': 'Chesterfield village, Illinois'},\n",
       " {'label': 'Chicago city', 'value': 'Chicago city, Illinois'},\n",
       " {'label': 'Chicago Heights city', 'value': 'Chicago Heights city, Illinois'},\n",
       " {'label': 'Chicago Ridge village',\n",
       "  'value': 'Chicago Ridge village, Illinois'},\n",
       " {'label': 'Chillicothe city', 'value': 'Chillicothe city, Illinois'},\n",
       " {'label': 'Chrisman city', 'value': 'Chrisman city, Illinois'},\n",
       " {'label': 'Christopher city', 'value': 'Christopher city, Illinois'},\n",
       " {'label': 'Cicero town', 'value': 'Cicero town, Illinois'},\n",
       " {'label': 'Cisco village', 'value': 'Cisco village, Illinois'},\n",
       " {'label': 'Cisne village', 'value': 'Cisne village, Illinois'},\n",
       " {'label': 'Cissna Park village', 'value': 'Cissna Park village, Illinois'},\n",
       " {'label': 'Claremont village', 'value': 'Claremont village, Illinois'},\n",
       " {'label': 'Clarendon Hills village',\n",
       "  'value': 'Clarendon Hills village, Illinois'},\n",
       " {'label': 'Clay City village', 'value': 'Clay City village, Illinois'},\n",
       " {'label': 'Clayton village', 'value': 'Clayton village, Illinois'},\n",
       " {'label': 'Clear Lake village', 'value': 'Clear Lake village, Illinois'},\n",
       " {'label': 'Cleveland village', 'value': 'Cleveland village, Illinois'},\n",
       " {'label': 'Clifton village', 'value': 'Clifton village, Illinois'},\n",
       " {'label': 'Clinton city', 'value': 'Clinton city, Illinois'},\n",
       " {'label': 'Coal City village', 'value': 'Coal City village, Illinois'},\n",
       " {'label': 'Coalton village', 'value': 'Coalton village, Illinois'},\n",
       " {'label': 'Coal Valley village', 'value': 'Coal Valley village, Illinois'},\n",
       " {'label': 'Coatsburg village', 'value': 'Coatsburg village, Illinois'},\n",
       " {'label': 'Cobden village', 'value': 'Cobden village, Illinois'},\n",
       " {'label': 'Coffeen city', 'value': 'Coffeen city, Illinois'},\n",
       " {'label': 'Colchester city', 'value': 'Colchester city, Illinois'},\n",
       " {'label': 'Coleta village', 'value': 'Coleta village, Illinois'},\n",
       " {'label': 'Colfax village', 'value': 'Colfax village, Illinois'},\n",
       " {'label': 'Collinsville city', 'value': 'Collinsville city, Illinois'},\n",
       " {'label': 'Colona city', 'value': 'Colona city, Illinois'},\n",
       " {'label': 'Colp village', 'value': 'Colp village, Illinois'},\n",
       " {'label': 'Columbia city', 'value': 'Columbia city, Illinois'},\n",
       " {'label': 'Columbus village', 'value': 'Columbus village, Illinois'},\n",
       " {'label': 'Compton village', 'value': 'Compton village, Illinois'},\n",
       " {'label': 'Concord village', 'value': 'Concord village, Illinois'},\n",
       " {'label': 'Congerville village', 'value': 'Congerville village, Illinois'},\n",
       " {'label': 'Cooksville village', 'value': 'Cooksville village, Illinois'},\n",
       " {'label': 'Cordova village', 'value': 'Cordova village, Illinois'},\n",
       " {'label': 'Cornell village', 'value': 'Cornell village, Illinois'},\n",
       " {'label': 'Cortland town', 'value': 'Cortland town, Illinois'},\n",
       " {'label': 'Coulterville village', 'value': 'Coulterville village, Illinois'},\n",
       " {'label': 'Country Club Hills city',\n",
       "  'value': 'Country Club Hills city, Illinois'},\n",
       " {'label': 'Countryside city', 'value': 'Countryside city, Illinois'},\n",
       " {'label': 'Cowden village', 'value': 'Cowden village, Illinois'},\n",
       " {'label': 'Crainville village', 'value': 'Crainville village, Illinois'},\n",
       " {'label': 'Creal Springs city', 'value': 'Creal Springs city, Illinois'},\n",
       " {'label': 'Crescent City village',\n",
       "  'value': 'Crescent City village, Illinois'},\n",
       " {'label': 'Crest Hill city', 'value': 'Crest Hill city, Illinois'},\n",
       " {'label': 'Creston village', 'value': 'Creston village, Illinois'},\n",
       " {'label': 'Crestwood village', 'value': 'Crestwood village, Illinois'},\n",
       " {'label': 'Crete village', 'value': 'Crete village, Illinois'},\n",
       " {'label': 'Creve Coeur village', 'value': 'Creve Coeur village, Illinois'},\n",
       " {'label': 'Crossville village', 'value': 'Crossville village, Illinois'},\n",
       " {'label': 'Crystal Lake city', 'value': 'Crystal Lake city, Illinois'},\n",
       " {'label': 'Cuba city', 'value': 'Cuba city, Illinois'},\n",
       " {'label': 'Cullom village', 'value': 'Cullom village, Illinois'},\n",
       " {'label': 'Curran village', 'value': 'Curran village, Illinois'},\n",
       " {'label': 'Cutler village', 'value': 'Cutler village, Illinois'},\n",
       " {'label': 'Cypress village', 'value': 'Cypress village, Illinois'},\n",
       " {'label': 'Dahlgren village', 'value': 'Dahlgren village, Illinois'},\n",
       " {'label': 'Dakota village', 'value': 'Dakota village, Illinois'},\n",
       " {'label': 'Dallas City city', 'value': 'Dallas City city, Illinois'},\n",
       " {'label': 'Dalton City village', 'value': 'Dalton City village, Illinois'},\n",
       " {'label': 'Dalzell village', 'value': 'Dalzell village, Illinois'},\n",
       " {'label': 'Damiansville village', 'value': 'Damiansville village, Illinois'},\n",
       " {'label': 'Dana village', 'value': 'Dana village, Illinois'},\n",
       " {'label': 'Danforth village', 'value': 'Danforth village, Illinois'},\n",
       " {'label': 'Danvers village', 'value': 'Danvers village, Illinois'},\n",
       " {'label': 'Danville city', 'value': 'Danville city, Illinois'},\n",
       " {'label': 'Darien city', 'value': 'Darien city, Illinois'},\n",
       " {'label': 'Davis village', 'value': 'Davis village, Illinois'},\n",
       " {'label': 'Davis Junction village',\n",
       "  'value': 'Davis Junction village, Illinois'},\n",
       " {'label': 'Dawson village', 'value': 'Dawson village, Illinois'},\n",
       " {'label': 'Decatur city', 'value': 'Decatur city, Illinois'},\n",
       " {'label': 'Deer Creek village', 'value': 'Deer Creek village, Illinois'},\n",
       " {'label': 'Deerfield village', 'value': 'Deerfield village, Illinois'},\n",
       " {'label': 'Deer Grove village', 'value': 'Deer Grove village, Illinois'},\n",
       " {'label': 'Deer Park village', 'value': 'Deer Park village, Illinois'},\n",
       " {'label': 'DeKalb city', 'value': 'DeKalb city, Illinois'},\n",
       " {'label': 'De Land village', 'value': 'De Land village, Illinois'},\n",
       " {'label': 'Delavan city', 'value': 'Delavan city, Illinois'},\n",
       " {'label': 'De Pue village', 'value': 'De Pue village, Illinois'},\n",
       " {'label': 'De Soto village', 'value': 'De Soto village, Illinois'},\n",
       " {'label': 'Des Plaines city', 'value': 'Des Plaines city, Illinois'},\n",
       " {'label': 'Detroit village', 'value': 'Detroit village, Illinois'},\n",
       " {'label': 'De Witt village', 'value': 'De Witt village, Illinois'},\n",
       " {'label': 'Diamond village', 'value': 'Diamond village, Illinois'},\n",
       " {'label': 'Dieterich village', 'value': 'Dieterich village, Illinois'},\n",
       " {'label': 'Divernon village', 'value': 'Divernon village, Illinois'},\n",
       " {'label': 'Dix village', 'value': 'Dix village, Illinois'},\n",
       " {'label': 'Dixmoor village', 'value': 'Dixmoor village, Illinois'},\n",
       " {'label': 'Dixon city', 'value': 'Dixon city, Illinois'},\n",
       " {'label': 'Dolton village', 'value': 'Dolton village, Illinois'},\n",
       " {'label': 'Dongola village', 'value': 'Dongola village, Illinois'},\n",
       " {'label': 'Donnellson village', 'value': 'Donnellson village, Illinois'},\n",
       " {'label': 'Donovan village', 'value': 'Donovan village, Illinois'},\n",
       " {'label': 'Dorchester village', 'value': 'Dorchester village, Illinois'},\n",
       " {'label': 'Dover village', 'value': 'Dover village, Illinois'},\n",
       " {'label': 'Dowell village', 'value': 'Dowell village, Illinois'},\n",
       " {'label': 'Downers Grove village',\n",
       "  'value': 'Downers Grove village, Illinois'},\n",
       " {'label': 'Downs village', 'value': 'Downs village, Illinois'},\n",
       " {'label': 'Du Bois village', 'value': 'Du Bois village, Illinois'},\n",
       " {'label': 'Dunfermline village', 'value': 'Dunfermline village, Illinois'},\n",
       " {'label': 'Dunlap village', 'value': 'Dunlap village, Illinois'},\n",
       " {'label': 'Dupo village', 'value': 'Dupo village, Illinois'},\n",
       " {'label': 'Du Quoin city', 'value': 'Du Quoin city, Illinois'},\n",
       " {'label': 'Durand village', 'value': 'Durand village, Illinois'},\n",
       " {'label': 'Dwight village', 'value': 'Dwight village, Illinois'},\n",
       " {'label': 'Eagarville village', 'value': 'Eagarville village, Illinois'},\n",
       " {'label': 'Earlville city', 'value': 'Earlville city, Illinois'},\n",
       " {'label': 'East Alton village', 'value': 'East Alton village, Illinois'},\n",
       " {'label': 'East Brooklyn village',\n",
       "  'value': 'East Brooklyn village, Illinois'},\n",
       " {'label': 'East Cape Girardeau village',\n",
       "  'value': 'East Cape Girardeau village, Illinois'},\n",
       " {'label': 'East Carondelet village',\n",
       "  'value': 'East Carondelet village, Illinois'},\n",
       " {'label': 'East Dubuque city', 'value': 'East Dubuque city, Illinois'},\n",
       " {'label': 'East Dundee village', 'value': 'East Dundee village, Illinois'},\n",
       " {'label': 'East Galesburg village',\n",
       "  'value': 'East Galesburg village, Illinois'},\n",
       " {'label': 'East Gillespie village',\n",
       "  'value': 'East Gillespie village, Illinois'},\n",
       " {'label': 'East Hazel Crest village',\n",
       "  'value': 'East Hazel Crest village, Illinois'},\n",
       " {'label': 'East Moline city', 'value': 'East Moline city, Illinois'},\n",
       " {'label': 'Easton village', 'value': 'Easton village, Illinois'},\n",
       " {'label': 'East Peoria city', 'value': 'East Peoria city, Illinois'},\n",
       " {'label': 'East St. Louis city', 'value': 'East St. Louis city, Illinois'},\n",
       " {'label': 'Eddyville village', 'value': 'Eddyville village, Illinois'},\n",
       " {'label': 'Edgewood village', 'value': 'Edgewood village, Illinois'},\n",
       " {'label': 'Edinburg village', 'value': 'Edinburg village, Illinois'},\n",
       " {'label': 'Edwardsville city', 'value': 'Edwardsville city, Illinois'},\n",
       " {'label': 'Effingham city', 'value': 'Effingham city, Illinois'},\n",
       " {'label': 'Elburn village', 'value': 'Elburn village, Illinois'},\n",
       " {'label': 'El Dara village', 'value': 'El Dara village, Illinois'},\n",
       " {'label': 'Eldorado city', 'value': 'Eldorado city, Illinois'},\n",
       " {'label': 'Eldred village', 'value': 'Eldred village, Illinois'},\n",
       " {'label': 'Elgin city', 'value': 'Elgin city, Illinois'},\n",
       " {'label': 'Elizabeth village', 'value': 'Elizabeth village, Illinois'},\n",
       " {'label': 'Elizabethtown village',\n",
       "  'value': 'Elizabethtown village, Illinois'},\n",
       " {'label': 'Elk Grove Village village',\n",
       "  'value': 'Elk Grove Village village, Illinois'},\n",
       " {'label': 'Elkhart village', 'value': 'Elkhart village, Illinois'},\n",
       " {'label': 'Elkville village', 'value': 'Elkville village, Illinois'},\n",
       " {'label': 'Elliott village', 'value': 'Elliott village, Illinois'},\n",
       " {'label': 'Ellis Grove village', 'value': 'Ellis Grove village, Illinois'},\n",
       " {'label': 'Ellisville village', 'value': 'Ellisville village, Illinois'},\n",
       " {'label': 'Ellsworth village', 'value': 'Ellsworth village, Illinois'},\n",
       " {'label': 'Elmhurst city', 'value': 'Elmhurst city, Illinois'},\n",
       " {'label': 'Elmwood city', 'value': 'Elmwood city, Illinois'},\n",
       " {'label': 'Elmwood Park village', 'value': 'Elmwood Park village, Illinois'},\n",
       " {'label': 'El Paso city', 'value': 'El Paso city, Illinois'},\n",
       " {'label': 'Elsah village', 'value': 'Elsah village, Illinois'},\n",
       " {'label': 'Elvaston village', 'value': 'Elvaston village, Illinois'},\n",
       " {'label': 'Elwood village', 'value': 'Elwood village, Illinois'},\n",
       " {'label': 'Emden village', 'value': 'Emden village, Illinois'},\n",
       " {'label': 'Emington village', 'value': 'Emington village, Illinois'},\n",
       " {'label': 'Energy village', 'value': 'Energy village, Illinois'},\n",
       " {'label': 'Enfield village', 'value': 'Enfield village, Illinois'},\n",
       " {'label': 'Equality village', 'value': 'Equality village, Illinois'},\n",
       " {'label': 'Erie village', 'value': 'Erie village, Illinois'},\n",
       " {'label': 'Essex village', 'value': 'Essex village, Illinois'},\n",
       " {'label': 'Eureka city', 'value': 'Eureka city, Illinois'},\n",
       " {'label': 'Evanston city', 'value': 'Evanston city, Illinois'},\n",
       " {'label': 'Evansville village', 'value': 'Evansville village, Illinois'},\n",
       " {'label': 'Evergreen Park village',\n",
       "  'value': 'Evergreen Park village, Illinois'},\n",
       " {'label': 'Ewing village', 'value': 'Ewing village, Illinois'},\n",
       " {'label': 'Exeter village', 'value': 'Exeter village, Illinois'},\n",
       " {'label': 'Fairbury city', 'value': 'Fairbury city, Illinois'},\n",
       " {'label': 'Fairfield city', 'value': 'Fairfield city, Illinois'},\n",
       " {'label': 'Fairmont City village',\n",
       "  'value': 'Fairmont City village, Illinois'},\n",
       " {'label': 'Fairmount village', 'value': 'Fairmount village, Illinois'},\n",
       " {'label': 'Fairview village', 'value': 'Fairview village, Illinois'},\n",
       " {'label': 'Fairview Heights city',\n",
       "  'value': 'Fairview Heights city, Illinois'},\n",
       " {'label': 'Farina village', 'value': 'Farina village, Illinois'},\n",
       " {'label': 'Farmer City city', 'value': 'Farmer City city, Illinois'},\n",
       " {'label': 'Farmersville village', 'value': 'Farmersville village, Illinois'},\n",
       " {'label': 'Farmington city', 'value': 'Farmington city, Illinois'},\n",
       " {'label': 'Fayetteville village', 'value': 'Fayetteville village, Illinois'},\n",
       " {'label': 'Ferris village', 'value': 'Ferris village, Illinois'},\n",
       " {'label': 'Fidelity village', 'value': 'Fidelity village, Illinois'},\n",
       " {'label': 'Fieldon village', 'value': 'Fieldon village, Illinois'},\n",
       " {'label': 'Fillmore village', 'value': 'Fillmore village, Illinois'},\n",
       " {'label': 'Findlay village', 'value': 'Findlay village, Illinois'},\n",
       " {'label': 'Fisher village', 'value': 'Fisher village, Illinois'},\n",
       " {'label': 'Fithian village', 'value': 'Fithian village, Illinois'},\n",
       " {'label': 'Flanagan village', 'value': 'Flanagan village, Illinois'},\n",
       " {'label': 'Flat Rock village', 'value': 'Flat Rock village, Illinois'},\n",
       " {'label': 'Flora city', 'value': 'Flora city, Illinois'},\n",
       " {'label': 'Florence village', 'value': 'Florence village, Illinois'},\n",
       " {'label': 'Flossmoor village', 'value': 'Flossmoor village, Illinois'},\n",
       " {'label': 'Foosland village', 'value': 'Foosland village, Illinois'},\n",
       " {'label': 'Ford Heights village', 'value': 'Ford Heights village, Illinois'},\n",
       " {'label': 'Forest City village', 'value': 'Forest City village, Illinois'},\n",
       " {'label': 'Forest Park village', 'value': 'Forest Park village, Illinois'},\n",
       " {'label': 'Forest View village', 'value': 'Forest View village, Illinois'},\n",
       " {'label': 'Forrest village', 'value': 'Forrest village, Illinois'},\n",
       " {'label': 'Forreston village', 'value': 'Forreston village, Illinois'},\n",
       " {'label': 'Forsyth village', 'value': 'Forsyth village, Illinois'},\n",
       " {'label': 'Fox Lake village', 'value': 'Fox Lake village, Illinois'},\n",
       " {'label': 'Fox River Grove village',\n",
       "  'value': 'Fox River Grove village, Illinois'},\n",
       " {'label': 'Frankfort village', 'value': 'Frankfort village, Illinois'},\n",
       " {'label': 'Franklin village', 'value': 'Franklin village, Illinois'},\n",
       " {'label': 'Franklin Grove village',\n",
       "  'value': 'Franklin Grove village, Illinois'},\n",
       " {'label': 'Franklin Park village',\n",
       "  'value': 'Franklin Park village, Illinois'},\n",
       " {'label': 'Freeburg village', 'value': 'Freeburg village, Illinois'},\n",
       " {'label': 'Freeman Spur village', 'value': 'Freeman Spur village, Illinois'},\n",
       " {'label': 'Freeport city', 'value': 'Freeport city, Illinois'},\n",
       " {'label': 'Fulton city', 'value': 'Fulton city, Illinois'},\n",
       " {'label': 'Fults village', 'value': 'Fults village, Illinois'},\n",
       " {'label': 'Galatia village', 'value': 'Galatia village, Illinois'},\n",
       " {'label': 'Galena city', 'value': 'Galena city, Illinois'},\n",
       " {'label': 'Galesburg city', 'value': 'Galesburg city, Illinois'},\n",
       " {'label': 'Galva city', 'value': 'Galva city, Illinois'},\n",
       " {'label': 'Gardner village', 'value': 'Gardner village, Illinois'},\n",
       " {'label': 'Garrett village', 'value': 'Garrett village, Illinois'},\n",
       " {'label': 'Gays village', 'value': 'Gays village, Illinois'},\n",
       " {'label': 'Geneseo city', 'value': 'Geneseo city, Illinois'},\n",
       " {'label': 'Geneva city', 'value': 'Geneva city, Illinois'},\n",
       " {'label': 'Genoa city', 'value': 'Genoa city, Illinois'},\n",
       " {'label': 'Georgetown city', 'value': 'Georgetown city, Illinois'},\n",
       " {'label': 'Germantown village', 'value': 'Germantown village, Illinois'},\n",
       " {'label': 'Germantown Hills village',\n",
       "  'value': 'Germantown Hills village, Illinois'},\n",
       " {'label': 'German Valley village',\n",
       "  'value': 'German Valley village, Illinois'},\n",
       " {'label': 'Gibson City city', 'value': 'Gibson City city, Illinois'},\n",
       " {'label': 'Gifford village', 'value': 'Gifford village, Illinois'},\n",
       " {'label': 'Gilberts village', 'value': 'Gilberts village, Illinois'},\n",
       " {'label': 'Gillespie city', 'value': 'Gillespie city, Illinois'},\n",
       " {'label': 'Gilman city', 'value': 'Gilman city, Illinois'},\n",
       " {'label': 'Girard city', 'value': 'Girard city, Illinois'},\n",
       " {'label': 'Gladstone village', 'value': 'Gladstone village, Illinois'},\n",
       " {'label': 'Glasford village', 'value': 'Glasford village, Illinois'},\n",
       " {'label': 'Glasgow village', 'value': 'Glasgow village, Illinois'},\n",
       " {'label': 'Glen Carbon village', 'value': 'Glen Carbon village, Illinois'},\n",
       " {'label': 'Glencoe village', 'value': 'Glencoe village, Illinois'},\n",
       " {'label': 'Glendale Heights village',\n",
       "  'value': 'Glendale Heights village, Illinois'},\n",
       " {'label': 'Glen Ellyn village', 'value': 'Glen Ellyn village, Illinois'},\n",
       " {'label': 'Glenview village', 'value': 'Glenview village, Illinois'},\n",
       " {'label': 'Glenwood village', 'value': 'Glenwood village, Illinois'},\n",
       " {'label': 'Godfrey village', 'value': 'Godfrey village, Illinois'},\n",
       " {'label': 'Godley village', 'value': 'Godley village, Illinois'},\n",
       " {'label': 'Golconda city', 'value': 'Golconda city, Illinois'},\n",
       " {'label': 'Golden village', 'value': 'Golden village, Illinois'},\n",
       " {'label': 'Golden Gate village', 'value': 'Golden Gate village, Illinois'},\n",
       " {'label': 'Golf village', 'value': 'Golf village, Illinois'},\n",
       " {'label': 'Goodfield village', 'value': 'Goodfield village, Illinois'},\n",
       " {'label': 'Good Hope village', 'value': 'Good Hope village, Illinois'},\n",
       " {'label': 'Goreville village', 'value': 'Goreville village, Illinois'},\n",
       " {'label': 'Gorham village', 'value': 'Gorham village, Illinois'},\n",
       " {'label': 'Grafton city', 'value': 'Grafton city, Illinois'},\n",
       " {'label': 'Grand Ridge village', 'value': 'Grand Ridge village, Illinois'},\n",
       " {'label': 'Grand Tower city', 'value': 'Grand Tower city, Illinois'},\n",
       " {'label': 'Grandview village', 'value': 'Grandview village, Illinois'},\n",
       " {'label': 'Granite City city', 'value': 'Granite City city, Illinois'},\n",
       " {'label': 'Grantfork village', 'value': 'Grantfork village, Illinois'},\n",
       " {'label': 'Grant Park village', 'value': 'Grant Park village, Illinois'},\n",
       " {'label': 'Granville village', 'value': 'Granville village, Illinois'},\n",
       " {'label': 'Grayslake village', 'value': 'Grayslake village, Illinois'},\n",
       " {'label': 'Grayville city', 'value': 'Grayville city, Illinois'},\n",
       " {'label': 'Greenfield city', 'value': 'Greenfield city, Illinois'},\n",
       " {'label': 'Green Oaks village', 'value': 'Green Oaks village, Illinois'},\n",
       " {'label': 'Greenup village', 'value': 'Greenup village, Illinois'},\n",
       " {'label': 'Green Valley village', 'value': 'Green Valley village, Illinois'},\n",
       " {'label': 'Greenview village', 'value': 'Greenview village, Illinois'},\n",
       " {'label': 'Greenville city', 'value': 'Greenville city, Illinois'},\n",
       " {'label': 'Greenwood village', 'value': 'Greenwood village, Illinois'},\n",
       " {'label': 'Gridley village', 'value': 'Gridley village, Illinois'},\n",
       " {'label': 'Griggsville city', 'value': 'Griggsville city, Illinois'},\n",
       " {'label': 'Gulf Port village', 'value': 'Gulf Port village, Illinois'},\n",
       " {'label': 'Gurnee village', 'value': 'Gurnee village, Illinois'},\n",
       " {'label': 'Hainesville village', 'value': 'Hainesville village, Illinois'},\n",
       " {'label': 'Hamburg village', 'value': 'Hamburg village, Illinois'},\n",
       " {'label': 'Hamel village', 'value': 'Hamel village, Illinois'},\n",
       " {'label': 'Hamilton city', 'value': 'Hamilton city, Illinois'},\n",
       " {'label': 'Hammond village', 'value': 'Hammond village, Illinois'},\n",
       " {'label': 'Hampshire village', 'value': 'Hampshire village, Illinois'},\n",
       " {'label': 'Hampton village', 'value': 'Hampton village, Illinois'},\n",
       " {'label': 'Hanaford village', 'value': 'Hanaford village, Illinois'},\n",
       " {'label': 'Hanna City village', 'value': 'Hanna City village, Illinois'},\n",
       " {'label': 'Hanover village', 'value': 'Hanover village, Illinois'},\n",
       " {'label': 'Hanover Park village', 'value': 'Hanover Park village, Illinois'},\n",
       " {'label': 'Hardin village', 'value': 'Hardin village, Illinois'},\n",
       " {'label': 'Harmon village', 'value': 'Harmon village, Illinois'},\n",
       " {'label': 'Harrisburg city', 'value': 'Harrisburg city, Illinois'},\n",
       " {'label': 'Harristown village', 'value': 'Harristown village, Illinois'},\n",
       " {'label': 'Hartford village', 'value': 'Hartford village, Illinois'},\n",
       " {'label': 'Hartsburg village', 'value': 'Hartsburg village, Illinois'},\n",
       " {'label': 'Harvard city', 'value': 'Harvard city, Illinois'},\n",
       " {'label': 'Harvel village', 'value': 'Harvel village, Illinois'},\n",
       " {'label': 'Harvey city', 'value': 'Harvey city, Illinois'},\n",
       " {'label': 'Harwood Heights village',\n",
       "  'value': 'Harwood Heights village, Illinois'},\n",
       " {'label': 'Havana city', 'value': 'Havana city, Illinois'},\n",
       " {'label': 'Hawthorn Woods village',\n",
       "  'value': 'Hawthorn Woods village, Illinois'},\n",
       " {'label': 'Hazel Crest village', 'value': 'Hazel Crest village, Illinois'},\n",
       " {'label': 'Hebron village', 'value': 'Hebron village, Illinois'},\n",
       " {'label': 'Hecker village', 'value': 'Hecker village, Illinois'},\n",
       " {'label': 'Henderson village', 'value': 'Henderson village, Illinois'},\n",
       " {'label': 'Hennepin village', 'value': 'Hennepin village, Illinois'},\n",
       " {'label': 'Henning village', 'value': 'Henning village, Illinois'},\n",
       " {'label': 'Henry city', 'value': 'Henry city, Illinois'},\n",
       " {'label': 'Herrick village', 'value': 'Herrick village, Illinois'},\n",
       " {'label': 'Herrin city', 'value': 'Herrin city, Illinois'},\n",
       " {'label': 'Herscher village', 'value': 'Herscher village, Illinois'},\n",
       " {'label': 'Hettick village', 'value': 'Hettick village, Illinois'},\n",
       " {'label': 'Heyworth village', 'value': 'Heyworth village, Illinois'},\n",
       " {'label': 'Hickory Hills city', 'value': 'Hickory Hills city, Illinois'},\n",
       " {'label': 'Hidalgo village', 'value': 'Hidalgo village, Illinois'},\n",
       " {'label': 'Highland city', 'value': 'Highland city, Illinois'},\n",
       " {'label': 'Highland Park city', 'value': 'Highland Park city, Illinois'},\n",
       " {'label': 'Highwood city', 'value': 'Highwood city, Illinois'},\n",
       " {'label': 'Hillcrest village', 'value': 'Hillcrest village, Illinois'},\n",
       " {'label': 'Hillsboro city', 'value': 'Hillsboro city, Illinois'},\n",
       " {'label': 'Hillsdale village', 'value': 'Hillsdale village, Illinois'},\n",
       " {'label': 'Hillside village', 'value': 'Hillside village, Illinois'},\n",
       " {'label': 'Hillview village', 'value': 'Hillview village, Illinois'},\n",
       " {'label': 'Hinckley village', 'value': 'Hinckley village, Illinois'},\n",
       " {'label': 'Hindsboro village', 'value': 'Hindsboro village, Illinois'},\n",
       " {'label': 'Hinsdale village', 'value': 'Hinsdale village, Illinois'},\n",
       " {'label': 'Hodgkins village', 'value': 'Hodgkins village, Illinois'},\n",
       " {'label': 'Hoffman village', 'value': 'Hoffman village, Illinois'},\n",
       " {'label': 'Hoffman Estates village',\n",
       "  'value': 'Hoffman Estates village, Illinois'},\n",
       " {'label': 'Holiday Hills village',\n",
       "  'value': 'Holiday Hills village, Illinois'},\n",
       " {'label': 'Hollowayville village',\n",
       "  'value': 'Hollowayville village, Illinois'},\n",
       " {'label': 'Homer village', 'value': 'Homer village, Illinois'},\n",
       " {'label': 'Homer Glen village', 'value': 'Homer Glen village, Illinois'},\n",
       " {'label': 'Hometown city', 'value': 'Hometown city, Illinois'},\n",
       " {'label': 'Homewood village', 'value': 'Homewood village, Illinois'},\n",
       " {'label': 'Hoopeston city', 'value': 'Hoopeston city, Illinois'},\n",
       " {'label': 'Hooppole village', 'value': 'Hooppole village, Illinois'},\n",
       " {'label': 'Hopedale village', 'value': 'Hopedale village, Illinois'},\n",
       " {'label': 'Hopewell village', 'value': 'Hopewell village, Illinois'},\n",
       " {'label': 'Hopkins Park village', 'value': 'Hopkins Park village, Illinois'},\n",
       " {'label': 'Hoyleton village', 'value': 'Hoyleton village, Illinois'},\n",
       " {'label': 'Hudson village', 'value': 'Hudson village, Illinois'},\n",
       " {'label': 'Huey village', 'value': 'Huey village, Illinois'},\n",
       " {'label': 'Hull village', 'value': 'Hull village, Illinois'},\n",
       " {'label': 'Humboldt village', 'value': 'Humboldt village, Illinois'},\n",
       " {'label': 'Hume village', 'value': 'Hume village, Illinois'},\n",
       " {'label': 'Huntley village', 'value': 'Huntley village, Illinois'},\n",
       " {'label': 'Hurst city', 'value': 'Hurst city, Illinois'},\n",
       " {'label': 'Hutsonville village', 'value': 'Hutsonville village, Illinois'},\n",
       " {'label': 'Illiopolis village', 'value': 'Illiopolis village, Illinois'},\n",
       " {'label': 'Ina village', 'value': 'Ina village, Illinois'},\n",
       " {'label': 'Indian Creek village', 'value': 'Indian Creek village, Illinois'},\n",
       " {'label': 'Indian Head Park village',\n",
       "  'value': 'Indian Head Park village, Illinois'},\n",
       " {'label': 'Indianola village', 'value': 'Indianola village, Illinois'},\n",
       " {'label': 'Industry village', 'value': 'Industry village, Illinois'},\n",
       " {'label': 'Inverness village', 'value': 'Inverness village, Illinois'},\n",
       " {'label': 'Iola village', 'value': 'Iola village, Illinois'},\n",
       " {'label': 'Ipava village', 'value': 'Ipava village, Illinois'},\n",
       " {'label': 'Iroquois village', 'value': 'Iroquois village, Illinois'},\n",
       " {'label': 'Irving village', 'value': 'Irving village, Illinois'},\n",
       " {'label': 'Irvington village', 'value': 'Irvington village, Illinois'},\n",
       " {'label': 'Irwin village', 'value': 'Irwin village, Illinois'},\n",
       " {'label': 'Island Lake village', 'value': 'Island Lake village, Illinois'},\n",
       " {'label': 'Itasca village', 'value': 'Itasca village, Illinois'},\n",
       " {'label': 'Iuka village', 'value': 'Iuka village, Illinois'},\n",
       " {'label': 'Ivesdale village', 'value': 'Ivesdale village, Illinois'},\n",
       " {'label': 'Jacksonville city', 'value': 'Jacksonville city, Illinois'},\n",
       " {'label': 'Jeffersonville village',\n",
       "  'value': 'Jeffersonville village, Illinois'},\n",
       " {'label': 'Jeisyville village', 'value': 'Jeisyville village, Illinois'},\n",
       " {'label': 'Jerome village', 'value': 'Jerome village, Illinois'},\n",
       " {'label': 'Jerseyville city', 'value': 'Jerseyville city, Illinois'},\n",
       " {'label': 'Jewett village', 'value': 'Jewett village, Illinois'},\n",
       " {'label': 'Johnsburg village', 'value': 'Johnsburg village, Illinois'},\n",
       " {'label': 'Johnsonville village', 'value': 'Johnsonville village, Illinois'},\n",
       " {'label': 'Johnston City city', 'value': 'Johnston City city, Illinois'},\n",
       " {'label': 'Joliet city', 'value': 'Joliet city, Illinois'},\n",
       " {'label': 'Jonesboro city', 'value': 'Jonesboro city, Illinois'},\n",
       " {'label': 'Joppa village', 'value': 'Joppa village, Illinois'},\n",
       " {'label': 'Joy village', 'value': 'Joy village, Illinois'},\n",
       " {'label': 'Junction village', 'value': 'Junction village, Illinois'},\n",
       " {'label': 'Junction City village',\n",
       "  'value': 'Junction City village, Illinois'},\n",
       " {'label': 'Justice village', 'value': 'Justice village, Illinois'},\n",
       " {'label': 'Kampsville village', 'value': 'Kampsville village, Illinois'},\n",
       " {'label': 'Kane village', 'value': 'Kane village, Illinois'},\n",
       " {'label': 'Kaneville village', 'value': 'Kaneville village, Illinois'},\n",
       " {'label': 'Kangley village', 'value': 'Kangley village, Illinois'},\n",
       " {'label': 'Kankakee city', 'value': 'Kankakee city, Illinois'},\n",
       " {'label': 'Kansas village', 'value': 'Kansas village, Illinois'},\n",
       " {'label': 'Kappa village', 'value': 'Kappa village, Illinois'},\n",
       " {'label': 'Karnak village', 'value': 'Karnak village, Illinois'},\n",
       " {'label': 'Kaskaskia village', 'value': 'Kaskaskia village, Illinois'},\n",
       " {'label': 'Keenes village', 'value': 'Keenes village, Illinois'},\n",
       " {'label': 'Keensburg village', 'value': 'Keensburg village, Illinois'},\n",
       " {'label': 'Keithsburg city', 'value': 'Keithsburg city, Illinois'},\n",
       " {'label': 'Kell village', 'value': 'Kell village, Illinois'},\n",
       " {'label': 'Kempton village', 'value': 'Kempton village, Illinois'},\n",
       " {'label': 'Kenilworth village', 'value': 'Kenilworth village, Illinois'},\n",
       " {'label': 'Kenney village', 'value': 'Kenney village, Illinois'},\n",
       " {'label': 'Kewanee city', 'value': 'Kewanee city, Illinois'},\n",
       " {'label': 'Keyesport village', 'value': 'Keyesport village, Illinois'},\n",
       " {'label': 'Kilbourne village', 'value': 'Kilbourne village, Illinois'},\n",
       " {'label': 'Kildeer village', 'value': 'Kildeer village, Illinois'},\n",
       " {'label': 'Kincaid village', 'value': 'Kincaid village, Illinois'},\n",
       " {'label': 'Kinderhook village', 'value': 'Kinderhook village, Illinois'},\n",
       " {'label': 'Kingston village', 'value': 'Kingston village, Illinois'},\n",
       " {'label': 'Kingston Mines village',\n",
       "  'value': 'Kingston Mines village, Illinois'},\n",
       " {'label': 'Kinmundy city', 'value': 'Kinmundy city, Illinois'},\n",
       " {'label': 'Kinsman village', 'value': 'Kinsman village, Illinois'},\n",
       " {'label': 'Kirkland village', 'value': 'Kirkland village, Illinois'},\n",
       " {'label': 'Kirkwood village', 'value': 'Kirkwood village, Illinois'},\n",
       " {'label': 'Knoxville city', 'value': 'Knoxville city, Illinois'},\n",
       " {'label': 'Lacon city', 'value': 'Lacon city, Illinois'},\n",
       " {'label': 'Ladd village', 'value': 'Ladd village, Illinois'},\n",
       " {'label': 'La Fayette village', 'value': 'La Fayette village, Illinois'},\n",
       " {'label': 'La Grange village', 'value': 'La Grange village, Illinois'},\n",
       " {'label': 'La Grange Park village',\n",
       "  'value': 'La Grange Park village, Illinois'},\n",
       " {'label': 'La Harpe city', 'value': 'La Harpe city, Illinois'},\n",
       " {'label': 'Lake Barrington village',\n",
       "  'value': 'Lake Barrington village, Illinois'},\n",
       " {'label': 'Lake Bluff village', 'value': 'Lake Bluff village, Illinois'},\n",
       " {'label': 'Lake Forest city', 'value': 'Lake Forest city, Illinois'},\n",
       " {'label': 'Lake in the Hills village',\n",
       "  'value': 'Lake in the Hills village, Illinois'},\n",
       " {'label': 'Lake Ka-Ho village', 'value': 'Lake Ka-Ho village, Illinois'},\n",
       " {'label': 'Lakemoor village', 'value': 'Lakemoor village, Illinois'},\n",
       " {'label': 'Lake Villa village', 'value': 'Lake Villa village, Illinois'},\n",
       " {'label': 'Lakewood village', 'value': 'Lakewood village, Illinois'},\n",
       " {'label': 'Lake Zurich village', 'value': 'Lake Zurich village, Illinois'},\n",
       " {'label': 'La Moille village', 'value': 'La Moille village, Illinois'},\n",
       " {'label': 'Lanark city', 'value': 'Lanark city, Illinois'},\n",
       " {'label': 'Lansing village', 'value': 'Lansing village, Illinois'},\n",
       " {'label': 'La Prairie village', 'value': 'La Prairie village, Illinois'},\n",
       " {'label': 'La Rose village', 'value': 'La Rose village, Illinois'},\n",
       " {'label': 'LaSalle city', 'value': 'LaSalle city, Illinois'},\n",
       " {'label': 'Latham village', 'value': 'Latham village, Illinois'},\n",
       " {'label': 'Lawrenceville city', 'value': 'Lawrenceville city, Illinois'},\n",
       " {'label': 'Leaf River village', 'value': 'Leaf River village, Illinois'},\n",
       " {'label': 'Lebanon city', 'value': 'Lebanon city, Illinois'},\n",
       " {'label': 'Lee village', 'value': 'Lee village, Illinois'},\n",
       " {'label': 'Leland village', 'value': 'Leland village, Illinois'},\n",
       " {'label': 'Leland Grove city', 'value': 'Leland Grove city, Illinois'},\n",
       " {'label': 'Lemont village', 'value': 'Lemont village, Illinois'},\n",
       " {'label': 'Lena village', 'value': 'Lena village, Illinois'},\n",
       " {'label': 'Lenzburg village', 'value': 'Lenzburg village, Illinois'},\n",
       " {'label': 'Leonore village', 'value': 'Leonore village, Illinois'},\n",
       " {'label': 'Lerna village', 'value': 'Lerna village, Illinois'},\n",
       " {'label': 'Le Roy city', 'value': 'Le Roy city, Illinois'},\n",
       " {'label': 'Lewistown city', 'value': 'Lewistown city, Illinois'},\n",
       " {'label': 'Lexington city', 'value': 'Lexington city, Illinois'},\n",
       " {'label': 'Liberty village', 'value': 'Liberty village, Illinois'},\n",
       " {'label': 'Libertyville village', 'value': 'Libertyville village, Illinois'},\n",
       " {'label': 'Lily Lake village', 'value': 'Lily Lake village, Illinois'},\n",
       " {'label': 'Lima village', 'value': 'Lima village, Illinois'},\n",
       " {'label': 'Limestone village', 'value': 'Limestone village, Illinois'},\n",
       " {'label': 'Lincoln city', 'value': 'Lincoln city, Illinois'},\n",
       " {'label': 'Lincolnshire village', 'value': 'Lincolnshire village, Illinois'},\n",
       " {'label': 'Lincolnwood village', 'value': 'Lincolnwood village, Illinois'},\n",
       " {'label': 'Lindenhurst village', 'value': 'Lindenhurst village, Illinois'},\n",
       " {'label': 'Lisbon village', 'value': 'Lisbon village, Illinois'},\n",
       " {'label': 'Lisle village', 'value': 'Lisle village, Illinois'},\n",
       " {'label': 'Litchfield city', 'value': 'Litchfield city, Illinois'},\n",
       " {'label': 'Littleton village', 'value': 'Littleton village, Illinois'},\n",
       " {'label': 'Little York village', 'value': 'Little York village, Illinois'},\n",
       " {'label': 'Liverpool village', 'value': 'Liverpool village, Illinois'},\n",
       " {'label': 'Livingston village', 'value': 'Livingston village, Illinois'},\n",
       " {'label': 'Loami village', 'value': 'Loami village, Illinois'},\n",
       " {'label': 'Lockport city', 'value': 'Lockport city, Illinois'},\n",
       " {'label': 'Loda village', 'value': 'Loda village, Illinois'},\n",
       " {'label': 'Lomax village', 'value': 'Lomax village, Illinois'},\n",
       " {'label': 'Lombard village', 'value': 'Lombard village, Illinois'},\n",
       " {'label': 'London Mills village', 'value': 'London Mills village, Illinois'},\n",
       " {'label': 'Long Creek village', 'value': 'Long Creek village, Illinois'},\n",
       " {'label': 'Long Grove village', 'value': 'Long Grove village, Illinois'},\n",
       " {'label': 'Long Point village', 'value': 'Long Point village, Illinois'},\n",
       " {'label': 'Longview village', 'value': 'Longview village, Illinois'},\n",
       " {'label': 'Loraine village', 'value': 'Loraine village, Illinois'},\n",
       " {'label': 'Lostant village', 'value': 'Lostant village, Illinois'},\n",
       " {'label': 'Louisville village', 'value': 'Louisville village, Illinois'},\n",
       " {'label': 'Loves Park city', 'value': 'Loves Park city, Illinois'},\n",
       " {'label': 'Lovington village', 'value': 'Lovington village, Illinois'},\n",
       " {'label': 'Ludlow village', 'value': 'Ludlow village, Illinois'},\n",
       " {'label': 'Lyndon village', 'value': 'Lyndon village, Illinois'},\n",
       " {'label': 'Lynnville village', 'value': 'Lynnville village, Illinois'},\n",
       " {'label': 'Lynwood village', 'value': 'Lynwood village, Illinois'},\n",
       " {'label': 'Lyons village', 'value': 'Lyons village, Illinois'},\n",
       " {'label': 'McClure village', 'value': 'McClure village, Illinois'},\n",
       " {'label': 'McCook village', 'value': 'McCook village, Illinois'},\n",
       " {'label': 'McCullom Lake village',\n",
       "  'value': 'McCullom Lake village, Illinois'},\n",
       " {'label': 'Macedonia village', 'value': 'Macedonia village, Illinois'},\n",
       " {'label': 'McHenry city', 'value': 'McHenry city, Illinois'},\n",
       " {'label': 'Machesney Park village',\n",
       "  'value': 'Machesney Park village, Illinois'},\n",
       " {'label': 'Mackinaw village', 'value': 'Mackinaw village, Illinois'},\n",
       " {'label': 'McLean village', 'value': 'McLean village, Illinois'},\n",
       " {'label': 'McLeansboro city', 'value': 'McLeansboro city, Illinois'},\n",
       " {'label': 'McNabb village', 'value': 'McNabb village, Illinois'},\n",
       " {'label': 'Macomb city', 'value': 'Macomb city, Illinois'},\n",
       " {'label': 'Macon city', 'value': 'Macon city, Illinois'},\n",
       " {'label': 'Madison city', 'value': 'Madison city, Illinois'},\n",
       " {'label': 'Maeystown village', 'value': 'Maeystown village, Illinois'},\n",
       " {'label': 'Magnolia village', 'value': 'Magnolia village, Illinois'},\n",
       " {'label': 'Mahomet village', 'value': 'Mahomet village, Illinois'},\n",
       " {'label': 'Makanda village', 'value': 'Makanda village, Illinois'},\n",
       " {'label': 'Malden village', 'value': 'Malden village, Illinois'},\n",
       " {'label': 'Malta village', 'value': 'Malta village, Illinois'},\n",
       " {'label': 'Manchester village', 'value': 'Manchester village, Illinois'},\n",
       " {'label': 'Manhattan village', 'value': 'Manhattan village, Illinois'},\n",
       " {'label': 'Manito village', 'value': 'Manito village, Illinois'},\n",
       " {'label': 'Manlius village', 'value': 'Manlius village, Illinois'},\n",
       " {'label': 'Mansfield village', 'value': 'Mansfield village, Illinois'},\n",
       " {'label': 'Manteno village', 'value': 'Manteno village, Illinois'},\n",
       " {'label': 'Maple Park village', 'value': 'Maple Park village, Illinois'},\n",
       " {'label': 'Mapleton village', 'value': 'Mapleton village, Illinois'},\n",
       " {'label': 'Maquon village', 'value': 'Maquon village, Illinois'},\n",
       " {'label': 'Marengo city', 'value': 'Marengo city, Illinois'},\n",
       " {'label': 'Marietta village', 'value': 'Marietta village, Illinois'},\n",
       " {'label': 'Marine village', 'value': 'Marine village, Illinois'},\n",
       " {'label': 'Marion city', 'value': 'Marion city, Illinois'},\n",
       " {'label': 'Marissa village', 'value': 'Marissa village, Illinois'},\n",
       " {'label': 'Mark village', 'value': 'Mark village, Illinois'},\n",
       " {'label': 'Markham city', 'value': 'Markham city, Illinois'},\n",
       " {'label': 'Maroa city', 'value': 'Maroa city, Illinois'},\n",
       " {'label': 'Marquette Heights city',\n",
       "  'value': 'Marquette Heights city, Illinois'},\n",
       " {'label': 'Marseilles city', 'value': 'Marseilles city, Illinois'},\n",
       " {'label': 'Marshall city', 'value': 'Marshall city, Illinois'},\n",
       " {'label': 'Martinsville city', 'value': 'Martinsville city, Illinois'},\n",
       " {'label': 'Martinton village', 'value': 'Martinton village, Illinois'},\n",
       " {'label': 'Maryville village', 'value': 'Maryville village, Illinois'},\n",
       " {'label': 'Mascoutah city', 'value': 'Mascoutah city, Illinois'},\n",
       " {'label': 'Mason town', 'value': 'Mason town, Illinois'},\n",
       " {'label': 'Mason City city', 'value': 'Mason City city, Illinois'},\n",
       " {'label': 'Matherville village', 'value': 'Matherville village, Illinois'},\n",
       " {'label': 'Matteson village', 'value': 'Matteson village, Illinois'},\n",
       " {'label': 'Mattoon city', 'value': 'Mattoon city, Illinois'},\n",
       " {'label': 'Maunie village', 'value': 'Maunie village, Illinois'},\n",
       " {'label': 'Maywood village', 'value': 'Maywood village, Illinois'},\n",
       " {'label': 'Mazon village', 'value': 'Mazon village, Illinois'},\n",
       " {'label': 'Mechanicsburg village',\n",
       "  'value': 'Mechanicsburg village, Illinois'},\n",
       " {'label': 'Media village', 'value': 'Media village, Illinois'},\n",
       " {'label': 'Medora village', 'value': 'Medora village, Illinois'},\n",
       " {'label': 'Melrose Park village', 'value': 'Melrose Park village, Illinois'},\n",
       " {'label': 'Melvin village', 'value': 'Melvin village, Illinois'},\n",
       " {'label': 'Mendon village', 'value': 'Mendon village, Illinois'},\n",
       " {'label': 'Mendota city', 'value': 'Mendota city, Illinois'},\n",
       " {'label': 'Menominee village', 'value': 'Menominee village, Illinois'},\n",
       " {'label': 'Meredosia village', 'value': 'Meredosia village, Illinois'},\n",
       " {'label': 'Merrionette Park village',\n",
       "  'value': 'Merrionette Park village, Illinois'},\n",
       " {'label': 'Metamora village', 'value': 'Metamora village, Illinois'},\n",
       " {'label': 'Metcalf village', 'value': 'Metcalf village, Illinois'},\n",
       " {'label': 'Metropolis city', 'value': 'Metropolis city, Illinois'},\n",
       " {'label': 'Mettawa village', 'value': 'Mettawa village, Illinois'},\n",
       " {'label': 'Middletown village', 'value': 'Middletown village, Illinois'},\n",
       " {'label': 'Midlothian village', 'value': 'Midlothian village, Illinois'},\n",
       " {'label': 'Milan village', 'value': 'Milan village, Illinois'},\n",
       " {'label': 'Milford village', 'value': 'Milford village, Illinois'},\n",
       " {'label': 'Millbrook village', 'value': 'Millbrook village, Illinois'},\n",
       " {'label': 'Mill Creek village', 'value': 'Mill Creek village, Illinois'},\n",
       " {'label': 'Milledgeville village',\n",
       "  'value': 'Milledgeville village, Illinois'},\n",
       " {'label': 'Millington village', 'value': 'Millington village, Illinois'},\n",
       " {'label': 'Mill Shoals village', 'value': 'Mill Shoals village, Illinois'},\n",
       " {'label': 'Millstadt village', 'value': 'Millstadt village, Illinois'},\n",
       " {'label': 'Milton village', 'value': 'Milton village, Illinois'},\n",
       " {'label': 'Mineral village', 'value': 'Mineral village, Illinois'},\n",
       " {'label': 'Minier village', 'value': 'Minier village, Illinois'},\n",
       " {'label': 'Minonk city', 'value': 'Minonk city, Illinois'},\n",
       " {'label': 'Minooka village', 'value': 'Minooka village, Illinois'},\n",
       " {'label': 'Modesto village', 'value': 'Modesto village, Illinois'},\n",
       " {'label': 'Mokena village', 'value': 'Mokena village, Illinois'},\n",
       " {'label': 'Moline city', 'value': 'Moline city, Illinois'},\n",
       " {'label': 'Momence city', 'value': 'Momence city, Illinois'},\n",
       " {'label': 'Monee village', 'value': 'Monee village, Illinois'},\n",
       " {'label': 'Monmouth city', 'value': 'Monmouth city, Illinois'},\n",
       " {'label': 'Monroe Center village',\n",
       "  'value': 'Monroe Center village, Illinois'},\n",
       " {'label': 'Montgomery village', 'value': 'Montgomery village, Illinois'},\n",
       " {'label': 'Monticello city', 'value': 'Monticello city, Illinois'},\n",
       " {'label': 'Montrose village', 'value': 'Montrose village, Illinois'},\n",
       " {'label': 'Morris city', 'value': 'Morris city, Illinois'},\n",
       " {'label': 'Morrison city', 'value': 'Morrison city, Illinois'},\n",
       " {'label': 'Morrisonville village',\n",
       "  'value': 'Morrisonville village, Illinois'},\n",
       " {'label': 'Morton village', 'value': 'Morton village, Illinois'},\n",
       " {'label': 'Morton Grove village', 'value': 'Morton Grove village, Illinois'},\n",
       " {'label': 'Mound City city', 'value': 'Mound City city, Illinois'},\n",
       " {'label': 'Mounds city', 'value': 'Mounds city, Illinois'},\n",
       " {'label': 'Mound Station village',\n",
       "  'value': 'Mound Station village, Illinois'},\n",
       " {'label': 'Mount Auburn village', 'value': 'Mount Auburn village, Illinois'},\n",
       " {'label': 'Mount Carmel city', 'value': 'Mount Carmel city, Illinois'},\n",
       " {'label': 'Mount Carroll city', 'value': 'Mount Carroll city, Illinois'},\n",
       " {'label': 'Mount Clare village', 'value': 'Mount Clare village, Illinois'},\n",
       " {'label': 'Mount Erie village', 'value': 'Mount Erie village, Illinois'},\n",
       " {'label': 'Mount Morris village', 'value': 'Mount Morris village, Illinois'},\n",
       " {'label': 'Mount Olive city', 'value': 'Mount Olive city, Illinois'},\n",
       " {'label': 'Mount Prospect village',\n",
       "  'value': 'Mount Prospect village, Illinois'},\n",
       " {'label': 'Mount Pulaski city', 'value': 'Mount Pulaski city, Illinois'},\n",
       " {'label': 'Mount Sterling city', 'value': 'Mount Sterling city, Illinois'},\n",
       " {'label': 'Mount Vernon city', 'value': 'Mount Vernon city, Illinois'},\n",
       " {'label': 'Mount Zion village', 'value': 'Mount Zion village, Illinois'},\n",
       " {'label': 'Moweaqua village', 'value': 'Moweaqua village, Illinois'},\n",
       " {'label': 'Muddy village', 'value': 'Muddy village, Illinois'},\n",
       " {'label': 'Mulberry Grove village',\n",
       "  'value': 'Mulberry Grove village, Illinois'},\n",
       " {'label': 'Muncie village', 'value': 'Muncie village, Illinois'},\n",
       " {'label': 'Mundelein village', 'value': 'Mundelein village, Illinois'},\n",
       " {'label': 'Murphysboro city', 'value': 'Murphysboro city, Illinois'},\n",
       " {'label': 'Murrayville village', 'value': 'Murrayville village, Illinois'},\n",
       " {'label': 'Naperville city', 'value': 'Naperville city, Illinois'},\n",
       " {'label': 'Naplate village', 'value': 'Naplate village, Illinois'},\n",
       " {'label': 'Naples town', 'value': 'Naples town, Illinois'},\n",
       " {'label': 'Nashville city', 'value': 'Nashville city, Illinois'},\n",
       " {'label': 'Nason city', 'value': 'Nason city, Illinois'},\n",
       " {'label': 'Nauvoo city', 'value': 'Nauvoo city, Illinois'},\n",
       " {'label': 'Nebo village', 'value': 'Nebo village, Illinois'},\n",
       " {'label': 'Nelson village', 'value': 'Nelson village, Illinois'},\n",
       " {'label': 'Neoga city', 'value': 'Neoga city, Illinois'},\n",
       " {'label': 'Neponset village', 'value': 'Neponset village, Illinois'},\n",
       " {'label': 'Newark village', 'value': 'Newark village, Illinois'},\n",
       " {'label': 'New Athens village', 'value': 'New Athens village, Illinois'},\n",
       " {'label': 'New Baden village', 'value': 'New Baden village, Illinois'},\n",
       " {'label': 'New Bedford village', 'value': 'New Bedford village, Illinois'},\n",
       " {'label': 'New Berlin village', 'value': 'New Berlin village, Illinois'},\n",
       " {'label': 'New Boston city', 'value': 'New Boston city, Illinois'},\n",
       " {'label': 'New Burnside village', 'value': 'New Burnside village, Illinois'},\n",
       " {'label': 'New Canton town', 'value': 'New Canton town, Illinois'},\n",
       " {'label': 'New Douglas village', 'value': 'New Douglas village, Illinois'},\n",
       " {'label': 'New Grand Chain village',\n",
       "  'value': 'New Grand Chain village, Illinois'},\n",
       " {'label': 'New Haven village', 'value': 'New Haven village, Illinois'},\n",
       " {'label': 'New Holland village', 'value': 'New Holland village, Illinois'},\n",
       " {'label': 'New Lenox village', 'value': 'New Lenox village, Illinois'},\n",
       " {'label': 'Newman city', 'value': 'Newman city, Illinois'},\n",
       " {'label': 'New Milford village', 'value': 'New Milford village, Illinois'},\n",
       " {'label': 'New Minden village', 'value': 'New Minden village, Illinois'},\n",
       " {'label': 'New Salem village', 'value': 'New Salem village, Illinois'},\n",
       " {'label': 'Newton city', 'value': 'Newton city, Illinois'},\n",
       " {'label': 'Niantic village', 'value': 'Niantic village, Illinois'},\n",
       " {'label': 'Niles village', 'value': 'Niles village, Illinois'},\n",
       " {'label': 'Nilwood town', 'value': 'Nilwood town, Illinois'},\n",
       " {'label': 'Noble village', 'value': 'Noble village, Illinois'},\n",
       " {'label': 'Nokomis city', 'value': 'Nokomis city, Illinois'},\n",
       " {'label': 'Nora village', 'value': 'Nora village, Illinois'},\n",
       " {'label': 'Normal town', 'value': 'Normal town, Illinois'},\n",
       " {'label': 'Norridge village', 'value': 'Norridge village, Illinois'},\n",
       " {'label': 'Norris village', 'value': 'Norris village, Illinois'},\n",
       " {'label': 'Norris City village', 'value': 'Norris City village, Illinois'},\n",
       " {'label': 'North Aurora village', 'value': 'North Aurora village, Illinois'},\n",
       " {'label': 'North Barrington village',\n",
       "  'value': 'North Barrington village, Illinois'},\n",
       " {'label': 'Northbrook village', 'value': 'Northbrook village, Illinois'},\n",
       " {'label': 'North Chicago city', 'value': 'North Chicago city, Illinois'},\n",
       " {'label': 'North City village', 'value': 'North City village, Illinois'},\n",
       " {'label': 'Northfield village', 'value': 'Northfield village, Illinois'},\n",
       " {'label': 'North Henderson village',\n",
       "  'value': 'North Henderson village, Illinois'},\n",
       " {'label': 'Northlake city', 'value': 'Northlake city, Illinois'},\n",
       " {'label': 'North Pekin village', 'value': 'North Pekin village, Illinois'},\n",
       " {'label': 'North Riverside village',\n",
       "  'value': 'North Riverside village, Illinois'},\n",
       " {'label': 'North Utica village', 'value': 'North Utica village, Illinois'},\n",
       " {'label': 'Norwood village', 'value': 'Norwood village, Illinois'},\n",
       " {'label': 'Oak Brook village', 'value': 'Oak Brook village, Illinois'},\n",
       " {'label': 'Oakbrook Terrace city',\n",
       "  'value': 'Oakbrook Terrace city, Illinois'},\n",
       " {'label': 'Oakdale village', 'value': 'Oakdale village, Illinois'},\n",
       " {'label': 'Oakford village', 'value': 'Oakford village, Illinois'},\n",
       " {'label': 'Oak Forest city', 'value': 'Oak Forest city, Illinois'},\n",
       " {'label': 'Oak Grove village', 'value': 'Oak Grove village, Illinois'},\n",
       " {'label': 'Oakland city', 'value': 'Oakland city, Illinois'},\n",
       " {'label': 'Oak Lawn village', 'value': 'Oak Lawn village, Illinois'},\n",
       " {'label': 'Oak Park village', 'value': 'Oak Park village, Illinois'},\n",
       " {'label': 'Oakwood village', 'value': 'Oakwood village, Illinois'},\n",
       " {'label': 'Oakwood Hills village',\n",
       "  'value': 'Oakwood Hills village, Illinois'},\n",
       " {'label': 'Oblong village', 'value': 'Oblong village, Illinois'},\n",
       " {'label': 'Oconee village', 'value': 'Oconee village, Illinois'},\n",
       " {'label': 'Odell village', 'value': 'Odell village, Illinois'},\n",
       " {'label': 'Odin village', 'value': 'Odin village, Illinois'},\n",
       " {'label': \"O'Fallon city\", 'value': \"O'Fallon city, Illinois\"},\n",
       " {'label': 'Ogden village', 'value': 'Ogden village, Illinois'},\n",
       " {'label': 'Oglesby city', 'value': 'Oglesby city, Illinois'},\n",
       " {'label': 'Ohio village', 'value': 'Ohio village, Illinois'},\n",
       " {'label': 'Ohlman village', 'value': 'Ohlman village, Illinois'},\n",
       " {'label': 'Okawville village', 'value': 'Okawville village, Illinois'},\n",
       " {'label': 'Old Mill Creek village',\n",
       "  'value': 'Old Mill Creek village, Illinois'},\n",
       " {'label': 'Old Ripley village', 'value': 'Old Ripley village, Illinois'},\n",
       " {'label': 'Old Shawneetown village',\n",
       "  'value': 'Old Shawneetown village, Illinois'},\n",
       " {'label': 'Olmsted village', 'value': 'Olmsted village, Illinois'},\n",
       " {'label': 'Olney city', 'value': 'Olney city, Illinois'},\n",
       " {'label': 'Olympia Fields village',\n",
       "  'value': 'Olympia Fields village, Illinois'},\n",
       " {'label': 'Omaha village', 'value': 'Omaha village, Illinois'},\n",
       " {'label': 'Onarga village', 'value': 'Onarga village, Illinois'},\n",
       " {'label': 'Oneida city', 'value': 'Oneida city, Illinois'},\n",
       " {'label': 'Oquawka village', 'value': 'Oquawka village, Illinois'},\n",
       " {'label': 'Orangeville village', 'value': 'Orangeville village, Illinois'},\n",
       " {'label': 'Oreana village', 'value': 'Oreana village, Illinois'},\n",
       " {'label': 'Oregon city', 'value': 'Oregon city, Illinois'},\n",
       " {'label': 'Orient city', 'value': 'Orient city, Illinois'},\n",
       " {'label': 'Orion village', 'value': 'Orion village, Illinois'},\n",
       " {'label': 'Orland Hills village', 'value': 'Orland Hills village, Illinois'},\n",
       " {'label': 'Orland Park village', 'value': 'Orland Park village, Illinois'},\n",
       " {'label': 'Oswego village', 'value': 'Oswego village, Illinois'},\n",
       " {'label': 'Ottawa city', 'value': 'Ottawa city, Illinois'},\n",
       " {'label': 'Otterville town', 'value': 'Otterville town, Illinois'},\n",
       " {'label': 'Owaneco village', 'value': 'Owaneco village, Illinois'},\n",
       " {'label': 'Palatine village', 'value': 'Palatine village, Illinois'},\n",
       " {'label': 'Palestine village', 'value': 'Palestine village, Illinois'},\n",
       " {'label': 'Palmer village', 'value': 'Palmer village, Illinois'},\n",
       " {'label': 'Palmyra village', 'value': 'Palmyra village, Illinois'},\n",
       " {'label': 'Palos Heights city', 'value': 'Palos Heights city, Illinois'},\n",
       " {'label': 'Palos Hills city', 'value': 'Palos Hills city, Illinois'},\n",
       " {'label': 'Palos Park village', 'value': 'Palos Park village, Illinois'},\n",
       " {'label': 'Pana city', 'value': 'Pana city, Illinois'},\n",
       " {'label': 'Panama village', 'value': 'Panama village, Illinois'},\n",
       " {'label': 'Panola village', 'value': 'Panola village, Illinois'},\n",
       " {'label': 'Papineau village', 'value': 'Papineau village, Illinois'},\n",
       " {'label': 'Paris city', 'value': 'Paris city, Illinois'},\n",
       " {'label': 'Park City city', 'value': 'Park City city, Illinois'},\n",
       " {'label': 'Parkersburg village', 'value': 'Parkersburg village, Illinois'},\n",
       " {'label': 'Park Forest village', 'value': 'Park Forest village, Illinois'},\n",
       " {'label': 'Park Ridge city', 'value': 'Park Ridge city, Illinois'},\n",
       " {'label': 'Patoka village', 'value': 'Patoka village, Illinois'},\n",
       " {'label': 'Pawnee village', 'value': 'Pawnee village, Illinois'},\n",
       " {'label': 'Paw Paw village', 'value': 'Paw Paw village, Illinois'},\n",
       " {'label': 'Paxton city', 'value': 'Paxton city, Illinois'},\n",
       " {'label': 'Payson village', 'value': 'Payson village, Illinois'},\n",
       " {'label': 'Pearl village', 'value': 'Pearl village, Illinois'},\n",
       " {'label': 'Pearl City village', 'value': 'Pearl City village, Illinois'},\n",
       " {'label': 'Pecatonica village', 'value': 'Pecatonica village, Illinois'},\n",
       " {'label': 'Pekin city', 'value': 'Pekin city, Illinois'},\n",
       " {'label': 'Peoria city', 'value': 'Peoria city, Illinois'},\n",
       " {'label': 'Peoria Heights village',\n",
       "  'value': 'Peoria Heights village, Illinois'},\n",
       " {'label': 'Peotone village', 'value': 'Peotone village, Illinois'},\n",
       " {'label': 'Percy village', 'value': 'Percy village, Illinois'},\n",
       " {'label': 'Perry village', 'value': 'Perry village, Illinois'},\n",
       " {'label': 'Peru city', 'value': 'Peru city, Illinois'},\n",
       " {'label': 'Pesotum village', 'value': 'Pesotum village, Illinois'},\n",
       " {'label': 'Petersburg city', 'value': 'Petersburg city, Illinois'},\n",
       " {'label': 'Phillipstown village', 'value': 'Phillipstown village, Illinois'},\n",
       " {'label': 'Philo village', 'value': 'Philo village, Illinois'},\n",
       " {'label': 'Phoenix village', 'value': 'Phoenix village, Illinois'},\n",
       " {'label': 'Pierron village', 'value': 'Pierron village, Illinois'},\n",
       " {'label': 'Pinckneyville city', 'value': 'Pinckneyville city, Illinois'},\n",
       " {'label': 'Pingree Grove village',\n",
       "  'value': 'Pingree Grove village, Illinois'},\n",
       " {'label': 'Piper City village', 'value': 'Piper City village, Illinois'},\n",
       " {'label': 'Pittsburg village', 'value': 'Pittsburg village, Illinois'},\n",
       " {'label': 'Pittsfield city', 'value': 'Pittsfield city, Illinois'},\n",
       " {'label': 'Plainfield village', 'value': 'Plainfield village, Illinois'},\n",
       " {'label': 'Plainville village', 'value': 'Plainville village, Illinois'},\n",
       " {'label': 'Plano city', 'value': 'Plano city, Illinois'},\n",
       " {'label': 'Plattville village', 'value': 'Plattville village, Illinois'},\n",
       " {'label': 'Pleasant Hill village',\n",
       "  'value': 'Pleasant Hill village, Illinois'},\n",
       " {'label': 'Pleasant Plains village',\n",
       "  'value': 'Pleasant Plains village, Illinois'},\n",
       " {'label': 'Plymouth village', 'value': 'Plymouth village, Illinois'},\n",
       " {'label': 'Pocahontas village', 'value': 'Pocahontas village, Illinois'},\n",
       " {'label': 'Polo city', 'value': 'Polo city, Illinois'},\n",
       " {'label': 'Pontiac city', 'value': 'Pontiac city, Illinois'},\n",
       " {'label': 'Pontoon Beach village',\n",
       "  'value': 'Pontoon Beach village, Illinois'},\n",
       " {'label': 'Pontoosuc village', 'value': 'Pontoosuc village, Illinois'},\n",
       " {'label': 'Poplar Grove village', 'value': 'Poplar Grove village, Illinois'},\n",
       " {'label': 'Port Barrington village',\n",
       "  'value': 'Port Barrington village, Illinois'},\n",
       " {'label': 'Port Byron village', 'value': 'Port Byron village, Illinois'},\n",
       " {'label': 'Posen village', 'value': 'Posen village, Illinois'},\n",
       " {'label': 'Potomac village', 'value': 'Potomac village, Illinois'},\n",
       " {'label': 'Prairie City village', 'value': 'Prairie City village, Illinois'},\n",
       " {'label': 'Prairie du Rocher village',\n",
       "  'value': 'Prairie du Rocher village, Illinois'},\n",
       " {'label': 'Prairie Grove village',\n",
       "  'value': 'Prairie Grove village, Illinois'},\n",
       " {'label': 'Princeton city', 'value': 'Princeton city, Illinois'},\n",
       " {'label': 'Princeville village', 'value': 'Princeville village, Illinois'},\n",
       " {'label': 'Prophetstown city', 'value': 'Prophetstown city, Illinois'},\n",
       " {'label': 'Prospect Heights city',\n",
       "  'value': 'Prospect Heights city, Illinois'},\n",
       " {'label': 'Pulaski village', 'value': 'Pulaski village, Illinois'},\n",
       " {'label': 'Quincy city', 'value': 'Quincy city, Illinois'},\n",
       " {'label': 'Radom village', 'value': 'Radom village, Illinois'},\n",
       " {'label': 'Raleigh village', 'value': 'Raleigh village, Illinois'},\n",
       " {'label': 'Ramsey village', 'value': 'Ramsey village, Illinois'},\n",
       " {'label': 'Rankin village', 'value': 'Rankin village, Illinois'},\n",
       " {'label': 'Ransom village', 'value': 'Ransom village, Illinois'},\n",
       " {'label': 'Rantoul village', 'value': 'Rantoul village, Illinois'},\n",
       " {'label': 'Rapids City village', 'value': 'Rapids City village, Illinois'},\n",
       " {'label': 'Raritan village', 'value': 'Raritan village, Illinois'},\n",
       " {'label': 'Raymond village', 'value': 'Raymond village, Illinois'},\n",
       " {'label': 'Red Bud city', 'value': 'Red Bud city, Illinois'},\n",
       " {'label': 'Reddick village', 'value': 'Reddick village, Illinois'},\n",
       " {'label': 'Redmon village', 'value': 'Redmon village, Illinois'},\n",
       " {'label': 'Reynolds village', 'value': 'Reynolds village, Illinois'},\n",
       " {'label': 'Richmond village', 'value': 'Richmond village, Illinois'},\n",
       " {'label': 'Richton Park village', 'value': 'Richton Park village, Illinois'},\n",
       " {'label': 'Richview village', 'value': 'Richview village, Illinois'},\n",
       " {'label': 'Ridge Farm village', 'value': 'Ridge Farm village, Illinois'},\n",
       " {'label': 'Ridgway village', 'value': 'Ridgway village, Illinois'},\n",
       " {'label': 'Ridott village', 'value': 'Ridott village, Illinois'},\n",
       " {'label': 'Ringwood village', 'value': 'Ringwood village, Illinois'},\n",
       " {'label': 'Rio village', 'value': 'Rio village, Illinois'},\n",
       " {'label': 'Ripley village', 'value': 'Ripley village, Illinois'},\n",
       " {'label': 'Riverdale village', 'value': 'Riverdale village, Illinois'},\n",
       " {'label': 'River Forest village', 'value': 'River Forest village, Illinois'},\n",
       " {'label': 'River Grove village', 'value': 'River Grove village, Illinois'},\n",
       " {'label': 'Riverside village', 'value': 'Riverside village, Illinois'},\n",
       " {'label': 'Riverton village', 'value': 'Riverton village, Illinois'},\n",
       " {'label': 'Riverwoods village', 'value': 'Riverwoods village, Illinois'},\n",
       " {'label': 'Roanoke village', 'value': 'Roanoke village, Illinois'},\n",
       " {'label': 'Robbins village', 'value': 'Robbins village, Illinois'},\n",
       " {'label': 'Roberts village', 'value': 'Roberts village, Illinois'},\n",
       " {'label': 'Robinson city', 'value': 'Robinson city, Illinois'},\n",
       " {'label': 'Rochelle city', 'value': 'Rochelle city, Illinois'},\n",
       " {'label': 'Rochester village', 'value': 'Rochester village, Illinois'},\n",
       " {'label': 'Rockbridge village', 'value': 'Rockbridge village, Illinois'},\n",
       " {'label': 'Rock City village', 'value': 'Rock City village, Illinois'},\n",
       " ...]"
      ]
     },
     "execution_count": 59,
     "metadata": {},
     "output_type": "execute_result"
    }
   ],
   "source": [
    "dropdown"
   ]
  },
  {
   "cell_type": "code",
   "execution_count": 62,
   "metadata": {
    "ExecuteTime": {
     "end_time": "2019-10-03T04:22:31.787865Z",
     "start_time": "2019-10-03T04:22:31.781764Z"
    }
   },
   "outputs": [],
   "source": [
    "with open('dropdown', 'wb') as fp:\n",
    "    pickle.dump(dropdown, fp)"
   ]
  },
  {
   "cell_type": "code",
   "execution_count": null,
   "metadata": {},
   "outputs": [],
   "source": [
    "go.Scatter()"
   ]
  }
 ],
 "metadata": {
  "hide_input": false,
  "kernelspec": {
   "display_name": "Python 3",
   "language": "python",
   "name": "python3"
  },
  "language_info": {
   "codemirror_mode": {
    "name": "ipython",
    "version": 3
   },
   "file_extension": ".py",
   "mimetype": "text/x-python",
   "name": "python",
   "nbconvert_exporter": "python",
   "pygments_lexer": "ipython3",
   "version": "3.7.3"
  },
  "toc": {
   "base_numbering": 1,
   "nav_menu": {},
   "number_sections": false,
   "sideBar": true,
   "skip_h1_title": true,
   "title_cell": "Table of Contents",
   "title_sidebar": "Contents",
   "toc_cell": false,
   "toc_position": {},
   "toc_section_display": true,
   "toc_window_display": false
  },
  "varInspector": {
   "cols": {
    "lenName": 16,
    "lenType": 16,
    "lenVar": 40
   },
   "kernels_config": {
    "python": {
     "delete_cmd_postfix": "",
     "delete_cmd_prefix": "del ",
     "library": "var_list.py",
     "varRefreshCmd": "print(var_dic_list())"
    },
    "r": {
     "delete_cmd_postfix": ") ",
     "delete_cmd_prefix": "rm(",
     "library": "var_list.r",
     "varRefreshCmd": "cat(var_dic_list()) "
    }
   },
   "types_to_exclude": [
    "module",
    "function",
    "builtin_function_or_method",
    "instance",
    "_Feature"
   ],
   "window_display": false
  }
 },
 "nbformat": 4,
 "nbformat_minor": 2
}
